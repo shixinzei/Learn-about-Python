{
 "cells": [
  {
   "cell_type": "markdown",
   "metadata": {},
   "source": [
    "常用数学、统计方法"
   ]
  },
  {
   "cell_type": "code",
   "execution_count": 1,
   "metadata": {},
   "outputs": [],
   "source": [
    "import numpy as np\n",
    "import pandas as pd  \n",
    "# 导入numpy、pandas模块"
   ]
  },
  {
   "cell_type": "code",
   "execution_count": 9,
   "metadata": {},
   "outputs": [
    {
     "name": "stdout",
     "output_type": "stream",
     "text": [
      "   key1  key2 key3\n",
      "a   4.0   1.0    1\n",
      "b   5.0   2.0    2\n",
      "c   3.0   NaN    3\n",
      "d   NaN   4.0    j\n",
      "e   2.0   5.0    k\n",
      "float64 float64 object\n",
      "----------------\n",
      "key1    3.5\n",
      "key2    3.0\n",
      "dtype: float64 <class 'pandas.core.series.Series'>\n",
      "单独统计一列: 3.0\n",
      "----------------\n",
      "a    2.5\n",
      "b    3.5\n",
      "c    3.0\n",
      "d    4.0\n",
      "e    3.5\n",
      "dtype: float64\n",
      "-------------\n",
      "key1   NaN\n",
      "key2   NaN\n",
      "dtype: float64\n"
     ]
    }
   ],
   "source": [
    "# 基本参数：axis、skipna\n",
    "\n",
    "df = pd.DataFrame({'key1':[4,5,3,np.nan,2],\n",
    "                 'key2':[1,2,np.nan,4,5],\n",
    "                 'key3':[1,2,3,'j','k']},\n",
    "                 index = ['a','b','c','d','e'])\n",
    "print(df)\n",
    "print(df['key1'].dtype,df['key2'].dtype,df['key3'].dtype)\n",
    "print(\"----------------\")\n",
    "\n",
    "m1 = df.mean()\n",
    "print(m1,type(m1))\n",
    "print('单独统计一列:',df['key2'].mean())\n",
    "print('----------------')\n",
    "# np.nan ：空值\n",
    "# .mean()计算均值\n",
    "# 只统计数字列\n",
    "# 可以通过索引单独统计一列\n",
    "\n",
    "m2 = df.mean(axis=1)\n",
    "print(m2)\n",
    "print('-------------')\n",
    "# axis参数：默认为0，以列来计算，axis=1，以行来计算，这里就按照行来汇总了\n",
    "\n",
    "m3 = df.mean(skipna=False)\n",
    "print(m3)"
   ]
  },
  {
   "cell_type": "code",
   "execution_count": 10,
   "metadata": {},
   "outputs": [
    {
     "name": "stdout",
     "output_type": "stream",
     "text": [
      "   key1      key2\n",
      "0     0  0.124619\n",
      "1     1  3.347422\n",
      "2     2  2.996430\n",
      "3     3  3.714977\n",
      "4     4  6.221299\n",
      "5     5  5.177436\n",
      "6     6  3.708368\n",
      "7     7  3.748042\n",
      "8     8  6.220466\n",
      "9     9  6.145499\n"
     ]
    }
   ],
   "source": [
    "# 主要数学计算方法，可用于Series和DataFrame（1）\n",
    "\n",
    "df = pd.DataFrame({'key1':np.arange(10),\n",
    "                  'key2':np.random.rand(10)*10})\n",
    "print(df)"
   ]
  },
  {
   "cell_type": "code",
   "execution_count": 17,
   "metadata": {},
   "outputs": [
    {
     "name": "stdout",
     "output_type": "stream",
     "text": [
      "key1    10\n",
      "key2    10\n",
      "dtype: int64 → count统计非Na值的数量\n"
     ]
    }
   ],
   "source": [
    "print(df.count(),'→ count统计非Na值的数量')"
   ]
  },
  {
   "cell_type": "code",
   "execution_count": 16,
   "metadata": {},
   "outputs": [
    {
     "name": "stdout",
     "output_type": "stream",
     "text": [
      "key1    0.000000\n",
      "key2    0.124619\n",
      "dtype: float64 → min统计最小值\n",
      " 6.221299334492603 → max统计最大值\n"
     ]
    }
   ],
   "source": [
    "print(df.min(),'→ min统计最小值\\n',df['key2'].max(),'→ max统计最大值')"
   ]
  },
  {
   "cell_type": "code",
   "execution_count": 19,
   "metadata": {
    "scrolled": true
   },
   "outputs": [
    {
     "name": "stdout",
     "output_type": "stream",
     "text": [
      "key1    6.750000\n",
      "key2    5.903483\n",
      "Name: 0.75, dtype: float64 → quantile统计分位数，参数q确定位置\n"
     ]
    }
   ],
   "source": [
    "print(df.quantile(q=0.75),'→ quantile统计分位数，参数q确定位置')"
   ]
  },
  {
   "cell_type": "code",
   "execution_count": 20,
   "metadata": {},
   "outputs": [
    {
     "name": "stdout",
     "output_type": "stream",
     "text": [
      "key1    45.000000\n",
      "key2    41.404558\n",
      "dtype: float64 → sum求和\n"
     ]
    }
   ],
   "source": [
    "print(df.sum(),'→ sum求和')"
   ]
  },
  {
   "cell_type": "code",
   "execution_count": 21,
   "metadata": {},
   "outputs": [
    {
     "name": "stdout",
     "output_type": "stream",
     "text": [
      "key1    4.500000\n",
      "key2    4.140456\n",
      "dtype: float64 → mean求平均值\n"
     ]
    }
   ],
   "source": [
    "print(df.mean(),'→ mean求平均值')"
   ]
  },
  {
   "cell_type": "code",
   "execution_count": 22,
   "metadata": {},
   "outputs": [
    {
     "name": "stdout",
     "output_type": "stream",
     "text": [
      "key1    4.50000\n",
      "key2    3.73151\n",
      "dtype: float64 → median求算数中位数，50%分位数\n"
     ]
    }
   ],
   "source": [
    "print(df.median(),'→ median求算数中位数，50%分位数')"
   ]
  },
  {
   "cell_type": "code",
   "execution_count": 23,
   "metadata": {},
   "outputs": [
    {
     "name": "stdout",
     "output_type": "stream",
     "text": [
      "key1    3.027650\n",
      "key2    1.895557\n",
      "dtype: float64 \n",
      " key1    9.166667\n",
      "key2    3.593138\n",
      "dtype: float64 → std,var分别求标准差，方差\n"
     ]
    }
   ],
   "source": [
    "print(df.std(),'\\n',df.var(),'→ std,var分别求标准差，方差')"
   ]
  },
  {
   "cell_type": "code",
   "execution_count": 24,
   "metadata": {},
   "outputs": [
    {
     "name": "stdout",
     "output_type": "stream",
     "text": [
      "key1    0.000000\n",
      "key2   -0.811446\n",
      "dtype: float64 → skew样本的偏度\n"
     ]
    }
   ],
   "source": [
    "print(df.skew(),'→ skew样本的偏度')"
   ]
  },
  {
   "cell_type": "code",
   "execution_count": 25,
   "metadata": {},
   "outputs": [
    {
     "name": "stdout",
     "output_type": "stream",
     "text": [
      "key1   -1.200000\n",
      "key2    1.020649\n",
      "dtype: float64 → kurt样本的峰度\n"
     ]
    }
   ],
   "source": [
    "\n",
    "print(df.kurt(),'→ kurt样本的峰度')"
   ]
  },
  {
   "cell_type": "code",
   "execution_count": 28,
   "metadata": {},
   "outputs": [
    {
     "name": "stdout",
     "output_type": "stream",
     "text": [
      "   key1      key2\n",
      "0     0  0.124619\n",
      "1     1  3.347422\n",
      "2     2  2.996430\n",
      "3     3  3.714977\n",
      "4     4  6.221299\n",
      "5     5  5.177436\n",
      "6     6  3.708368\n",
      "7     7  3.748042\n",
      "8     8  6.220466\n",
      "9     9  6.145499\n",
      "   key1      key2  key1_s     key2_s\n",
      "0     0  0.124619       0   0.124619\n",
      "1     1  3.347422       1   3.472041\n",
      "2     2  2.996430       3   6.468471\n",
      "3     3  3.714977       6  10.183447\n",
      "4     4  6.221299      10  16.404747\n",
      "5     5  5.177436      15  21.582182\n",
      "6     6  3.708368      21  25.290550\n",
      "7     7  3.748042      28  29.038593\n",
      "8     8  6.220466      36  35.259059\n",
      "9     9  6.145499      45  41.404558 → cumsum样本的累计和\n",
      "\n"
     ]
    }
   ],
   "source": [
    "# 主要数学计算方法，可用于Series和DataFrame（2）\n",
    "\n",
    "print(df)\n",
    "df['key1_s'] = df['key1'].cumsum()\n",
    "df['key2_s'] = df['key2'].cumsum()\n",
    "print(df,'→ cumsum样本的累计和')"
   ]
  },
  {
   "cell_type": "code",
   "execution_count": 29,
   "metadata": {},
   "outputs": [
    {
     "name": "stdout",
     "output_type": "stream",
     "text": [
      "   key1      key2  key1_s     key2_s  key1_p        key2_p\n",
      "0     0  0.124619       0   0.124619       0      0.124619\n",
      "1     1  3.347422       1   3.472041       0      0.417152\n",
      "2     2  2.996430       3   6.468471       0      1.249967\n",
      "3     3  3.714977       6  10.183447       0      4.643599\n",
      "4     4  6.221299      10  16.404747       0     28.889221\n",
      "5     5  5.177436      15  21.582182       0    149.572082\n",
      "6     6  3.708368      21  25.290550       0    554.668331\n",
      "7     7  3.748042      28  29.038593       0   2078.920291\n",
      "8     8  6.220466      36  35.259059       0  12931.853248\n",
      "9     9  6.145499      45  41.404558       0  79472.695636 → cumprod样本的累计积\n"
     ]
    }
   ],
   "source": [
    "df['key1_p'] = df['key1'].cumprod()\n",
    "df['key2_p'] = df['key2'].cumprod()\n",
    "print(df,'→ cumprod样本的累计积')"
   ]
  },
  {
   "cell_type": "code",
   "execution_count": 31,
   "metadata": {},
   "outputs": [
    {
     "name": "stdout",
     "output_type": "stream",
     "text": [
      "   key1      key2  key1_s     key2_s  key1_p        key2_p\n",
      "0   0.0  0.124619     0.0   0.124619     0.0      0.124619\n",
      "1   1.0  3.347422     1.0   3.472041     0.0      0.417152\n",
      "2   2.0  3.347422     3.0   6.468471     0.0      1.249967\n",
      "3   3.0  3.714977     6.0  10.183447     0.0      4.643599\n",
      "4   4.0  6.221299    10.0  16.404747     0.0     28.889221\n",
      "5   5.0  6.221299    15.0  21.582182     0.0    149.572082\n",
      "6   6.0  6.221299    21.0  25.290550     0.0    554.668331\n",
      "7   7.0  6.221299    28.0  29.038593     0.0   2078.920291\n",
      "8   8.0  6.221299    36.0  35.259059     0.0  12931.853248\n",
      "9   9.0  6.221299    45.0  41.404558     0.0  79472.695636 \n",
      "    key1      key2  key1_s    key2_s  key1_p    key2_p\n",
      "0   0.0  0.124619     0.0  0.124619     0.0  0.124619\n",
      "1   0.0  0.124619     0.0  0.124619     0.0  0.124619\n",
      "2   0.0  0.124619     0.0  0.124619     0.0  0.124619\n",
      "3   0.0  0.124619     0.0  0.124619     0.0  0.124619\n",
      "4   0.0  0.124619     0.0  0.124619     0.0  0.124619\n",
      "5   0.0  0.124619     0.0  0.124619     0.0  0.124619\n",
      "6   0.0  0.124619     0.0  0.124619     0.0  0.124619\n",
      "7   0.0  0.124619     0.0  0.124619     0.0  0.124619\n",
      "8   0.0  0.124619     0.0  0.124619     0.0  0.124619\n",
      "9   0.0  0.124619     0.0  0.124619     0.0  0.124619 → cummax,cummin分别求累计最大值，累计最小值\n"
     ]
    }
   ],
   "source": [
    "print(df.cummax(),'\\n',df.cummin(),'→ cummax,cummin分别求累计最大值，累计最小值')\n",
    "# 会填充key1，和key2的值"
   ]
  },
  {
   "cell_type": "code",
   "execution_count": 35,
   "metadata": {},
   "outputs": [
    {
     "name": "stdout",
     "output_type": "stream",
     "text": [
      "0     a\n",
      "1     s\n",
      "2     d\n",
      "3     v\n",
      "4     a\n",
      "5     s\n",
      "6     d\n",
      "7     c\n",
      "8     f\n",
      "9     g\n",
      "10    g\n",
      "dtype: object\n",
      "['a' 's' 'd' 'v' 'c' 'f' 'g'] <class 'numpy.ndarray'>\n",
      "0    a\n",
      "1    s\n",
      "2    d\n",
      "3    v\n",
      "4    c\n",
      "5    f\n",
      "6    g\n",
      "dtype: object\n",
      "['a' 'c' 'd' 'f' 'g' 's' 'v']\n"
     ]
    }
   ],
   "source": [
    "# 唯一值：.unique()\n",
    "\n",
    "s = pd.Series(list('asdvasdcfgg'))\n",
    "sq = s.unique()\n",
    "print(s)\n",
    "print(sq,type(sq))\n",
    "print(pd.Series(sq))\n",
    "# 得到一个唯一值数组\n",
    "# 通过pd.Series重新变成新的Series\n",
    "\n",
    "sq.sort()\n",
    "print(sq)\n",
    "# 重新排序"
   ]
  },
  {
   "cell_type": "code",
   "execution_count": 39,
   "metadata": {},
   "outputs": [
    {
     "name": "stdout",
     "output_type": "stream",
     "text": [
      "f    1\n",
      "s    2\n",
      "d    2\n",
      "v    1\n",
      "g    2\n",
      "c    1\n",
      "a    2\n",
      "dtype: int64\n",
      "a    2\n",
      "g    2\n",
      "d    2\n",
      "s    2\n",
      "c    1\n",
      "v    1\n",
      "f    1\n",
      "dtype: int64\n"
     ]
    }
   ],
   "source": [
    "# 值计数：.value_counts()\n",
    "\n",
    "sc = s.value_counts(sort = False)  # 也可以这样写：pd.value_counts(sc, sort = False)\n",
    "print(sc)\n",
    "# 得到一个新的Series，计算出不同值出现的频率\n",
    "# sort参数：排序，默认为True\n",
    "\n",
    "print(s.value_counts())\n",
    "# sort参数：排序，默认为True"
   ]
  },
  {
   "cell_type": "code",
   "execution_count": 40,
   "metadata": {},
   "outputs": [
    {
     "name": "stdout",
     "output_type": "stream",
     "text": [
      "0    10\n",
      "1    11\n",
      "2    12\n",
      "3    13\n",
      "4    14\n",
      "dtype: int32\n",
      "  key1  key2\n",
      "0    a     4\n",
      "1    s     5\n",
      "2    d     6\n",
      "3    c     7\n",
      "4    b     8\n",
      "5    v     9\n",
      "6    a    10\n",
      "7    s    11\n",
      "8    d    12\n"
     ]
    }
   ],
   "source": [
    "# 成员资格：.isin()\n",
    "\n",
    "s = pd.Series(np.arange(10,15))\n",
    "df = pd.DataFrame({'key1':list('asdcbvasd'),\n",
    "                  'key2':np.arange(4,13)})\n",
    "print(s)\n",
    "print(df)"
   ]
  },
  {
   "cell_type": "code",
   "execution_count": 41,
   "metadata": {},
   "outputs": [
    {
     "name": "stdout",
     "output_type": "stream",
     "text": [
      "0    False\n",
      "1    False\n",
      "2    False\n",
      "3    False\n",
      "4     True\n",
      "dtype: bool\n",
      "    key1   key2\n",
      "0   True  False\n",
      "1  False  False\n",
      "2  False  False\n",
      "3  False  False\n",
      "4  False   True\n",
      "5  False  False\n",
      "6   True  False\n",
      "7  False  False\n",
      "8  False  False\n"
     ]
    }
   ],
   "source": [
    "# 成员资格：.isin()\n",
    "\n",
    "print(s.isin([5,14]))\n",
    "print(df.isin(['a','bc','10',8]))\n",
    "# 用[]表示\n",
    "# 得到一个布尔值的Series或者Dataframe"
   ]
  },
  {
   "cell_type": "code",
   "execution_count": 57,
   "metadata": {},
   "outputs": [
    {
     "name": "stdout",
     "output_type": "stream",
     "text": [
      "0    10\n",
      "1    11\n",
      "2    12\n",
      "3    13\n",
      "4    14\n",
      "dtype: int32\n"
     ]
    },
    {
     "data": {
      "text/plain": [
       "0    False\n",
       "1    False\n",
       "2    False\n",
       "3    False\n",
       "4     True\n",
       "dtype: bool"
      ]
     },
     "execution_count": 57,
     "metadata": {},
     "output_type": "execute_result"
    }
   ],
   "source": [
    "s = pd.Series(np.arange(10,15))\n",
    "print(s)\n",
    "s.isin([5,14])"
   ]
  },
  {
   "cell_type": "markdown",
   "metadata": {},
   "source": [
    "######## 课后小练习,请查看 “pandas课程作业.docx”  ########\n",
    "\n",
    "作业1：如图创建一个Dataframe（5*2，值为0-100的随机值），并分别计算key1和key2的均值、中位数、累积和\n",
    "\n",
    "作业2：写出一个输入元素直接生成数组的代码块，然后创建一个函数，该函数功能用于判断一个Series是否是唯一值数组，返回“是”和“不是”"
   ]
  },
  {
   "cell_type": "code",
   "execution_count": 49,
   "metadata": {},
   "outputs": [
    {
     "name": "stdout",
     "output_type": "stream",
     "text": [
      "        key1       key2\n",
      "0  34.567317  50.029879\n",
      "1  73.151249  36.679013\n",
      "2  39.697828  84.215937\n",
      "3  18.205838  19.380845\n",
      "4  80.410569  43.610295\n",
      "df['key1']的均值为49.206560\n",
      "df['key1']的中位数为39.697828\n",
      "df['key2']的中位数为43.610295\n",
      "df['key2']的均值为46.783194\n",
      "df['key2']的中位数为43.610295\n"
     ]
    }
   ],
   "source": [
    "# 作业1：如图创建一个Dataframe（5*2，值为0-100的随机值），并分别计算key1和key2的均值、中位数、累积和\n",
    "\n",
    "df = pd.DataFrame(np.random.rand(5,2)*100,\n",
    "                 columns=['key1','key2'])\n",
    "print(df)\n",
    "print(\"df['key1']的均值为%f\" % df['key1'].mean())\n",
    "print(\"df['key1']的中位数为%f\" % df['key1'].median())\n",
    "print(\"df['key2']的中位数为%f\" % df['key2'].median())\n",
    "print(\"df['key2']的均值为%f\" % df['key2'].mean())\n",
    "print(\"df['key2']的中位数为%f\" % df['key2'].median())"
   ]
  },
  {
   "cell_type": "code",
   "execution_count": 53,
   "metadata": {},
   "outputs": [
    {
     "data": {
      "text/plain": [
       "0     34.567317\n",
       "1    107.718565\n",
       "2    147.416393\n",
       "3    165.622232\n",
       "4    246.032800\n",
       "Name: key1, dtype: float64"
      ]
     },
     "execution_count": 53,
     "metadata": {},
     "output_type": "execute_result"
    }
   ],
   "source": [
    "df['key1'].cumsum()"
   ]
  },
  {
   "cell_type": "code",
   "execution_count": 54,
   "metadata": {},
   "outputs": [
    {
     "data": {
      "text/plain": [
       "0     50.029879\n",
       "1     86.708892\n",
       "2    170.924829\n",
       "3    190.305674\n",
       "4    233.915969\n",
       "Name: key2, dtype: float64"
      ]
     },
     "execution_count": 54,
     "metadata": {},
     "output_type": "execute_result"
    }
   ],
   "source": [
    "df['key2'].cumsum()"
   ]
  },
  {
   "cell_type": "code",
   "execution_count": 55,
   "metadata": {},
   "outputs": [
    {
     "data": {
      "text/html": [
       "<div>\n",
       "<style scoped>\n",
       "    .dataframe tbody tr th:only-of-type {\n",
       "        vertical-align: middle;\n",
       "    }\n",
       "\n",
       "    .dataframe tbody tr th {\n",
       "        vertical-align: top;\n",
       "    }\n",
       "\n",
       "    .dataframe thead th {\n",
       "        text-align: right;\n",
       "    }\n",
       "</style>\n",
       "<table border=\"1\" class=\"dataframe\">\n",
       "  <thead>\n",
       "    <tr style=\"text-align: right;\">\n",
       "      <th></th>\n",
       "      <th>key1</th>\n",
       "      <th>key2</th>\n",
       "    </tr>\n",
       "  </thead>\n",
       "  <tbody>\n",
       "    <tr>\n",
       "      <th>0</th>\n",
       "      <td>34.567317</td>\n",
       "      <td>50.029879</td>\n",
       "    </tr>\n",
       "    <tr>\n",
       "      <th>1</th>\n",
       "      <td>107.718565</td>\n",
       "      <td>86.708892</td>\n",
       "    </tr>\n",
       "    <tr>\n",
       "      <th>2</th>\n",
       "      <td>147.416393</td>\n",
       "      <td>170.924829</td>\n",
       "    </tr>\n",
       "    <tr>\n",
       "      <th>3</th>\n",
       "      <td>165.622232</td>\n",
       "      <td>190.305674</td>\n",
       "    </tr>\n",
       "    <tr>\n",
       "      <th>4</th>\n",
       "      <td>246.032800</td>\n",
       "      <td>233.915969</td>\n",
       "    </tr>\n",
       "  </tbody>\n",
       "</table>\n",
       "</div>"
      ],
      "text/plain": [
       "         key1        key2\n",
       "0   34.567317   50.029879\n",
       "1  107.718565   86.708892\n",
       "2  147.416393  170.924829\n",
       "3  165.622232  190.305674\n",
       "4  246.032800  233.915969"
      ]
     },
     "execution_count": 55,
     "metadata": {},
     "output_type": "execute_result"
    }
   ],
   "source": [
    "df.cumsum()"
   ]
  },
  {
   "cell_type": "code",
   "execution_count": 60,
   "metadata": {},
   "outputs": [
    {
     "name": "stdout",
     "output_type": "stream",
     "text": [
      "请输入一组元素:以列表形式[1,2,'a',3,'d']\n"
     ]
    },
    {
     "data": {
      "text/plain": [
       "0    1\n",
       "1    2\n",
       "2    a\n",
       "3    3\n",
       "4    d\n",
       "dtype: object"
      ]
     },
     "execution_count": 60,
     "metadata": {},
     "output_type": "execute_result"
    }
   ],
   "source": [
    "# 作业2：写出一个输入元素直接生成数组的代码块，然后创建一个函数，该函数功能用于判断一个Series是否是唯一值数组，返回“是”和“不是”\n",
    "\n",
    "ip = eval(input('请输入一组元素:以列表形式'))"
   ]
  },
  {
   "cell_type": "code",
   "execution_count": 61,
   "metadata": {},
   "outputs": [
    {
     "data": {
      "text/plain": [
       "0    1\n",
       "1    2\n",
       "2    a\n",
       "3    3\n",
       "4    d\n",
       "dtype: object"
      ]
     },
     "execution_count": 61,
     "metadata": {},
     "output_type": "execute_result"
    }
   ],
   "source": [
    "s = pd.Series(ip)\n",
    "s"
   ]
  },
  {
   "cell_type": "code",
   "execution_count": 62,
   "metadata": {},
   "outputs": [
    {
     "name": "stdout",
     "output_type": "stream",
     "text": [
      "Yes\n"
     ]
    }
   ],
   "source": [
    "def f(s):\n",
    "    s1 = s.unique()\n",
    "    if len(s1) == len(s):\n",
    "        print(\"Yes\")\n",
    "    else:\n",
    "        print(\"No\")\n",
    "f(s)"
   ]
  }
 ],
 "metadata": {
  "kernelspec": {
   "display_name": "Python 3",
   "language": "python",
   "name": "python3"
  },
  "language_info": {
   "codemirror_mode": {
    "name": "ipython",
    "version": 3
   },
   "file_extension": ".py",
   "mimetype": "text/x-python",
   "name": "python",
   "nbconvert_exporter": "python",
   "pygments_lexer": "ipython3",
   "version": "3.7.3"
  }
 },
 "nbformat": 4,
 "nbformat_minor": 2
}
