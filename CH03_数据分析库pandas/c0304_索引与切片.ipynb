{
 "cells": [
  {
   "cell_type": "markdown",
   "metadata": {},
   "source": [
    "Series和Datafram索引的原理一样，我们以Dataframe的索引为主来学习\n",
    "* 列索引：df['列名']  （Series不存在列索引）\n",
    "* 行索引：df.loc[]、df.iloc[]\n",
    "\n",
    "选择列 / 选择行 / 切片 / 布尔判断"
   ]
  },
  {
   "cell_type": "code",
   "execution_count": 1,
   "metadata": {},
   "outputs": [],
   "source": [
    "import numpy as np\n",
    "import pandas as pd  \n",
    "# 导入numpy、pandas模块"
   ]
  },
  {
   "cell_type": "code",
   "execution_count": 7,
   "metadata": {},
   "outputs": [
    {
     "name": "stdout",
     "output_type": "stream",
     "text": [
      "               a          b          c          d\n",
      "one    85.865907  89.348630  29.745563  54.923975\n",
      "two    35.947449  27.516658  36.572493  63.536654\n",
      "three  49.389258  97.561495  34.304792  63.416868\n",
      "one      85.865907\n",
      "two      35.947449\n",
      "three    49.389258\n",
      "Name: a, dtype: float64 <class 'pandas.core.series.Series'>\n",
      "               a          c\n",
      "one    85.865907  29.745563\n",
      "two    35.947449  36.572493\n",
      "three  49.389258  34.304792 <class 'pandas.core.frame.DataFrame'>\n",
      "-----------------\n",
      "a    85.865907\n",
      "b    89.348630\n",
      "c    29.745563\n",
      "d    54.923975\n",
      "Name: one, dtype: float64 <class 'pandas.core.series.Series'>\n",
      "             a          b          c          d\n",
      "one  85.865907  89.348630  29.745563  54.923975\n",
      "two  35.947449  27.516658  36.572493  63.536654 <class 'pandas.core.frame.DataFrame'>\n"
     ]
    }
   ],
   "source": [
    "# 选择行与列\n",
    "\n",
    "df = pd.DataFrame(np.random.rand(12).reshape(3,4)*100,\n",
    "                 index = ['one','two','three'],\n",
    "                 columns = ['a','b','c','d'])\n",
    "print(df)\n",
    "\n",
    "data1 = df['a']\n",
    "data2 = df[['a','c']]\n",
    "print(data1,type(data1))\n",
    "print(data2,type(data2))\n",
    "print(\"-----------------\")\n",
    "# 按照列名选择列，只选择一列输出Series，选择多列输出Dataframe\n",
    "\n",
    "data3 = df.loc['one']\n",
    "data4 = df.loc[['one','two']]\n",
    "print(data3,type(data3))\n",
    "print(data4,type(data4))"
   ]
  },
  {
   "cell_type": "code",
   "execution_count": 10,
   "metadata": {},
   "outputs": [
    {
     "name": "stdout",
     "output_type": "stream",
     "text": [
      "               a          b          c          d\n",
      "one    57.811173  36.087253  70.668591  30.270128\n",
      "two    42.976706  54.116624   1.669168  59.168323\n",
      "three   7.661555   2.280435  34.518855   2.856719\n",
      "---------------\n",
      "one      57.811173\n",
      "two      42.976706\n",
      "three     7.661555\n",
      "Name: a, dtype: float64\n",
      "               b          c\n",
      "one    36.087253  70.668591\n",
      "two    54.116624   1.669168\n",
      "three   2.280435  34.518855\n"
     ]
    }
   ],
   "source": [
    "# df[] - 选择列\n",
    "# 一般用于选择列，也可以选择行，但不推荐，行索引用.loc与.iloc\n",
    "\n",
    "df = pd.DataFrame(np.random.rand(12).reshape(3,4)*100,\n",
    "                 index = ['one','two','three'],\n",
    "                 columns = ['a','b','c','d'])\n",
    "print(df)\n",
    "print(\"---------------\")\n",
    "\n",
    "data1 = df['a']\n",
    "data2 = df[['b','c']]\n",
    "print(data1)\n",
    "print(data2)\n",
    "# df[]默认选择列，[]中写列名（所以一般数据colunms都会单独制定，不会用默认数字列名，以免和index冲突）\n",
    "# 单选列为Series，print结果为Series格式\n",
    "# 多选列为Dataframe，print结果为Dataframe格式\n",
    "\n",
    "# 核心笔记：df[col]一般用于选择列，[]中写列名"
   ]
  },
  {
   "cell_type": "code",
   "execution_count": 66,
   "metadata": {},
   "outputs": [
    {
     "name": "stdout",
     "output_type": "stream",
     "text": [
      "               a          b          c          d\n",
      "one    68.017941  66.360568  82.619463   7.718863\n",
      "two    92.420527  71.695547  53.427392  34.982579\n",
      "three  66.245273  10.056036  35.917913  23.492350\n",
      "four   12.576416  31.067237  12.103772  55.277255\n",
      "           a          b          c          d\n",
      "0  39.919311  20.758568  96.763376  20.279125\n",
      "1  10.748859   3.210468  12.567123  65.261190\n",
      "2  34.369041   9.788321  81.056037  73.339182\n",
      "3  13.240179  91.243329  63.649843  14.811583\n",
      "--------------\n",
      "a    68.017941\n",
      "b    66.360568\n",
      "c    82.619463\n",
      "d     7.718863\n",
      "Name: one, dtype: float64\n",
      "a    10.748859\n",
      "b     3.210468\n",
      "c    12.567123\n",
      "d    65.261190\n",
      "Name: 1, dtype: float64\n",
      "单标签索引\n",
      "----------\n",
      "               a          b          c          d\n",
      "two    92.420527  71.695547  53.427392  34.982579\n",
      "three  66.245273  10.056036  35.917913  23.492350\n",
      "four   12.576416  31.067237  12.103772  55.277255\n",
      "           a          b          c          d\n",
      "3  13.240179  91.243329  63.649843  14.811583\n",
      "2  34.369041   9.788321  81.056037  73.339182\n",
      "1  10.748859   3.210468  12.567123  65.261190\n",
      "多标签索引\n",
      "---------\n",
      "               a          b          c          d\n",
      "one    68.017941  66.360568  82.619463   7.718863\n",
      "two    92.420527  71.695547  53.427392  34.982579\n",
      "three  66.245273  10.056036  35.917913  23.492350\n",
      "           a          b          c          d\n",
      "1  10.748859   3.210468  12.567123  65.261190\n",
      "2  34.369041   9.788321  81.056037  73.339182\n",
      "3  13.240179  91.243329  63.649843  14.811583\n",
      "切片索引\n"
     ]
    }
   ],
   "source": [
    "# df.loc[] - 按index选择行\n",
    "\n",
    "df1 = pd.DataFrame(np.random.rand(16).reshape(4,4)*100,\n",
    "                  index=['one','two','three','four'],\n",
    "                  columns=['a','b','c','d'])\n",
    "df2 = pd.DataFrame(np.random.rand(16).reshape(4,4)*100,\n",
    "                  columns=['a','b','c','d'])\n",
    "print(df1)\n",
    "print(df2)\n",
    "print(\"--------------\")\n",
    "\n",
    "data1 = df1.loc['one']\n",
    "data2 = df2.loc[1]\n",
    "print(data1)\n",
    "print(data2)\n",
    "print('单标签索引\\n----------')\n",
    "# 单个标签索引，返回Series\n",
    "\n",
    "data3 = df1.loc[['two','three','four']]\n",
    "data4 = df2.loc[[3,2,1]]\n",
    "print(data3)\n",
    "print(data4)\n",
    "print('多标签索引\\n---------')\n",
    "# 多个标签索引，如果标签不存在，则返回NaN\n",
    "# 顺序可变\n",
    "# 这里‘five’标签不存在，所以有警告\n",
    "\n",
    "data5 = df1.loc['one':'three']\n",
    "data6 = df2.loc[1:3]\n",
    "print(data5)\n",
    "print(data6)\n",
    "print(\"切片索引\")\n",
    "# 可以做切片对象\n",
    "# 末端包含\n",
    "\n",
    "# 核心笔记：df.loc[label]主要针对index选择行，同时支持指定index，及默认数字index"
   ]
  },
  {
   "cell_type": "code",
   "execution_count": 67,
   "metadata": {},
   "outputs": [
    {
     "ename": "KeyError",
     "evalue": "'five'",
     "output_type": "error",
     "traceback": [
      "\u001b[1;31m---------------------------------------------------------------------------\u001b[0m",
      "\u001b[1;31mKeyError\u001b[0m                                  Traceback (most recent call last)",
      "\u001b[1;32mC:\\ProgramData\\Anaconda3\\lib\\site-packages\\pandas\\core\\indexes\\base.py\u001b[0m in \u001b[0;36mget_loc\u001b[1;34m(self, key, method, tolerance)\u001b[0m\n\u001b[0;32m   2656\u001b[0m             \u001b[1;32mtry\u001b[0m\u001b[1;33m:\u001b[0m\u001b[1;33m\u001b[0m\u001b[1;33m\u001b[0m\u001b[0m\n\u001b[1;32m-> 2657\u001b[1;33m                 \u001b[1;32mreturn\u001b[0m \u001b[0mself\u001b[0m\u001b[1;33m.\u001b[0m\u001b[0m_engine\u001b[0m\u001b[1;33m.\u001b[0m\u001b[0mget_loc\u001b[0m\u001b[1;33m(\u001b[0m\u001b[0mkey\u001b[0m\u001b[1;33m)\u001b[0m\u001b[1;33m\u001b[0m\u001b[1;33m\u001b[0m\u001b[0m\n\u001b[0m\u001b[0;32m   2658\u001b[0m             \u001b[1;32mexcept\u001b[0m \u001b[0mKeyError\u001b[0m\u001b[1;33m:\u001b[0m\u001b[1;33m\u001b[0m\u001b[1;33m\u001b[0m\u001b[0m\n",
      "\u001b[1;32mpandas/_libs/index.pyx\u001b[0m in \u001b[0;36mpandas._libs.index.IndexEngine.get_loc\u001b[1;34m()\u001b[0m\n",
      "\u001b[1;32mpandas/_libs/index.pyx\u001b[0m in \u001b[0;36mpandas._libs.index.IndexEngine.get_loc\u001b[1;34m()\u001b[0m\n",
      "\u001b[1;32mpandas/_libs/hashtable_class_helper.pxi\u001b[0m in \u001b[0;36mpandas._libs.hashtable.PyObjectHashTable.get_item\u001b[1;34m()\u001b[0m\n",
      "\u001b[1;32mpandas/_libs/hashtable_class_helper.pxi\u001b[0m in \u001b[0;36mpandas._libs.hashtable.PyObjectHashTable.get_item\u001b[1;34m()\u001b[0m\n",
      "\u001b[1;31mKeyError\u001b[0m: 'five'",
      "\nDuring handling of the above exception, another exception occurred:\n",
      "\u001b[1;31mKeyError\u001b[0m                                  Traceback (most recent call last)",
      "\u001b[1;32m<ipython-input-67-709db18936bc>\u001b[0m in \u001b[0;36m<module>\u001b[1;34m\u001b[0m\n\u001b[1;32m----> 1\u001b[1;33m \u001b[0mdf1\u001b[0m\u001b[1;33m.\u001b[0m\u001b[0mloc\u001b[0m\u001b[1;33m[\u001b[0m\u001b[1;34m'five'\u001b[0m\u001b[1;33m]\u001b[0m\u001b[1;33m\u001b[0m\u001b[1;33m\u001b[0m\u001b[0m\n\u001b[0m",
      "\u001b[1;32mC:\\ProgramData\\Anaconda3\\lib\\site-packages\\pandas\\core\\indexing.py\u001b[0m in \u001b[0;36m__getitem__\u001b[1;34m(self, key)\u001b[0m\n\u001b[0;32m   1498\u001b[0m \u001b[1;33m\u001b[0m\u001b[0m\n\u001b[0;32m   1499\u001b[0m             \u001b[0mmaybe_callable\u001b[0m \u001b[1;33m=\u001b[0m \u001b[0mcom\u001b[0m\u001b[1;33m.\u001b[0m\u001b[0mapply_if_callable\u001b[0m\u001b[1;33m(\u001b[0m\u001b[0mkey\u001b[0m\u001b[1;33m,\u001b[0m \u001b[0mself\u001b[0m\u001b[1;33m.\u001b[0m\u001b[0mobj\u001b[0m\u001b[1;33m)\u001b[0m\u001b[1;33m\u001b[0m\u001b[1;33m\u001b[0m\u001b[0m\n\u001b[1;32m-> 1500\u001b[1;33m             \u001b[1;32mreturn\u001b[0m \u001b[0mself\u001b[0m\u001b[1;33m.\u001b[0m\u001b[0m_getitem_axis\u001b[0m\u001b[1;33m(\u001b[0m\u001b[0mmaybe_callable\u001b[0m\u001b[1;33m,\u001b[0m \u001b[0maxis\u001b[0m\u001b[1;33m=\u001b[0m\u001b[0maxis\u001b[0m\u001b[1;33m)\u001b[0m\u001b[1;33m\u001b[0m\u001b[1;33m\u001b[0m\u001b[0m\n\u001b[0m\u001b[0;32m   1501\u001b[0m \u001b[1;33m\u001b[0m\u001b[0m\n\u001b[0;32m   1502\u001b[0m     \u001b[1;32mdef\u001b[0m \u001b[0m_is_scalar_access\u001b[0m\u001b[1;33m(\u001b[0m\u001b[0mself\u001b[0m\u001b[1;33m,\u001b[0m \u001b[0mkey\u001b[0m\u001b[1;33m)\u001b[0m\u001b[1;33m:\u001b[0m\u001b[1;33m\u001b[0m\u001b[1;33m\u001b[0m\u001b[0m\n",
      "\u001b[1;32mC:\\ProgramData\\Anaconda3\\lib\\site-packages\\pandas\\core\\indexing.py\u001b[0m in \u001b[0;36m_getitem_axis\u001b[1;34m(self, key, axis)\u001b[0m\n\u001b[0;32m   1911\u001b[0m         \u001b[1;31m# fall thru to straight lookup\u001b[0m\u001b[1;33m\u001b[0m\u001b[1;33m\u001b[0m\u001b[1;33m\u001b[0m\u001b[0m\n\u001b[0;32m   1912\u001b[0m         \u001b[0mself\u001b[0m\u001b[1;33m.\u001b[0m\u001b[0m_validate_key\u001b[0m\u001b[1;33m(\u001b[0m\u001b[0mkey\u001b[0m\u001b[1;33m,\u001b[0m \u001b[0maxis\u001b[0m\u001b[1;33m)\u001b[0m\u001b[1;33m\u001b[0m\u001b[1;33m\u001b[0m\u001b[0m\n\u001b[1;32m-> 1913\u001b[1;33m         \u001b[1;32mreturn\u001b[0m \u001b[0mself\u001b[0m\u001b[1;33m.\u001b[0m\u001b[0m_get_label\u001b[0m\u001b[1;33m(\u001b[0m\u001b[0mkey\u001b[0m\u001b[1;33m,\u001b[0m \u001b[0maxis\u001b[0m\u001b[1;33m=\u001b[0m\u001b[0maxis\u001b[0m\u001b[1;33m)\u001b[0m\u001b[1;33m\u001b[0m\u001b[1;33m\u001b[0m\u001b[0m\n\u001b[0m\u001b[0;32m   1914\u001b[0m \u001b[1;33m\u001b[0m\u001b[0m\n\u001b[0;32m   1915\u001b[0m \u001b[1;33m\u001b[0m\u001b[0m\n",
      "\u001b[1;32mC:\\ProgramData\\Anaconda3\\lib\\site-packages\\pandas\\core\\indexing.py\u001b[0m in \u001b[0;36m_get_label\u001b[1;34m(self, label, axis)\u001b[0m\n\u001b[0;32m    139\u001b[0m             \u001b[1;32mraise\u001b[0m \u001b[0mIndexingError\u001b[0m\u001b[1;33m(\u001b[0m\u001b[1;34m'no slices here, handle elsewhere'\u001b[0m\u001b[1;33m)\u001b[0m\u001b[1;33m\u001b[0m\u001b[1;33m\u001b[0m\u001b[0m\n\u001b[0;32m    140\u001b[0m \u001b[1;33m\u001b[0m\u001b[0m\n\u001b[1;32m--> 141\u001b[1;33m         \u001b[1;32mreturn\u001b[0m \u001b[0mself\u001b[0m\u001b[1;33m.\u001b[0m\u001b[0mobj\u001b[0m\u001b[1;33m.\u001b[0m\u001b[0m_xs\u001b[0m\u001b[1;33m(\u001b[0m\u001b[0mlabel\u001b[0m\u001b[1;33m,\u001b[0m \u001b[0maxis\u001b[0m\u001b[1;33m=\u001b[0m\u001b[0maxis\u001b[0m\u001b[1;33m)\u001b[0m\u001b[1;33m\u001b[0m\u001b[1;33m\u001b[0m\u001b[0m\n\u001b[0m\u001b[0;32m    142\u001b[0m \u001b[1;33m\u001b[0m\u001b[0m\n\u001b[0;32m    143\u001b[0m     \u001b[1;32mdef\u001b[0m \u001b[0m_get_loc\u001b[0m\u001b[1;33m(\u001b[0m\u001b[0mself\u001b[0m\u001b[1;33m,\u001b[0m \u001b[0mkey\u001b[0m\u001b[1;33m,\u001b[0m \u001b[0maxis\u001b[0m\u001b[1;33m=\u001b[0m\u001b[1;32mNone\u001b[0m\u001b[1;33m)\u001b[0m\u001b[1;33m:\u001b[0m\u001b[1;33m\u001b[0m\u001b[1;33m\u001b[0m\u001b[0m\n",
      "\u001b[1;32mC:\\ProgramData\\Anaconda3\\lib\\site-packages\\pandas\\core\\generic.py\u001b[0m in \u001b[0;36mxs\u001b[1;34m(self, key, axis, level, drop_level)\u001b[0m\n\u001b[0;32m   3583\u001b[0m                                                       drop_level=drop_level)\n\u001b[0;32m   3584\u001b[0m         \u001b[1;32melse\u001b[0m\u001b[1;33m:\u001b[0m\u001b[1;33m\u001b[0m\u001b[1;33m\u001b[0m\u001b[0m\n\u001b[1;32m-> 3585\u001b[1;33m             \u001b[0mloc\u001b[0m \u001b[1;33m=\u001b[0m \u001b[0mself\u001b[0m\u001b[1;33m.\u001b[0m\u001b[0mindex\u001b[0m\u001b[1;33m.\u001b[0m\u001b[0mget_loc\u001b[0m\u001b[1;33m(\u001b[0m\u001b[0mkey\u001b[0m\u001b[1;33m)\u001b[0m\u001b[1;33m\u001b[0m\u001b[1;33m\u001b[0m\u001b[0m\n\u001b[0m\u001b[0;32m   3586\u001b[0m \u001b[1;33m\u001b[0m\u001b[0m\n\u001b[0;32m   3587\u001b[0m             \u001b[1;32mif\u001b[0m \u001b[0misinstance\u001b[0m\u001b[1;33m(\u001b[0m\u001b[0mloc\u001b[0m\u001b[1;33m,\u001b[0m \u001b[0mnp\u001b[0m\u001b[1;33m.\u001b[0m\u001b[0mndarray\u001b[0m\u001b[1;33m)\u001b[0m\u001b[1;33m:\u001b[0m\u001b[1;33m\u001b[0m\u001b[1;33m\u001b[0m\u001b[0m\n",
      "\u001b[1;32mC:\\ProgramData\\Anaconda3\\lib\\site-packages\\pandas\\core\\indexes\\base.py\u001b[0m in \u001b[0;36mget_loc\u001b[1;34m(self, key, method, tolerance)\u001b[0m\n\u001b[0;32m   2657\u001b[0m                 \u001b[1;32mreturn\u001b[0m \u001b[0mself\u001b[0m\u001b[1;33m.\u001b[0m\u001b[0m_engine\u001b[0m\u001b[1;33m.\u001b[0m\u001b[0mget_loc\u001b[0m\u001b[1;33m(\u001b[0m\u001b[0mkey\u001b[0m\u001b[1;33m)\u001b[0m\u001b[1;33m\u001b[0m\u001b[1;33m\u001b[0m\u001b[0m\n\u001b[0;32m   2658\u001b[0m             \u001b[1;32mexcept\u001b[0m \u001b[0mKeyError\u001b[0m\u001b[1;33m:\u001b[0m\u001b[1;33m\u001b[0m\u001b[1;33m\u001b[0m\u001b[0m\n\u001b[1;32m-> 2659\u001b[1;33m                 \u001b[1;32mreturn\u001b[0m \u001b[0mself\u001b[0m\u001b[1;33m.\u001b[0m\u001b[0m_engine\u001b[0m\u001b[1;33m.\u001b[0m\u001b[0mget_loc\u001b[0m\u001b[1;33m(\u001b[0m\u001b[0mself\u001b[0m\u001b[1;33m.\u001b[0m\u001b[0m_maybe_cast_indexer\u001b[0m\u001b[1;33m(\u001b[0m\u001b[0mkey\u001b[0m\u001b[1;33m)\u001b[0m\u001b[1;33m)\u001b[0m\u001b[1;33m\u001b[0m\u001b[1;33m\u001b[0m\u001b[0m\n\u001b[0m\u001b[0;32m   2660\u001b[0m         \u001b[0mindexer\u001b[0m \u001b[1;33m=\u001b[0m \u001b[0mself\u001b[0m\u001b[1;33m.\u001b[0m\u001b[0mget_indexer\u001b[0m\u001b[1;33m(\u001b[0m\u001b[1;33m[\u001b[0m\u001b[0mkey\u001b[0m\u001b[1;33m]\u001b[0m\u001b[1;33m,\u001b[0m \u001b[0mmethod\u001b[0m\u001b[1;33m=\u001b[0m\u001b[0mmethod\u001b[0m\u001b[1;33m,\u001b[0m \u001b[0mtolerance\u001b[0m\u001b[1;33m=\u001b[0m\u001b[0mtolerance\u001b[0m\u001b[1;33m)\u001b[0m\u001b[1;33m\u001b[0m\u001b[1;33m\u001b[0m\u001b[0m\n\u001b[0;32m   2661\u001b[0m         \u001b[1;32mif\u001b[0m \u001b[0mindexer\u001b[0m\u001b[1;33m.\u001b[0m\u001b[0mndim\u001b[0m \u001b[1;33m>\u001b[0m \u001b[1;36m1\u001b[0m \u001b[1;32mor\u001b[0m \u001b[0mindexer\u001b[0m\u001b[1;33m.\u001b[0m\u001b[0msize\u001b[0m \u001b[1;33m>\u001b[0m \u001b[1;36m1\u001b[0m\u001b[1;33m:\u001b[0m\u001b[1;33m\u001b[0m\u001b[1;33m\u001b[0m\u001b[0m\n",
      "\u001b[1;32mpandas/_libs/index.pyx\u001b[0m in \u001b[0;36mpandas._libs.index.IndexEngine.get_loc\u001b[1;34m()\u001b[0m\n",
      "\u001b[1;32mpandas/_libs/index.pyx\u001b[0m in \u001b[0;36mpandas._libs.index.IndexEngine.get_loc\u001b[1;34m()\u001b[0m\n",
      "\u001b[1;32mpandas/_libs/hashtable_class_helper.pxi\u001b[0m in \u001b[0;36mpandas._libs.hashtable.PyObjectHashTable.get_item\u001b[1;34m()\u001b[0m\n",
      "\u001b[1;32mpandas/_libs/hashtable_class_helper.pxi\u001b[0m in \u001b[0;36mpandas._libs.hashtable.PyObjectHashTable.get_item\u001b[1;34m()\u001b[0m\n",
      "\u001b[1;31mKeyError\u001b[0m: 'five'"
     ]
    }
   ],
   "source": [
    "df1.loc['five']\n",
    "# 这里‘five’标签不存在，所以有警告"
   ]
  },
  {
   "cell_type": "code",
   "execution_count": 22,
   "metadata": {},
   "outputs": [
    {
     "name": "stdout",
     "output_type": "stream",
     "text": [
      "               a          b          c          d\n",
      "one    12.150587  12.664411  45.977740  15.517298\n",
      "two    48.091981   2.890725  97.436695   2.505917\n",
      "three  31.118295  71.449865  43.369161  76.722277\n",
      "four   27.008918  31.903042  40.263193  74.078688\n",
      "------\n",
      "a    12.150587\n",
      "b    12.664411\n",
      "c    45.977740\n",
      "d    15.517298\n",
      "Name: one, dtype: float64\n",
      "a    27.008918\n",
      "b    31.903042\n",
      "c    40.263193\n",
      "d    74.078688\n",
      "Name: four, dtype: float64\n",
      "单位置索引\n",
      "-----\n",
      "               a          b          c          d\n",
      "one    12.150587  12.664411  45.977740  15.517298\n",
      "three  31.118295  71.449865  43.369161  76.722277\n",
      "               a          b          c          d\n",
      "four   27.008918  31.903042  40.263193  74.078688\n",
      "three  31.118295  71.449865  43.369161  76.722277\n",
      "two    48.091981   2.890725  97.436695   2.505917\n",
      "               a          b          c          d\n",
      "two    48.091981   2.890725  97.436695   2.505917\n",
      "three  31.118295  71.449865  43.369161  76.722277\n",
      "               a          b          c          d\n",
      "one    12.150587  12.664411  45.977740  15.517298\n",
      "three  31.118295  71.449865  43.369161  76.722277\n",
      "切片索引\n"
     ]
    }
   ],
   "source": [
    "# df.iloc[] - 按照整数位置（从轴的0到length-1）选择行\n",
    "# 类似list的索引，其顺序就是dataframe的整数位置，从0开始计\n",
    "\n",
    "df = pd.DataFrame(np.random.rand(16).reshape(4,4)*100,\n",
    "                   index = ['one','two','three','four'],\n",
    "                   columns = ['a','b','c','d'])\n",
    "print(df)\n",
    "print('------')\n",
    "\n",
    "print(df.iloc[0])\n",
    "print(df.iloc[-1])\n",
    "# print(df.iloc[4])\n",
    "print('单位置索引\\n-----')\n",
    "# 单位置索引\n",
    "# 和loc索引不同，不能索引超出数据行数的整数位置\n",
    "\n",
    "print(df.iloc[[0,2]])\n",
    "print(df.iloc[[3,2,1]])\n",
    "# 多位置索引\n",
    "# 顺序可变\n",
    "\n",
    "print(df.iloc[1:3])\n",
    "print(df.iloc[::2])\n",
    "print(\"切片索引\")\n",
    "# 切片索引\n",
    "# 末端不包含"
   ]
  },
  {
   "cell_type": "code",
   "execution_count": 24,
   "metadata": {},
   "outputs": [
    {
     "name": "stdout",
     "output_type": "stream",
     "text": [
      "               a          b          c          d\n",
      "one    67.091634  24.793303  85.724461  73.690458\n",
      "two    35.834529   5.165883   6.105362  81.527865\n",
      "three  93.309647  34.686941  68.712862  39.348307\n",
      "four   86.392492   5.525520  72.707925  23.267259\n",
      "---------\n"
     ]
    }
   ],
   "source": [
    "# 布尔型索引\n",
    "# 多用于索引行\n",
    "\n",
    "df = pd.DataFrame(np.random.rand(16).reshape(4,4)*100,\n",
    "                   index = ['one','two','three','four'],\n",
    "                   columns = ['a','b','c','d'])\n",
    "print(df)\n",
    "print(\"---------\")"
   ]
  },
  {
   "cell_type": "code",
   "execution_count": 27,
   "metadata": {},
   "outputs": [
    {
     "name": "stdout",
     "output_type": "stream",
     "text": [
      "           a      b      c      d\n",
      "one    False  False  False  False\n",
      "two    False   True   True  False\n",
      "three  False  False  False  False\n",
      "four   False   True  False  False <class 'pandas.core.frame.DataFrame'>\n",
      "        a         b         c   d\n",
      "one   NaN       NaN       NaN NaN\n",
      "two   NaN  5.165883  6.105362 NaN\n",
      "three NaN       NaN       NaN NaN\n",
      "four  NaN  5.525520       NaN NaN\n",
      "------\n"
     ]
    }
   ],
   "source": [
    "b1 = df < 20\n",
    "print(b1,type(b1))\n",
    "print(df[b1])  # 也可以书写为 df[df < 20]\n",
    "print('------')\n",
    "# 不做索引则会对数据每个值进行判断\n",
    "# 索引结果保留 所有数据：True返回原数据，False返回值为NaN"
   ]
  },
  {
   "cell_type": "code",
   "execution_count": 29,
   "metadata": {},
   "outputs": [
    {
     "name": "stdout",
     "output_type": "stream",
     "text": [
      "one       True\n",
      "two      False\n",
      "three     True\n",
      "four      True\n",
      "Name: a, dtype: bool <class 'pandas.core.series.Series'>\n",
      "               a          b          c          d\n",
      "one    67.091634  24.793303  85.724461  73.690458\n",
      "three  93.309647  34.686941  68.712862  39.348307\n",
      "four   86.392492   5.525520  72.707925  23.267259\n",
      "------\n"
     ]
    }
   ],
   "source": [
    "b2 = df['a'] > 50\n",
    "print(b2,type(b2))\n",
    "print(df[b2])  # 也可以书写为 df[df['a'] > 50]\n",
    "print('------')\n",
    "# 单列做判断\n",
    "# 索引结果保留 单列判断为True的行数据，包括其他列"
   ]
  },
  {
   "cell_type": "code",
   "execution_count": 32,
   "metadata": {
    "scrolled": true
   },
   "outputs": [
    {
     "name": "stdout",
     "output_type": "stream",
     "text": [
      "           a      b\n",
      "one     True  False\n",
      "two    False  False\n",
      "three   True  False\n",
      "four    True  False <class 'pandas.core.frame.DataFrame'>\n",
      "               a   b   c   d\n",
      "one    67.091634 NaN NaN NaN\n",
      "two          NaN NaN NaN NaN\n",
      "three  93.309647 NaN NaN NaN\n",
      "four   86.392492 NaN NaN NaN\n",
      "------\n"
     ]
    }
   ],
   "source": [
    "b3 = df[['a','b']] > 50\n",
    "print(b3,type(b3))\n",
    "print(df[b3])  # 也可以书写为 df[df[['a','b']] > 50]\n",
    "print('------')\n",
    "# 多列做判断\n",
    "# 索引结果保留 所有数据：True返回原数据，False返回值为NaN\n",
    "# 注意这里报错的话，更新一下pandas → conda update pandas"
   ]
  },
  {
   "cell_type": "code",
   "execution_count": 72,
   "metadata": {},
   "outputs": [
    {
     "data": {
      "text/html": [
       "<div>\n",
       "<style scoped>\n",
       "    .dataframe tbody tr th:only-of-type {\n",
       "        vertical-align: middle;\n",
       "    }\n",
       "\n",
       "    .dataframe tbody tr th {\n",
       "        vertical-align: top;\n",
       "    }\n",
       "\n",
       "    .dataframe thead th {\n",
       "        text-align: right;\n",
       "    }\n",
       "</style>\n",
       "<table border=\"1\" class=\"dataframe\">\n",
       "  <thead>\n",
       "    <tr style=\"text-align: right;\">\n",
       "      <th></th>\n",
       "      <th>a</th>\n",
       "      <th>b</th>\n",
       "    </tr>\n",
       "  </thead>\n",
       "  <tbody>\n",
       "    <tr>\n",
       "      <th>one</th>\n",
       "      <td>False</td>\n",
       "      <td>False</td>\n",
       "    </tr>\n",
       "    <tr>\n",
       "      <th>two</th>\n",
       "      <td>False</td>\n",
       "      <td>True</td>\n",
       "    </tr>\n",
       "    <tr>\n",
       "      <th>three</th>\n",
       "      <td>True</td>\n",
       "      <td>True</td>\n",
       "    </tr>\n",
       "    <tr>\n",
       "      <th>four</th>\n",
       "      <td>True</td>\n",
       "      <td>False</td>\n",
       "    </tr>\n",
       "  </tbody>\n",
       "</table>\n",
       "</div>"
      ],
      "text/plain": [
       "           a      b\n",
       "one    False  False\n",
       "two    False   True\n",
       "three   True   True\n",
       "four    True  False"
      ]
     },
     "execution_count": 72,
     "metadata": {},
     "output_type": "execute_result"
    }
   ],
   "source": [
    "df[['a','b']] > 50"
   ]
  },
  {
   "cell_type": "code",
   "execution_count": 73,
   "metadata": {},
   "outputs": [
    {
     "data": {
      "text/html": [
       "<div>\n",
       "<style scoped>\n",
       "    .dataframe tbody tr th:only-of-type {\n",
       "        vertical-align: middle;\n",
       "    }\n",
       "\n",
       "    .dataframe tbody tr th {\n",
       "        vertical-align: top;\n",
       "    }\n",
       "\n",
       "    .dataframe thead th {\n",
       "        text-align: right;\n",
       "    }\n",
       "</style>\n",
       "<table border=\"1\" class=\"dataframe\">\n",
       "  <thead>\n",
       "    <tr style=\"text-align: right;\">\n",
       "      <th></th>\n",
       "      <th>a</th>\n",
       "      <th>b</th>\n",
       "      <th>c</th>\n",
       "      <th>d</th>\n",
       "    </tr>\n",
       "  </thead>\n",
       "  <tbody>\n",
       "    <tr>\n",
       "      <th>one</th>\n",
       "      <td>NaN</td>\n",
       "      <td>NaN</td>\n",
       "      <td>NaN</td>\n",
       "      <td>NaN</td>\n",
       "    </tr>\n",
       "    <tr>\n",
       "      <th>two</th>\n",
       "      <td>NaN</td>\n",
       "      <td>78.830728</td>\n",
       "      <td>NaN</td>\n",
       "      <td>NaN</td>\n",
       "    </tr>\n",
       "    <tr>\n",
       "      <th>three</th>\n",
       "      <td>90.401590</td>\n",
       "      <td>71.410020</td>\n",
       "      <td>NaN</td>\n",
       "      <td>NaN</td>\n",
       "    </tr>\n",
       "    <tr>\n",
       "      <th>four</th>\n",
       "      <td>50.147962</td>\n",
       "      <td>NaN</td>\n",
       "      <td>NaN</td>\n",
       "      <td>NaN</td>\n",
       "    </tr>\n",
       "  </tbody>\n",
       "</table>\n",
       "</div>"
      ],
      "text/plain": [
       "               a          b   c   d\n",
       "one          NaN        NaN NaN NaN\n",
       "two          NaN  78.830728 NaN NaN\n",
       "three  90.401590  71.410020 NaN NaN\n",
       "four   50.147962        NaN NaN NaN"
      ]
     },
     "execution_count": 73,
     "metadata": {},
     "output_type": "execute_result"
    }
   ],
   "source": [
    "df[df[['a','b']] > 50]"
   ]
  },
  {
   "cell_type": "code",
   "execution_count": 34,
   "metadata": {},
   "outputs": [
    {
     "name": "stdout",
     "output_type": "stream",
     "text": [
      "           a     b      c      d\n",
      "one    False  True  False  False\n",
      "three  False  True  False   True <class 'pandas.core.frame.DataFrame'>\n",
      "        a          b   c          d\n",
      "one   NaN  24.793303 NaN        NaN\n",
      "two   NaN        NaN NaN        NaN\n",
      "three NaN  34.686941 NaN  39.348307\n",
      "four  NaN        NaN NaN        NaN\n",
      "------\n"
     ]
    }
   ],
   "source": [
    "b4 = df.loc[['one','three']] < 50\n",
    "print(b4,type(b4))\n",
    "print(df[b4])  # 也可以书写为 df[df.loc[['one','three']] < 50]\n",
    "print('------')\n",
    "# 多行做判断\n",
    "# 索引结果保留 所有数据：True返回原数据，False返回值为NaN"
   ]
  },
  {
   "cell_type": "code",
   "execution_count": 70,
   "metadata": {},
   "outputs": [
    {
     "data": {
      "text/html": [
       "<div>\n",
       "<style scoped>\n",
       "    .dataframe tbody tr th:only-of-type {\n",
       "        vertical-align: middle;\n",
       "    }\n",
       "\n",
       "    .dataframe tbody tr th {\n",
       "        vertical-align: top;\n",
       "    }\n",
       "\n",
       "    .dataframe thead th {\n",
       "        text-align: right;\n",
       "    }\n",
       "</style>\n",
       "<table border=\"1\" class=\"dataframe\">\n",
       "  <thead>\n",
       "    <tr style=\"text-align: right;\">\n",
       "      <th></th>\n",
       "      <th>a</th>\n",
       "      <th>b</th>\n",
       "      <th>c</th>\n",
       "      <th>d</th>\n",
       "    </tr>\n",
       "  </thead>\n",
       "  <tbody>\n",
       "    <tr>\n",
       "      <th>one</th>\n",
       "      <td>True</td>\n",
       "      <td>True</td>\n",
       "      <td>True</td>\n",
       "      <td>False</td>\n",
       "    </tr>\n",
       "    <tr>\n",
       "      <th>three</th>\n",
       "      <td>False</td>\n",
       "      <td>False</td>\n",
       "      <td>True</td>\n",
       "      <td>False</td>\n",
       "    </tr>\n",
       "  </tbody>\n",
       "</table>\n",
       "</div>"
      ],
      "text/plain": [
       "           a      b     c      d\n",
       "one     True   True  True  False\n",
       "three  False  False  True  False"
      ]
     },
     "execution_count": 70,
     "metadata": {},
     "output_type": "execute_result"
    }
   ],
   "source": [
    "df.loc[['one','three']] < 50"
   ]
  },
  {
   "cell_type": "code",
   "execution_count": 68,
   "metadata": {},
   "outputs": [
    {
     "name": "stdout",
     "output_type": "stream",
     "text": [
      "               a          b          c          d\n",
      "one    42.068351  36.925183  19.533430  76.948245\n",
      "two    36.986052  78.830728  65.126757  66.449662\n",
      "three  90.401590  71.410020  39.464290  89.691681\n",
      "four   50.147962  44.660405  34.509222  71.500462\n",
      "------\n",
      "one      42.068351\n",
      "three    90.401590\n",
      "Name: a, dtype: float64\n",
      "               b         c          d\n",
      "one    36.925183  19.53343  76.948245\n",
      "three  71.410020  39.46429  89.691681\n",
      "             a          b          c          d\n",
      "one  42.068351  36.925183  19.533430  76.948245\n",
      "two  36.986052  78.830728  65.126757  66.449662\n"
     ]
    }
   ],
   "source": [
    "# 多重索引：比如同时索引行和列\n",
    "# 先选择列再选择行 —— 相当于对于一个数据，先筛选字段，再选择数据量\n",
    "\n",
    "df = pd.DataFrame(np.random.rand(16).reshape(4,4)*100,\n",
    "                   index = ['one','two','three','four'],\n",
    "                   columns = ['a','b','c','d'])\n",
    "print(df)\n",
    "print('------')\n",
    "\n",
    "print(df['a'].loc[['one','three']])   # 选择a列的one，three行\n",
    "print(df[['b','c','d']].iloc[::2])   # 选择b，c，d列的one，three行\n",
    "print(df[df['a'] < 50].iloc[:2])   # 选择满足判断索引的前两行数据"
   ]
  },
  {
   "cell_type": "code",
   "execution_count": 69,
   "metadata": {},
   "outputs": [
    {
     "data": {
      "text/html": [
       "<div>\n",
       "<style scoped>\n",
       "    .dataframe tbody tr th:only-of-type {\n",
       "        vertical-align: middle;\n",
       "    }\n",
       "\n",
       "    .dataframe tbody tr th {\n",
       "        vertical-align: top;\n",
       "    }\n",
       "\n",
       "    .dataframe thead th {\n",
       "        text-align: right;\n",
       "    }\n",
       "</style>\n",
       "<table border=\"1\" class=\"dataframe\">\n",
       "  <thead>\n",
       "    <tr style=\"text-align: right;\">\n",
       "      <th></th>\n",
       "      <th>b</th>\n",
       "      <th>c</th>\n",
       "    </tr>\n",
       "  </thead>\n",
       "  <tbody>\n",
       "    <tr>\n",
       "      <th>three</th>\n",
       "      <td>71.410020</td>\n",
       "      <td>39.464290</td>\n",
       "    </tr>\n",
       "    <tr>\n",
       "      <th>four</th>\n",
       "      <td>44.660405</td>\n",
       "      <td>34.509222</td>\n",
       "    </tr>\n",
       "  </tbody>\n",
       "</table>\n",
       "</div>"
      ],
      "text/plain": [
       "               b          c\n",
       "three  71.410020  39.464290\n",
       "four   44.660405  34.509222"
      ]
     },
     "execution_count": 69,
     "metadata": {},
     "output_type": "execute_result"
    }
   ],
   "source": [
    "df[['b','c']][df['a']>50]"
   ]
  },
  {
   "cell_type": "code",
   "execution_count": 77,
   "metadata": {},
   "outputs": [
    {
     "data": {
      "text/html": [
       "<div>\n",
       "<style scoped>\n",
       "    .dataframe tbody tr th:only-of-type {\n",
       "        vertical-align: middle;\n",
       "    }\n",
       "\n",
       "    .dataframe tbody tr th {\n",
       "        vertical-align: top;\n",
       "    }\n",
       "\n",
       "    .dataframe thead th {\n",
       "        text-align: right;\n",
       "    }\n",
       "</style>\n",
       "<table border=\"1\" class=\"dataframe\">\n",
       "  <thead>\n",
       "    <tr style=\"text-align: right;\">\n",
       "      <th></th>\n",
       "      <th>b</th>\n",
       "      <th>c</th>\n",
       "    </tr>\n",
       "  </thead>\n",
       "  <tbody>\n",
       "    <tr>\n",
       "      <th>three</th>\n",
       "      <td>71.410020</td>\n",
       "      <td>39.464290</td>\n",
       "    </tr>\n",
       "    <tr>\n",
       "      <th>four</th>\n",
       "      <td>44.660405</td>\n",
       "      <td>34.509222</td>\n",
       "    </tr>\n",
       "  </tbody>\n",
       "</table>\n",
       "</div>"
      ],
      "text/plain": [
       "               b          c\n",
       "three  71.410020  39.464290\n",
       "four   44.660405  34.509222"
      ]
     },
     "execution_count": 77,
     "metadata": {},
     "output_type": "execute_result"
    }
   ],
   "source": [
    "df[df['a']>50][['b','c']]"
   ]
  },
  {
   "cell_type": "code",
   "execution_count": 75,
   "metadata": {},
   "outputs": [
    {
     "data": {
      "text/plain": [
       "(array([10.71136662, 25.7264874 ,  8.87706234,  6.81855967, 11.77341836,\n",
       "         6.06201123, 10.58213833,  9.24424266, 18.76237471, 21.26392447,\n",
       "        16.94649676]), array([[ -5.11463809, -11.91289237],\n",
       "        [ -8.42310928,  10.71136662],\n",
       "        [ 25.7264874 ,   3.95063601],\n",
       "        [  2.28578641,   8.87706234],\n",
       "        [  2.8680453 ,  -6.36172337],\n",
       "        [ -2.36654968,   0.75250115],\n",
       "        [  2.31479764, -16.32080559],\n",
       "        [  6.81855967, -11.26714774],\n",
       "        [ 11.77341836,   6.06201123],\n",
       "        [ -1.76275567,  10.58213833],\n",
       "        [  9.24424266,  -4.91151018],\n",
       "        [ -0.34756541,   4.34342896],\n",
       "        [ -2.76499645,   0.69142237],\n",
       "        [-14.11326467,  -7.83395055],\n",
       "        [  3.88392683,   4.91577625],\n",
       "        [-21.7602462 ,   0.7887287 ],\n",
       "        [ 18.76237471, -17.17450864],\n",
       "        [ 21.26392447,  -5.9731915 ],\n",
       "        [ -2.7964685 ,  -0.85250285],\n",
       "        [ 16.94649676,   0.6630463 ]]))"
      ]
     },
     "execution_count": 75,
     "metadata": {},
     "output_type": "execute_result"
    }
   ],
   "source": [
    "ar = np.random.randn(20,2)*10\n",
    "ar[ar>5],ar"
   ]
  },
  {
   "cell_type": "markdown",
   "metadata": {},
   "source": [
    "######## 课后小练习,请查看 “pandas课程作业.docx”  ########\n",
    "\n",
    "作业1：如图创建Dataframe(4*4，值为0-100的随机数)，通过索引得到以下值\n",
    "* 索引得到b，c列的所有值\n",
    "* 索引得到第三第四行的数据\n",
    "* 按顺序索引得到two，one行的值\n",
    "* 索引得到大于50的值\n",
    "\n",
    "作业2：创建一个Series，包含10个元素，且每个值为0-100的均匀分布随机值，index为a-j，请分别筛选出：\n",
    "* 标签为b，c的值为多少\n",
    "* Series中第4到6个值是哪些？\n",
    "* Series中大于50的值有哪些？"
   ]
  },
  {
   "cell_type": "code",
   "execution_count": 78,
   "metadata": {},
   "outputs": [
    {
     "name": "stdout",
     "output_type": "stream",
     "text": [
      "               a          b          c          d\n",
      "one    92.552713  35.620893  50.896262   3.296797\n",
      "two    54.601670  57.087163  53.059050  49.067173\n",
      "three  93.455991  42.087070   6.777460  31.258537\n",
      "four   44.472669  45.159501  12.074118  11.022554\n",
      "------------------\n",
      "               b          c\n",
      "one    35.620893  50.896262\n",
      "two    57.087163  53.059050\n",
      "three  42.087070   6.777460\n",
      "four   45.159501  12.074118\n",
      "               a          b          c          d\n",
      "three  93.455991  42.087070   6.777460  31.258537\n",
      "four   44.472669  45.159501  12.074118  11.022554\n",
      "               a          b          c          d\n",
      "three  93.455991  42.087070   6.777460  31.258537\n",
      "four   44.472669  45.159501  12.074118  11.022554\n",
      "             a          b          c          d\n",
      "two  54.601670  57.087163  53.059050  49.067173\n",
      "one  92.552713  35.620893  50.896262   3.296797\n",
      "               a          b          c   d\n",
      "one    92.552713        NaN  50.896262 NaN\n",
      "two    54.601670  57.087163  53.059050 NaN\n",
      "three  93.455991        NaN        NaN NaN\n",
      "four         NaN        NaN        NaN NaN\n"
     ]
    }
   ],
   "source": [
    "# 作业1 \n",
    "\n",
    "df = pd.DataFrame(np.random.rand(16).reshape(4,4)*100,\n",
    "                 index=['one','two','three','four'],\n",
    "                 columns=['a','b','c','d'])\n",
    "print(df)\n",
    "print(\"------------------\")\n",
    "print(df[['b','c']])\n",
    "print(df.loc[['three','four']])\n",
    "# print(df.iloc[[2,3]])\n",
    "print(df.iloc[[1,0]])\n",
    "print(df[df > 50])"
   ]
  },
  {
   "cell_type": "code",
   "execution_count": 64,
   "metadata": {},
   "outputs": [
    {
     "name": "stdout",
     "output_type": "stream",
     "text": [
      "            0\n",
      "a  106.448445\n",
      "b   52.148325\n",
      "c  -71.818929\n",
      "d  165.708553\n",
      "e -103.110515\n",
      "f   47.536683\n",
      "g   45.596872\n",
      "h   44.526641\n",
      "i -168.760806\n",
      "j  -76.044108\n",
      "           0\n",
      "b  52.148325\n",
      "c -71.818929\n",
      "            0\n",
      "d  165.708553\n",
      "e -103.110515\n",
      "f   47.536683\n",
      "            0\n",
      "a  106.448445\n",
      "b   52.148325\n",
      "c         NaN\n",
      "d  165.708553\n",
      "e         NaN\n",
      "f         NaN\n",
      "g         NaN\n",
      "h         NaN\n",
      "i         NaN\n",
      "j         NaN\n"
     ]
    }
   ],
   "source": [
    "# 作业2\n",
    "df = pd.DataFrame(np.random.randn(10)*100,\n",
    "                 index=['a','b','c','d','e','f','g','h','i','j'])\n",
    "print(df)\n",
    "\n",
    "print(df.loc[['b','c']])\n",
    "print(df.iloc[3:6])\n",
    "print(df[df > 50])"
   ]
  },
  {
   "cell_type": "code",
   "execution_count": 81,
   "metadata": {},
   "outputs": [
    {
     "name": "stdout",
     "output_type": "stream",
     "text": [
      "-38.67406264181823 120.45847573997523\n",
      "-41.6906777090378 -59.06962350129509\n",
      "['a', 'c', 'd']\n"
     ]
    }
   ],
   "source": [
    "# 作业2\n",
    "s = pd.Series(np.random.randn(10)*100,\n",
    "             index=['a','b','c','d','e','f','g','h','i','j'])\n",
    "print(s.loc['b'],s.loc['c'])\n",
    "print(s.iloc[4],s.iloc[6])\n",
    "print(s[s>50].index.tolist())"
   ]
  }
 ],
 "metadata": {
  "kernelspec": {
   "display_name": "Python 3",
   "language": "python",
   "name": "python3"
  },
  "language_info": {
   "codemirror_mode": {
    "name": "ipython",
    "version": 3
   },
   "file_extension": ".py",
   "mimetype": "text/x-python",
   "name": "python",
   "nbconvert_exporter": "python",
   "pygments_lexer": "ipython3",
   "version": "3.7.3"
  }
 },
 "nbformat": 4,
 "nbformat_minor": 2
}
