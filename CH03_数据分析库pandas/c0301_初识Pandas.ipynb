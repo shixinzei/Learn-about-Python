{
 "cells": [
  {
   "cell_type": "markdown",
   "metadata": {},
   "source": [
    "Pandas——数据分析核心工具包\n",
    "基于Numpy构建，为数据分析而存在！\n",
    "* 一维数组Series + 二维数组DataFrame\n",
    "* 可直接读取数据并做处理（高校简单）\n",
    "* 兼容各种数据库\n",
    "* 支持各种分析算法"
   ]
  },
  {
   "cell_type": "markdown",
   "metadata": {},
   "source": [
    "关于Pandas我们要学什么？\n",
    "* Pandas数据结构Series：基本概念及创建\n",
    "* Pandas数据结构DataFrame：基本概念及创建\n",
    "* 索引与切片\n",
    "* 基本技巧\n",
    "* 数值计算和统计基础\n",
    "* 文本数据\n",
    "* 合并、连接、去重、替换\n",
    "* 数据分组\n",
    "* 数据读取.ipynb"
   ]
  }
 ],
 "metadata": {
  "kernelspec": {
   "display_name": "Python 3",
   "language": "python",
   "name": "python3"
  },
  "language_info": {
   "codemirror_mode": {
    "name": "ipython",
    "version": 3
   },
   "file_extension": ".py",
   "mimetype": "text/x-python",
   "name": "python",
   "nbconvert_exporter": "python",
   "pygments_lexer": "ipython3",
   "version": "3.7.3"
  }
 },
 "nbformat": 4,
 "nbformat_minor": 2
}
