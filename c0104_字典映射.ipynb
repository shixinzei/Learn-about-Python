{
 "cells": [
  {
   "cell_type": "markdown",
   "metadata": {},
   "source": [
    "1、字典dict基本概念\n",
    "\n",
    "* 字典是另一种可变容器模型，且可存储任意类型对象。\n",
    "* 字典的每个键值(key=>value)对用冒号(:)分割，每个对之间用逗号(,)分割，整个字典包括在花括号({})中 \n",
    "* 键必须是唯一的，但值则不必。"
   ]
  },
  {
   "cell_type": "code",
   "execution_count": 2,
   "metadata": {},
   "outputs": [
    {
     "name": "stdout",
     "output_type": "stream",
     "text": [
      "{'大头儿子': 6, '小头爸爸': '35', '隔壁老王': 37}\n",
      "[{'name': 'Tom', 'age': 18}, {'name': 'Jack', 'age': 19}, {'name': 'Alex', 'age': 17}]\n"
     ]
    }
   ],
   "source": [
    "# 什么是映射？什么是字典dict？\n",
    "\n",
    "name = ['大头儿子','小头爸爸','隔壁老王']\n",
    "age = [6,35,37]\n",
    "# 首先虽然序列是有顺序的，但还是不能直接把名字和年龄关联起来，这里只是顺序对上，且并没有一对一的关系\n",
    "\n",
    "dic = {'大头儿子':6,'小头爸爸':'35','隔壁老王':37}\n",
    "print(dic)\n",
    "# 用{}来表示，按照key：value来表示字典中的元素，其中key是键，value是值，key-value也就是键值对\n",
    "# 这里dic就是一个字典类型的变量\n",
    "\n",
    "dic = [{'name':'Tom','age':18},{'name':'Jack','age':19},{'name':'Alex', \"age\":17}]\n",
    "print(dic)\n",
    "# 一个以字典为元素的列表，有没有觉得键值对很像数据中的字段和字段值？"
   ]
  },
  {
   "cell_type": "code",
   "execution_count": 8,
   "metadata": {},
   "outputs": [
    {
     "name": "stdout",
     "output_type": "stream",
     "text": [
      "{'a': 1, 'b': 2}\n",
      "{'var1': 1, 'var2': 'hello', 'var3': [1, 2, 3], 'var4': {'a': 1, 'b': 2}}\n",
      "{'var2': 'hello', 'var3': [1, 2, 3], 'var4': '任意修改其中一个值', 'var5': '添加一个值'}\n",
      "{}\n"
     ]
    }
   ],
   "source": [
    "# 字典的特点\n",
    "\n",
    "dic = {'a':1,'b':2,'c':3}\n",
    "# 键值对，一定共同出现，不能只有一个\n",
    "\n",
    "dic = {'a':1,'b':2}\n",
    "print(dic)\n",
    "# 不允许同一个键出现两次：创建时如果同一个键被赋值两次，后一个值会被记住\n",
    "\n",
    "dic = {'var1':1,'var2':'hello','var3':[1,2,3],'var4':{'a':1,'b':2}}\n",
    "# key必须是不可变对象，value则可以是任意对象：数值，字符串，序列，字典\n",
    "print(dic)\n",
    "\n",
    "# 字典是一个无序集合,序列由于没有key来做对应，所以以顺序来对应值\n",
    "# 序列有顺序，字典没有！\n",
    "\n",
    "dic['var5'] = '添加一个值'  # 任意添加元素\n",
    "dic['var4'] = '任意修改其中一个值'  # 任意修改元素\n",
    "del dic['var1']  # 任意删除元素\n",
    "print(dic)\n",
    "\n",
    "dic.clear() #  清空词典所有条目\n",
    "print(dic)"
   ]
  },
  {
   "cell_type": "code",
   "execution_count": 37,
   "metadata": {},
   "outputs": [
    {
     "ename": "TypeError",
     "evalue": "'set' object is not subscriptable",
     "output_type": "error",
     "traceback": [
      "\u001b[1;31m---------------------------------------------------------------------------\u001b[0m",
      "\u001b[1;31mTypeError\u001b[0m                                 Traceback (most recent call last)",
      "\u001b[1;32m<ipython-input-37-c7d753c27199>\u001b[0m in \u001b[0;36m<module>\u001b[1;34m\u001b[0m\n\u001b[0;32m      1\u001b[0m \u001b[0mdic\u001b[0m \u001b[1;33m=\u001b[0m \u001b[1;33m{\u001b[0m\u001b[1;34m'a'\u001b[0m\u001b[1;33m}\u001b[0m\u001b[1;33m\u001b[0m\u001b[1;33m\u001b[0m\u001b[0m\n\u001b[1;32m----> 2\u001b[1;33m \u001b[0mdic\u001b[0m\u001b[1;33m[\u001b[0m\u001b[1;34m'a'\u001b[0m\u001b[1;33m]\u001b[0m\u001b[1;33m\u001b[0m\u001b[1;33m\u001b[0m\u001b[0m\n\u001b[0m",
      "\u001b[1;31mTypeError\u001b[0m: 'set' object is not subscriptable"
     ]
    }
   ],
   "source": [
    "dic = {'a'} # 键值对，一定共同出现，不能只有一个\n",
    "dic['a']"
   ]
  },
  {
   "cell_type": "code",
   "execution_count": 39,
   "metadata": {},
   "outputs": [
    {
     "data": {
      "text/plain": [
       "{'a': 1, 200: 100, (2, 2, 3): 'dsadas'}"
      ]
     },
     "execution_count": 39,
     "metadata": {},
     "output_type": "execute_result"
    }
   ],
   "source": [
    "dic = {'a':1,200:100,(2,2,3):'dsadas'}\n",
    "dic\n",
    "# key必须是不可变对象，value则可以是任意对象：数值，字符串，序列，字典"
   ]
  },
  {
   "cell_type": "code",
   "execution_count": 40,
   "metadata": {},
   "outputs": [
    {
     "data": {
      "text/plain": [
       "{'a': 1, 200: 100, (2, 2, 3): 'dsadas', 'var1': 'dasda'}"
      ]
     },
     "execution_count": 40,
     "metadata": {},
     "output_type": "execute_result"
    }
   ],
   "source": [
    "dic['var1'] = 'dasda'\n",
    "dic"
   ]
  },
  {
   "cell_type": "code",
   "execution_count": 9,
   "metadata": {},
   "outputs": [
    {
     "ename": "NameError",
     "evalue": "name 'dic' is not defined",
     "output_type": "error",
     "traceback": [
      "\u001b[1;31m---------------------------------------------------------------------------\u001b[0m",
      "\u001b[1;31mNameError\u001b[0m                                 Traceback (most recent call last)",
      "\u001b[1;32m<ipython-input-9-30a93760d091>\u001b[0m in \u001b[0;36m<module>\u001b[1;34m\u001b[0m\n\u001b[0;32m      1\u001b[0m \u001b[1;32mdel\u001b[0m \u001b[0mdic\u001b[0m\u001b[1;33m\u001b[0m\u001b[1;33m\u001b[0m\u001b[0m\n\u001b[1;32m----> 2\u001b[1;33m \u001b[0mprint\u001b[0m\u001b[1;33m(\u001b[0m\u001b[0mdic\u001b[0m\u001b[1;33m)\u001b[0m\u001b[1;33m\u001b[0m\u001b[1;33m\u001b[0m\u001b[0m\n\u001b[0m",
      "\u001b[1;31mNameError\u001b[0m: name 'dic' is not defined"
     ]
    }
   ],
   "source": [
    "del dic  # 删除词典\n",
    "print(dic) # 已经删除 打印报错"
   ]
  },
  {
   "cell_type": "code",
   "execution_count": 10,
   "metadata": {},
   "outputs": [
    {
     "name": "stdout",
     "output_type": "stream",
     "text": [
      "{'m': 10, 'n': 'aa', 'h': [1, 2, 3]}\n"
     ]
    }
   ],
   "source": [
    "# 申明一个字典\n",
    "\n",
    "dic = {'a':1,'b':2}\n",
    "# 最简单直接的方式，手动书写申明一个字典变量，注意是：不是=\n",
    "\n",
    "dic = dict(m=10, n='aa', h=[1,2,3])\n",
    "print(dic)\n",
    "# dict()函数"
   ]
  },
  {
   "cell_type": "code",
   "execution_count": 12,
   "metadata": {},
   "outputs": [
    {
     "name": "stdout",
     "output_type": "stream",
     "text": [
      "{'a': 'fff', 'b': 'ggg'} {'c': 1, 'd': 2} {'e': [1, 2], 'f': [3, 4]}\n",
      "{'a': None, 'b': None, 'c': None} {'a': 'hello', 'b': 'hello', 'c': 'hello'}\n"
     ]
    }
   ],
   "source": [
    "lst1 = [('a','fff'),('b','ggg')]\n",
    "lst2 = [['c',1],['d',2]]\n",
    "lst3 = (('e',[1,2]),('f',[3,4]))\n",
    "dic1 = dict(lst1)\n",
    "dic2 = dict(lst2)\n",
    "dic3 = dict(lst3)\n",
    "print(dic1,dic2,dic3)\n",
    "# dict()由序列生成一个字典，嵌套序列，可以是list或者tuple\n",
    "\n",
    "keys = ['a','b','c']\n",
    "dic1 = dict.fromkeys(keys)\n",
    "dic2 = dict.fromkeys(keys, 'hello')\n",
    "print(dic1,dic2)"
   ]
  },
  {
   "cell_type": "code",
   "execution_count": 41,
   "metadata": {},
   "outputs": [
    {
     "data": {
      "text/plain": [
       "[{'name': 'name0', 'age': 10},\n",
       " {'name': 'name1', 'age': 11},\n",
       " {'name': 'name2', 'age': 12},\n",
       " {'name': 'name3', 'age': 13},\n",
       " {'name': 'name4', 'age': 14},\n",
       " {'name': 'name5', 'age': 15},\n",
       " {'name': 'name6', 'age': 16},\n",
       " {'name': 'name7', 'age': 17},\n",
       " {'name': 'name8', 'age': 18},\n",
       " {'name': 'name9', 'age': 19},\n",
       " {'name': 'name10', 'age': 20},\n",
       " {'name': 'name11', 'age': 21},\n",
       " {'name': 'name12', 'age': 22},\n",
       " {'name': 'name13', 'age': 23},\n",
       " {'name': 'name14', 'age': 24},\n",
       " {'name': 'name15', 'age': 25},\n",
       " {'name': 'name16', 'age': 26},\n",
       " {'name': 'name17', 'age': 27},\n",
       " {'name': 'name18', 'age': 28},\n",
       " {'name': 'name19', 'age': 29}]"
      ]
     },
     "execution_count": 41,
     "metadata": {},
     "output_type": "execute_result"
    }
   ],
   "source": [
    "lst = []\n",
    "for i in range(20):\n",
    "    dic = {}\n",
    "    dic['name'] = 'name%i' % i\n",
    "    dic['age'] = 10 + i\n",
    "    lst.append(dic)\n",
    "lst"
   ]
  },
  {
   "cell_type": "code",
   "execution_count": 43,
   "metadata": {},
   "outputs": [
    {
     "data": {
      "text/plain": [
       "[{'name': 'name0', 'age': 10},\n",
       " {'name': 'name1', 'age': 11},\n",
       " {'name': 'name2', 'age': 12},\n",
       " {'name': 'name3', 'age': 13},\n",
       " {'name': 'name4', 'age': 14},\n",
       " {'name': 'name5', 'age': 15},\n",
       " {'name': 'name6', 'age': 16},\n",
       " {'name': 'name7', 'age': 17},\n",
       " {'name': 'name8', 'age': 18},\n",
       " {'name': 'name9', 'age': 19},\n",
       " {'name': 'name10', 'age': 20},\n",
       " {'name': 'name11', 'age': 21},\n",
       " {'name': 'name12', 'age': 22},\n",
       " {'name': 'name13', 'age': 23},\n",
       " {'name': 'name14', 'age': 24},\n",
       " {'name': 'name15', 'age': 25},\n",
       " {'name': 'name16', 'age': 26},\n",
       " {'name': 'name17', 'age': 27},\n",
       " {'name': 'name18', 'age': 28},\n",
       " {'name': 'name19', 'age': 29}]"
      ]
     },
     "execution_count": 43,
     "metadata": {},
     "output_type": "execute_result"
    }
   ],
   "source": [
    "lst = []\n",
    "for i in range(20):\n",
    "    dic = dict([['name','name%i'%i],['age',10+i]])\n",
    "    lst.append(dic)\n",
    "lst"
   ]
  },
  {
   "cell_type": "markdown",
   "metadata": {},
   "source": [
    "小作业\n",
    "\n",
    "① 用dict函数的时候，和直接申明一个字典，操作上什么区别？\n",
    "\n",
    "② 用dict()函数从序列创建字典的时候，对序列有要求吗？必须是列表吗？\n",
    "\n",
    "③ 字典是无序的，强化一下\n",
    "\n",
    "④ 以dict()函数生成一个人的成绩单，包括语文，数学，外语，物理，化学几个元素"
   ]
  },
  {
   "cell_type": "code",
   "execution_count": 44,
   "metadata": {},
   "outputs": [],
   "source": [
    "# a1:\n",
    "# 书写方式区别"
   ]
  },
  {
   "cell_type": "markdown",
   "metadata": {},
   "source": [
    "2、字典常用操作\n",
    "\n",
    "字典内置函数&方法"
   ]
  },
  {
   "cell_type": "code",
   "execution_count": 46,
   "metadata": {},
   "outputs": [
    {
     "name": "stdout",
     "output_type": "stream",
     "text": [
      "{'a': 1, 'b': 2, 'c': 3, 'd': 4} {'c': 3, 'd': 4}\n",
      "2815022855872 2815022855872\n",
      "{'m': 1, 'n': 2, 'p': 3, 'q': 4} {'m': 1, 'n': 2, 'p': 3, 'q': 4}\n",
      "2815022856088 2815022854216\n",
      "{'m': 1, 'n': 2, 'p': 3, 'q': 4} {'m': 1, 'n': 2, 'p': 3}\n",
      "4\n",
      "True\n",
      "False\n"
     ]
    }
   ],
   "source": [
    "# 字典常用操作\n",
    "\n",
    "dic1 = {'a':1,'b':2}\n",
    "dic2 = {'c':3,'d':4}\n",
    "dic1.update(dic2)\n",
    "print(dic1,dic2)\n",
    "# dict.update()方法：更新/合并一个字典，把第二个字典合并到第一个字典，改变了第一个字典\n",
    "\n",
    "a = {'m':1,'n':2,'p':3}\n",
    "b = a\n",
    "a.update({'q':4})\n",
    "print(id(a),id(b))\n",
    "print(a,b)\n",
    "# 和序列的原理一样，a和b指向同一个字典，所以会一起更新\n",
    "\n",
    "a = {'m':1,'n':2,'p':3}\n",
    "b = a.copy()\n",
    "a.update({'q':4})\n",
    "print(id(a),id(b))\n",
    "print(a,b)\n",
    "# 通过.copy()方法，复制一个新的字典\n",
    "\n",
    "print(len(a))\n",
    "# 查看字典元素个数\n",
    "\n",
    "print('m' in a)\n",
    "print(1 in a)\n",
    "# in / not in ：判断是否包含，这里的判断对象是key"
   ]
  },
  {
   "cell_type": "markdown",
   "metadata": {},
   "source": [
    "3、字典的元素访问及遍历\n",
    "\n",
    "如何读取字典？"
   ]
  },
  {
   "cell_type": "code",
   "execution_count": 29,
   "metadata": {},
   "outputs": [
    {
     "name": "stdout",
     "output_type": "stream",
     "text": [
      "1\n",
      "somewhere\n",
      "shop\n",
      "nothing\n",
      "None\n",
      "dict_keys(['name', 'city', 'information']) <class 'dict_keys'>\n",
      "['name', 'city', 'information']\n",
      "dict_values(['shop', 'shanghai', {'address': 'somewhere', 'num': 66663333}]) <class 'dict_values'>\n",
      "['shop', 'shanghai', {'address': 'somewhere', 'num': 66663333}]\n",
      "dict_items([('name', 'shop'), ('city', 'shanghai'), ('information', {'address': 'somewhere', 'num': 66663333})]) <class 'dict_items'>\n",
      "[('name', 'shop'), ('city', 'shanghai'), ('information', {'address': 'somewhere', 'num': 66663333})]\n"
     ]
    }
   ],
   "source": [
    "# 字典的元素访问\n",
    "\n",
    "dic = {'a':1,'b':2,'c':3}\n",
    "print(dic['a'])\n",
    "# print(dic[1])  # 不能用序列的索引方式 无序的\n",
    "# 字典里面也就同样的意思，但字典没有顺序，以key来作为指向，所以指向的key必须存在\n",
    "\n",
    "poi = {'name':'shop', 'city':'shanghai', 'information':{'address':'somewhere', 'num':66663333}}\n",
    "print(poi['information']['address'])\n",
    "# 对于嵌套字典，输出嵌套内容，通过重复指向来输出\n",
    "\n",
    "print(poi.get('name'))\n",
    "print(poi.get('type',print('nothing')))\n",
    "# .get(key)方法：直接查看key的value，如果没有相应key则返回None，添加print参数可以多返回一个值\n",
    "\n",
    "print(poi.keys(),type(poi.keys()))\n",
    "print(list(poi.keys()))\n",
    "# .keys()方法：输出字典所有key，注意这里的输出内容格式是视图，可以用list()得到key的列表，类似range()\n",
    "\n",
    "print(poi.values(),type(poi.values()))\n",
    "print(list(poi.values()))\n",
    "# .values()方法：输出字典所有values，原理同.keys()方法\n",
    "\n",
    "print(poi.items(),type(poi.items()))\n",
    "print(list(poi.items()))\n",
    "# .items()方法：输出字典所有items（元素），原理同.keys()方法"
   ]
  },
  {
   "cell_type": "code",
   "execution_count": 48,
   "metadata": {},
   "outputs": [
    {
     "name": "stdout",
     "output_type": "stream",
     "text": [
      "{'address': 'somewhere', 'num': 66663333}\n",
      "<class 'dict'>\n",
      "somewhere\n"
     ]
    }
   ],
   "source": [
    "poi = {'name':'shop', 'city':'shanghai', 'information':{'address':'somewhere', 'num':66663333}}\n",
    "print(poi['information'])\n",
    "print(type(poi['information']))\n",
    "print(poi['information']['address'])\n",
    "# 对于嵌套字典，输出嵌套内容，通过重复指向来输出"
   ]
  },
  {
   "cell_type": "code",
   "execution_count": 30,
   "metadata": {},
   "outputs": [
    {
     "name": "stdout",
     "output_type": "stream",
     "text": [
      "name\n",
      "city\n",
      "information\n",
      "----------\n",
      "shop\n",
      "shanghai\n",
      "{'address': 'somewhere', 'num': 66663333}\n",
      "----------\n",
      "key为name,value为shop\n",
      "key为city,value为shanghai\n",
      "key为information,value为{'address': 'somewhere', 'num': 66663333}\n"
     ]
    }
   ],
   "source": [
    "# 字典的元素遍历\n",
    "\n",
    "poi = {'name':'shop', 'city':'shanghai', 'information':{'address':'somewhere', 'num':66663333}}\n",
    "for key in poi.keys():\n",
    "    print(key)\n",
    "print(\"----------\")\n",
    "\n",
    "for value in poi.values():\n",
    "    print(value)\n",
    "print(\"----------\")\n",
    "\n",
    "for (k,v) in poi.items():\n",
    "    print('key为%s,value为%s' % (k,v))\n",
    "# for函数遍历"
   ]
  },
  {
   "cell_type": "markdown",
   "metadata": {},
   "source": [
    "小作业\n",
    "\n",
    "① dict.keys()生成的是不是列表？\n",
    "\n",
    "② 如何判断一个value是否存在于字典中？"
   ]
  },
  {
   "cell_type": "code",
   "execution_count": 32,
   "metadata": {},
   "outputs": [
    {
     "name": "stdout",
     "output_type": "stream",
     "text": [
      "<class 'dict_keys'>\n"
     ]
    }
   ],
   "source": [
    "# a1:\n",
    "poi = {'name':'shop', 'city':'shanghai', 'information':{'address':'somewhere', 'num':66663333}}\n",
    "print(type(poi.keys()))"
   ]
  },
  {
   "cell_type": "code",
   "execution_count": 35,
   "metadata": {},
   "outputs": [
    {
     "name": "stdout",
     "output_type": "stream",
     "text": [
      "in\n"
     ]
    }
   ],
   "source": [
    "# a2:\n",
    "\n",
    "poi = {'name':'shop', 'city':'shanghai', 'information':{'address':'somewhere', 'num':66663333}}\n",
    "v = 'shop'\n",
    "flag = 0\n",
    "for value in poi.values():\n",
    "    if v == value:\n",
    "        flag=1\n",
    "        break\n",
    "if flag:\n",
    "    print('in')\n",
    "else:\n",
    "    print('not in')   "
   ]
  },
  {
   "cell_type": "code",
   "execution_count": 50,
   "metadata": {},
   "outputs": [
    {
     "data": {
      "text/plain": [
       "True"
      ]
     },
     "execution_count": 50,
     "metadata": {},
     "output_type": "execute_result"
    }
   ],
   "source": [
    "# a2:\n",
    "'shop' in poi.values()"
   ]
  },
  {
   "cell_type": "code",
   "execution_count": 51,
   "metadata": {},
   "outputs": [
    {
     "data": {
      "text/plain": [
       "dict_values(['shop', 'shanghai', {'address': 'somewhere', 'num': 66663333}])"
      ]
     },
     "execution_count": 51,
     "metadata": {},
     "output_type": "execute_result"
    }
   ],
   "source": [
    "poi.values()"
   ]
  },
  {
   "cell_type": "code",
   "execution_count": 52,
   "metadata": {},
   "outputs": [
    {
     "data": {
      "text/plain": [
       "['shop', 'shanghai', {'address': 'somewhere', 'num': 66663333}]"
      ]
     },
     "execution_count": 52,
     "metadata": {},
     "output_type": "execute_result"
    }
   ],
   "source": [
    "list(poi.values())"
   ]
  },
  {
   "cell_type": "code",
   "execution_count": null,
   "metadata": {},
   "outputs": [],
   "source": []
  }
 ],
 "metadata": {
  "kernelspec": {
   "display_name": "Python 3",
   "language": "python",
   "name": "python3"
  },
  "language_info": {
   "codemirror_mode": {
    "name": "ipython",
    "version": 3
   },
   "file_extension": ".py",
   "mimetype": "text/x-python",
   "name": "python",
   "nbconvert_exporter": "python",
   "pygments_lexer": "ipython3",
   "version": "3.7.3"
  }
 },
 "nbformat": 4,
 "nbformat_minor": 2
}
