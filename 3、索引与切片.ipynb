{
 "cells": [
  {
   "cell_type": "markdown",
   "metadata": {},
   "source": [
    "再看看序列，list tuple str都是序列\n",
    "* 其中list是可变序列\n",
    "* tuple，str都是不可变序列\n",
    "\n",
    "1.索引"
   ]
  },
  {
   "cell_type": "code",
   "execution_count": 2,
   "metadata": {},
   "outputs": [
    {
     "name": "stdout",
     "output_type": "stream",
     "text": [
      "[1, 2, 3, 4, 5, [1, 2, 3, 4, 5]]\n",
      "1 2\n",
      "[1, 2, 3, 4, 5] 5\n"
     ]
    }
   ],
   "source": [
    "lst = [1,2,3,4,5,[1,2,3,4,5]]\n",
    "print(lst)\n",
    "print(lst[0],lst[1])\n",
    "print(lst[-1],lst[-2])"
   ]
  },
  {
   "cell_type": "code",
   "execution_count": 3,
   "metadata": {},
   "outputs": [
    {
     "data": {
      "text/plain": [
       "6"
      ]
     },
     "execution_count": 3,
     "metadata": {},
     "output_type": "execute_result"
    }
   ],
   "source": [
    "len(lst)"
   ]
  },
  {
   "cell_type": "code",
   "execution_count": 21,
   "metadata": {},
   "outputs": [
    {
     "name": "stdout",
     "output_type": "stream",
     "text": [
      "('a', 'b', 'c', 'd', ('hello', 'world'))\n"
     ]
    }
   ],
   "source": [
    "tup = ('a','b','c','d',('hello','world'))\n",
    "print(tup)"
   ]
  },
  {
   "cell_type": "code",
   "execution_count": 10,
   "metadata": {},
   "outputs": [
    {
     "name": "stdout",
     "output_type": "stream",
     "text": [
      "a e\n"
     ]
    }
   ],
   "source": [
    "st = 'abcdef'\n",
    "print(st[0],st[-2])"
   ]
  },
  {
   "cell_type": "markdown",
   "metadata": {},
   "source": [
    "2.切片 "
   ]
  },
  {
   "cell_type": "code",
   "execution_count": 22,
   "metadata": {},
   "outputs": [
    {
     "name": "stdout",
     "output_type": "stream",
     "text": [
      "[3]\n",
      "[1, 2]\n",
      "[2, 3, 4, 5, [1, 2, 3, 4, 5]]\n",
      "[2, 3, 4, 5]\n",
      "bcdef\n",
      "abcd\n",
      "('c', 'd', ('hello', 'world'))\n"
     ]
    }
   ],
   "source": [
    "# 切片用：表示\n",
    "print(lst[2:3]) # 索引2至索引3 但是不包括索引3\n",
    "print(lst[:2]) # 索引0至缩印2 但是不包括索引2\n",
    "print(lst[1:]) # 索引从1至最后一个元素，包含最后一个元素\n",
    "print(lst[1:-1]) # 索引从1值最后一个元素，但是不包含最后一个元素\n",
    "print(st[1:])\n",
    "print(st[:-2])\n",
    "print(tup[2:5])\n",
    "# 注意：切片是左闭右开"
   ]
  },
  {
   "cell_type": "code",
   "execution_count": 20,
   "metadata": {},
   "outputs": [
    {
     "name": "stdout",
     "output_type": "stream",
     "text": [
      "[3]\n",
      "3\n"
     ]
    }
   ],
   "source": [
    "print(lst[2:3])\n",
    "print(lst[2])"
   ]
  },
  {
   "cell_type": "code",
   "execution_count": 23,
   "metadata": {},
   "outputs": [
    {
     "name": "stdout",
     "output_type": "stream",
     "text": [
      "[10, 40, 70]\n"
     ]
    }
   ],
   "source": [
    "# 步长\n",
    "lst = [10,20,30,40,50,60,70,80,90]\n",
    "print(lst[::3])\n",
    "# lst(a:b:n) 意思是：对于序列lst，从索引a开始到索引b，但不包含索引b，其中间间隔为n(步长)"
   ]
  },
  {
   "cell_type": "markdown",
   "metadata": {},
   "source": [
    "3.可变序列与不可变序列"
   ]
  },
  {
   "cell_type": "code",
   "execution_count": 28,
   "metadata": {},
   "outputs": [],
   "source": [
    "# 修改序列的值\n",
    "# 列表可以修改 直接赋值即可； 元组和字符串不能修改值\n",
    "lst = [3,4,5]\n",
    "tup = (3,4,5)\n",
    "st = '345'"
   ]
  },
  {
   "cell_type": "code",
   "execution_count": 25,
   "metadata": {},
   "outputs": [
    {
     "name": "stdout",
     "output_type": "stream",
     "text": [
      "[3, 100, 5]\n"
     ]
    }
   ],
   "source": [
    "lst[1] = 100\n",
    "print(lst)"
   ]
  },
  {
   "cell_type": "code",
   "execution_count": 26,
   "metadata": {},
   "outputs": [
    {
     "ename": "SyntaxError",
     "evalue": "can't assign to function call (<ipython-input-26-12544841f95f>, line 1)",
     "output_type": "error",
     "traceback": [
      "\u001b[1;36m  File \u001b[1;32m\"<ipython-input-26-12544841f95f>\"\u001b[1;36m, line \u001b[1;32m1\u001b[0m\n\u001b[1;33m    tup(1) = 100\u001b[0m\n\u001b[1;37m                ^\u001b[0m\n\u001b[1;31mSyntaxError\u001b[0m\u001b[1;31m:\u001b[0m can't assign to function call\n"
     ]
    }
   ],
   "source": [
    "tup(1) = 100"
   ]
  },
  {
   "cell_type": "code",
   "execution_count": 27,
   "metadata": {},
   "outputs": [
    {
     "ename": "TypeError",
     "evalue": "'str' object does not support item assignment",
     "output_type": "error",
     "traceback": [
      "\u001b[1;31m---------------------------------------------------------------------------\u001b[0m",
      "\u001b[1;31mTypeError\u001b[0m                                 Traceback (most recent call last)",
      "\u001b[1;32m<ipython-input-27-d10110a6eec0>\u001b[0m in \u001b[0;36m<module>\u001b[1;34m\u001b[0m\n\u001b[1;32m----> 1\u001b[1;33m \u001b[0mst\u001b[0m\u001b[1;33m[\u001b[0m\u001b[1;36m1\u001b[0m\u001b[1;33m]\u001b[0m \u001b[1;33m=\u001b[0m \u001b[1;34m'1'\u001b[0m\u001b[1;33m\u001b[0m\u001b[1;33m\u001b[0m\u001b[0m\n\u001b[0m",
      "\u001b[1;31mTypeError\u001b[0m: 'str' object does not support item assignment"
     ]
    }
   ],
   "source": [
    "st[1] = '1'"
   ]
  },
  {
   "cell_type": "code",
   "execution_count": 37,
   "metadata": {},
   "outputs": [
    {
     "name": "stdout",
     "output_type": "stream",
     "text": [
      "9\n"
     ]
    }
   ],
   "source": [
    "# 列表的常用方法，函数\n",
    "lst = [10,20,30,40,50,60,70,80,90]\n",
    "print(len(lst)) # 求列表长度"
   ]
  },
  {
   "cell_type": "code",
   "execution_count": 38,
   "metadata": {},
   "outputs": [
    {
     "name": "stdout",
     "output_type": "stream",
     "text": [
      "[10, 20, 30, 40, 50, 60, 70, 80, 90, 100, ['a', 'b']]\n"
     ]
    }
   ],
   "source": [
    "# 添加列表元素\n",
    "lst.append(100)\n",
    "lst.append(['a','b'])\n",
    "print(lst)"
   ]
  },
  {
   "cell_type": "code",
   "execution_count": 39,
   "metadata": {
    "scrolled": false
   },
   "outputs": [
    {
     "name": "stdout",
     "output_type": "stream",
     "text": [
      "[10, 20, 30, 40, 50, 60, 70, 80, 90, 100, ['a', 'b'], 'a', 'b', ['dsada', 'dasd']]\n"
     ]
    }
   ],
   "source": [
    "lst.extend(['a','b',['dsada','dasd']])\n",
    "print(lst)"
   ]
  },
  {
   "cell_type": "code",
   "execution_count": 41,
   "metadata": {},
   "outputs": [
    {
     "name": "stdout",
     "output_type": "stream",
     "text": [
      "[10, 20, 10000, 10000, 30, 40, 50, 60, 70, 80, 90, 100, ['a', 'b'], 'a', 'b', ['dsada', 'dasd']]\n"
     ]
    }
   ],
   "source": [
    "lst.insert(2,10000) # 在索引2的位置插入值10000\n",
    "print(lst)"
   ]
  },
  {
   "cell_type": "code",
   "execution_count": 44,
   "metadata": {},
   "outputs": [
    {
     "data": {
      "text/plain": [
       "1658372449864"
      ]
     },
     "execution_count": 44,
     "metadata": {},
     "output_type": "execute_result"
    }
   ],
   "source": [
    "id(lst)"
   ]
  },
  {
   "cell_type": "code",
   "execution_count": 45,
   "metadata": {},
   "outputs": [
    {
     "name": "stdout",
     "output_type": "stream",
     "text": [
      "1658372449864 1658372449864\n"
     ]
    }
   ],
   "source": [
    "lst2 = lst # lst2指向lst id一样 两个列表中值改变会影响另一个列表\n",
    "print(id(lst),id(lst2))"
   ]
  },
  {
   "cell_type": "code",
   "execution_count": 48,
   "metadata": {},
   "outputs": [
    {
     "name": "stdout",
     "output_type": "stream",
     "text": [
      "1658372449864 1658372449864 1658372207624\n"
     ]
    }
   ],
   "source": [
    "lst3 = lst.copy() # 指向改变 lst或lst2中的值改变不会影响lst3中的值\n",
    "print(id(lst),id(lst2),id(lst3))"
   ]
  }
 ],
 "metadata": {
  "kernelspec": {
   "display_name": "Python 3",
   "language": "python",
   "name": "python3"
  },
  "language_info": {
   "codemirror_mode": {
    "name": "ipython",
    "version": 3
   },
   "file_extension": ".py",
   "mimetype": "text/x-python",
   "name": "python",
   "nbconvert_exporter": "python",
   "pygments_lexer": "ipython3",
   "version": "3.7.3"
  }
 },
 "nbformat": 4,
 "nbformat_minor": 2
}
