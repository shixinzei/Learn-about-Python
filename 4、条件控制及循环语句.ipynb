{
 "cells": [
  {
   "cell_type": "markdown",
   "metadata": {},
   "source": [
    "1.条件语句\n",
    "* Python条件语句是通过一条或多条语句的执行结果（True or False）来决定执行的代码块\n",
    "* if...\n",
    "* if...else...\n",
    "* if..elif..elif..else..\n",
    "* 注意缩进问题"
   ]
  },
  {
   "cell_type": "code",
   "execution_count": 7,
   "metadata": {},
   "outputs": [
    {
     "name": "stdout",
     "output_type": "stream",
     "text": [
      "x值大于50\n",
      "hello world\n",
      "hello world\n",
      "hello world\n",
      "finish\n"
     ]
    }
   ],
   "source": [
    "# 简单if判断：单个条件\n",
    "x = 52\n",
    "if x > 50:\n",
    "    if x > 55:\n",
    "        print('x值大于55')\n",
    "    print('x值大于50')\n",
    "    print(\"hello world\")\n",
    "    print(\"hello world\")\n",
    "    print(\"hello world\")\n",
    "# 同一个缩进即为同一个代码块\n",
    "print(\"finish\")"
   ]
  },
  {
   "cell_type": "code",
   "execution_count": 8,
   "metadata": {},
   "outputs": [
    {
     "name": "stdout",
     "output_type": "stream",
     "text": [
      "x值大于50\n"
     ]
    }
   ],
   "source": [
    "# 简单if判断：两个条件\n",
    "x = 100\n",
    "if x > 50:\n",
    "    print('x值大于50')\n",
    "else:\n",
    "    print(\"x值小于或等于50\")"
   ]
  },
  {
   "cell_type": "code",
   "execution_count": 9,
   "metadata": {},
   "outputs": [
    {
     "name": "stdout",
     "output_type": "stream",
     "text": [
      "x值大于50\n"
     ]
    }
   ],
   "source": [
    "# 多个条件\n",
    "x = 100\n",
    "if x > 50:\n",
    "    print('x值大于50')\n",
    "elif x==50:\n",
    "    print(\"x值等于50\")\n",
    "else:\n",
    "    print(\"x值小于50\")"
   ]
  },
  {
   "cell_type": "code",
   "execution_count": 10,
   "metadata": {},
   "outputs": [
    {
     "name": "stdout",
     "output_type": "stream",
     "text": [
      "请输入一个数50\n"
     ]
    }
   ],
   "source": [
    "# 输入一个数\n",
    "number = input(\"请输入一个数\")"
   ]
  },
  {
   "cell_type": "code",
   "execution_count": 11,
   "metadata": {},
   "outputs": [
    {
     "data": {
      "text/plain": [
       "str"
      ]
     },
     "execution_count": 11,
     "metadata": {},
     "output_type": "execute_result"
    }
   ],
   "source": [
    "type(number)"
   ]
  },
  {
   "cell_type": "code",
   "execution_count": 12,
   "metadata": {},
   "outputs": [
    {
     "name": "stdout",
     "output_type": "stream",
     "text": [
      "请输入一个数50\n"
     ]
    }
   ],
   "source": [
    "# 输入一个数\n",
    "number = int(input(\"请输入一个数\")) # 转整型"
   ]
  },
  {
   "cell_type": "code",
   "execution_count": 13,
   "metadata": {},
   "outputs": [
    {
     "data": {
      "text/plain": [
       "int"
      ]
     },
     "execution_count": 13,
     "metadata": {},
     "output_type": "execute_result"
    }
   ],
   "source": [
    "type(number)"
   ]
  },
  {
   "cell_type": "code",
   "execution_count": 16,
   "metadata": {},
   "outputs": [
    {
     "name": "stdout",
     "output_type": "stream",
     "text": [
      "请输入一个数:60\n",
      "x值大于50\n"
     ]
    }
   ],
   "source": [
    "x = int(input(\"请输入一个数:\")) # 转整型\n",
    "if x > 50:\n",
    "    print('x值大于50')\n",
    "elif x==50:\n",
    "    print(\"x值等于50\")\n",
    "else:\n",
    "    print(\"x值小于50\")"
   ]
  },
  {
   "cell_type": "markdown",
   "metadata": {},
   "source": [
    "2.循环语句\n",
    "* for循环语句常用于遍历，比如list，str"
   ]
  },
  {
   "cell_type": "code",
   "execution_count": 18,
   "metadata": {},
   "outputs": [
    {
     "name": "stdout",
     "output_type": "stream",
     "text": [
      "学生的名字是小明\n",
      "学生的名字是小红\n",
      "学生的名字是小黄\n"
     ]
    }
   ],
   "source": [
    "students = ['小明','小红','小黄']\n",
    "for i in students:\n",
    "    print(\"学生的名字是%s\" % i)\n",
    "# 可迭代对象：序列，映射，数组，pandas数据结构，range（）"
   ]
  },
  {
   "cell_type": "code",
   "execution_count": 22,
   "metadata": {},
   "outputs": [
    {
     "name": "stdout",
     "output_type": "stream",
     "text": [
      "hello world\n",
      "hello world\n",
      "hello world\n",
      "hello world\n",
      "hello world\n",
      "hello world\n",
      "hello world\n",
      "hello world\n",
      "hello world\n",
      "hello world\n"
     ]
    }
   ],
   "source": [
    "# 多次print\n",
    "for n in range(10):\n",
    "    print(\"hello world\")\n",
    "# range()函数可创建一个整数列表，一般用在for循环中"
   ]
  },
  {
   "cell_type": "code",
   "execution_count": 23,
   "metadata": {},
   "outputs": [
    {
     "name": "stdout",
     "output_type": "stream",
     "text": [
      "<class 'range'>\n"
     ]
    }
   ],
   "source": [
    "print(type(range(10)))"
   ]
  },
  {
   "cell_type": "code",
   "execution_count": 24,
   "metadata": {},
   "outputs": [
    {
     "data": {
      "text/plain": [
       "[0, 1, 2, 3, 4, 5, 6, 7, 8, 9]"
      ]
     },
     "execution_count": 24,
     "metadata": {},
     "output_type": "execute_result"
    }
   ],
   "source": [
    "list(range(10))"
   ]
  },
  {
   "cell_type": "code",
   "execution_count": 25,
   "metadata": {},
   "outputs": [
    {
     "name": "stdout",
     "output_type": "stream",
     "text": [
      "其他字母\n",
      "其他字母\n",
      "其他字母\n",
      "该字母是h\n",
      "其他字母\n",
      "其他字母\n"
     ]
    }
   ],
   "source": [
    "# for 和 if\n",
    "for letter in 'python':\n",
    "    if letter == 'h':\n",
    "        print(\"该字母是h\")\n",
    "    else:\n",
    "        print(\"其他字母\")"
   ]
  },
  {
   "cell_type": "code",
   "execution_count": 28,
   "metadata": {},
   "outputs": [
    {
     "name": "stdout",
     "output_type": "stream",
     "text": [
      "0 1\n",
      "1 1\n",
      "2 1\n"
     ]
    }
   ],
   "source": [
    "# 嵌套循环\n",
    "for i in range(3):\n",
    "    for j in range(2):\n",
    "        pass # 什么都不做\n",
    "    print(i,j)"
   ]
  },
  {
   "cell_type": "code",
   "execution_count": null,
   "metadata": {},
   "outputs": [],
   "source": []
  }
 ],
 "metadata": {
  "kernelspec": {
   "display_name": "Python 3",
   "language": "python",
   "name": "python3"
  },
  "language_info": {
   "codemirror_mode": {
    "name": "ipython",
    "version": 3
   },
   "file_extension": ".py",
   "mimetype": "text/x-python",
   "name": "python",
   "nbconvert_exporter": "python",
   "pygments_lexer": "ipython3",
   "version": "3.7.3"
  }
 },
 "nbformat": 4,
 "nbformat_minor": 2
}
