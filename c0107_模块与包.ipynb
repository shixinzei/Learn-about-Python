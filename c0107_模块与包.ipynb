{
 "cells": [
  {
   "cell_type": "markdown",
   "metadata": {},
   "source": [
    "1、什么是模块\n",
    "* 表达式：创建、处理对象\n",
    "* 语句：包含表达式\n",
    "* 逻辑单元：函数或者类，由语句组成\n",
    "* 模块：.py代码文件组成模块\n",
    "* 包：定义一组有关系的文件，或者模块（包是文件夹，模块是其中的文件，且文件夹中包括一个_init_.py文件）"
   ]
  },
  {
   "cell_type": "markdown",
   "metadata": {},
   "source": [
    "2、模块创建及import指令运用\n",
    "\n",
    "Python 模块(Module)，是一个 Python 文件，以 .py 结尾，包含了 Python 对象定义和Python语句"
   ]
  },
  {
   "cell_type": "code",
   "execution_count": 5,
   "metadata": {},
   "outputs": [
    {
     "name": "stdout",
     "output_type": "stream",
     "text": [
      "[1 2 3 4 5]\n"
     ]
    }
   ],
   "source": [
    "import numpy as np\n",
    "ar = np.array([1,2,3,4,5])\n",
    "print(ar)"
   ]
  },
  {
   "cell_type": "code",
   "execution_count": 1,
   "metadata": {},
   "outputs": [],
   "source": [
    "# 创建一个模块，包含一个阶乘函数f1(n)、一个列表删值函数f2(lst,x),一个等差数列求和函数f3(a,d,n)\n",
    "\n",
    "def f1(n):\n",
    "    y = 1\n",
    "    for i in range(1,n+1):\n",
    "        y = y * i\n",
    "    return y\n",
    "# 创建阶乘函数f1(n)\n",
    "\n",
    "def f2(lst,x):\n",
    "    while x in lst:\n",
    "        lst.remove(x)\n",
    "    return x\n",
    "# 创建列表删值函数f2(lst,x)\n",
    "\n",
    "def f3(a,d,n):\n",
    "    an = a\n",
    "    s = 0\n",
    "    for i in range(n-1):\n",
    "        an = an + d\n",
    "        s = s + an\n",
    "    return s\n",
    "# 创建等差数列求和函数f3(a,d,n)\n",
    "# 创建模块testmodel2，包括三个函数"
   ]
  },
  {
   "cell_type": "code",
   "execution_count": 3,
   "metadata": {},
   "outputs": [
    {
     "name": "stdout",
     "output_type": "stream",
     "text": [
      "C:\\ProgramData\\Anaconda3\\lib\\site-packages\\pandas\\__init__.py\n"
     ]
    }
   ],
   "source": [
    "# 模块路径问题\n",
    "\n",
    "import pandas\n",
    "print(pandas.__file__)\n",
    "# 查看现有包所在路径，将自己创建的包存入路径"
   ]
  },
  {
   "cell_type": "code",
   "execution_count": 4,
   "metadata": {},
   "outputs": [
    {
     "ename": "ModuleNotFoundError",
     "evalue": "No module named 'tsmodel1'",
     "output_type": "error",
     "traceback": [
      "\u001b[1;31m---------------------------------------------------------------------------\u001b[0m",
      "\u001b[1;31mModuleNotFoundError\u001b[0m                       Traceback (most recent call last)",
      "\u001b[1;32m<ipython-input-4-51569195572b>\u001b[0m in \u001b[0;36m<module>\u001b[1;34m\u001b[0m\n\u001b[1;32m----> 1\u001b[1;33m \u001b[1;32mimport\u001b[0m \u001b[0mtsmodel1\u001b[0m\u001b[1;33m\u001b[0m\u001b[1;33m\u001b[0m\u001b[0m\n\u001b[0m",
      "\u001b[1;31mModuleNotFoundError\u001b[0m: No module named 'tsmodel1'"
     ]
    }
   ],
   "source": [
    "import tsmodel1"
   ]
  },
  {
   "cell_type": "code",
   "execution_count": 15,
   "metadata": {},
   "outputs": [],
   "source": [
    "# 加载sys包，把新建的tsmodel所在路径添加上\n",
    "import sys\n",
    "sys.path.append('C:\\\\Users\\\\PC\\\\Desktop\\\\Test')"
   ]
  },
  {
   "cell_type": "code",
   "execution_count": 10,
   "metadata": {},
   "outputs": [
    {
     "name": "stdout",
     "output_type": "stream",
     "text": [
      "hello world\n",
      "None\n",
      "6\n"
     ]
    }
   ],
   "source": [
    "import testmodel1\n",
    "\n",
    "print(testmodel1.inf())\n",
    "print(testmodel1.fun(2,3))"
   ]
  },
  {
   "cell_type": "code",
   "execution_count": 11,
   "metadata": {},
   "outputs": [
    {
     "name": "stdout",
     "output_type": "stream",
     "text": [
      "120\n",
      "4\n",
      "180\n"
     ]
    }
   ],
   "source": [
    "import testmodel2\n",
    "print(testmodel2.f1(5))\n",
    "print(testmodel2.f2([2,3,4,5,5,5,6,6,4,4,4,4],4))\n",
    "print(testmodel2.f3(10,2,10))"
   ]
  },
  {
   "cell_type": "code",
   "execution_count": 17,
   "metadata": {},
   "outputs": [
    {
     "name": "stdout",
     "output_type": "stream",
     "text": [
      "6\n"
     ]
    }
   ],
   "source": [
    "# 简化模块名：import...as...\n",
    "\n",
    "import testmodel1 as tm1\n",
    "\n",
    "print(tm1.fun(2,3))\n",
    "# 简化模块名"
   ]
  },
  {
   "cell_type": "code",
   "execution_count": 18,
   "metadata": {},
   "outputs": [
    {
     "name": "stdout",
     "output_type": "stream",
     "text": [
      "hello world\n"
     ]
    }
   ],
   "source": [
    "# 调用部分模块语句：From…import 语句\n",
    "\n",
    "from testmodel1 import inf\n",
    "\n",
    "inf()\n",
    "# 单独导入模块的部分功能，但无法使用其他未导入模块功能"
   ]
  },
  {
   "cell_type": "code",
   "execution_count": 19,
   "metadata": {},
   "outputs": [
    {
     "name": "stdout",
     "output_type": "stream",
     "text": [
      "0.33299166798218827 6.456406088754651\n",
      "3\n",
      "3 j\n",
      "[2, 16, 3, 7, 1]\n",
      "[9, 11, 13, 7, 1, 5, 3]\n"
     ]
    }
   ],
   "source": [
    "# python标准模块 —— random随机数\n",
    "\n",
    "import random\n",
    "\n",
    "x = random.random()\n",
    "y = random.random()\n",
    "print(x,y*10)\n",
    "# random.random()随机生成一个[0:1)的随机数\n",
    "\n",
    "m = random.randint(0,10)\n",
    "print(m)\n",
    "# random.randint()随机生成一个[0:10]的整数\n",
    "\n",
    "st1 = random.choice(list(range(10)))\n",
    "st2 = random.choice('abcdnehgjla')\n",
    "print(st1,st2)\n",
    "# random.choice()随机获取()中的一个元素，()种必须是一个有序类型\n",
    "\n",
    "lst = list(range(20))\n",
    "sli = random.sample(lst,5)\n",
    "print(sli)\n",
    "# random.sample(a,b)随机获取a中指定b长度的片段，不会改变原序列\n",
    "\n",
    "lst = [1,3,5,7,9,11,13]\n",
    "random.shuffle(lst)\n",
    "print(lst)\n",
    "# random.shuffle(list)将一个列表内的元素打乱"
   ]
  },
  {
   "cell_type": "code",
   "execution_count": 22,
   "metadata": {
    "scrolled": true
   },
   "outputs": [
    {
     "data": {
      "text/plain": [
       "array([['c', 'b'],\n",
       "       ['c', 'b'],\n",
       "       ['b', 'a'],\n",
       "       ['c', 'c'],\n",
       "       ['a', 'c'],\n",
       "       ['b', 'a'],\n",
       "       ['c', 'c'],\n",
       "       ['c', 'b'],\n",
       "       ['c', 'b'],\n",
       "       ['b', 'c'],\n",
       "       ['a', 'a'],\n",
       "       ['a', 'a'],\n",
       "       ['b', 'c'],\n",
       "       ['a', 'b'],\n",
       "       ['a', 'a'],\n",
       "       ['b', 'a'],\n",
       "       ['c', 'a'],\n",
       "       ['a', 'a'],\n",
       "       ['c', 'c'],\n",
       "       ['c', 'a'],\n",
       "       ['b', 'b'],\n",
       "       ['b', 'a'],\n",
       "       ['b', 'a'],\n",
       "       ['a', 'c'],\n",
       "       ['a', 'a'],\n",
       "       ['b', 'b'],\n",
       "       ['c', 'c'],\n",
       "       ['c', 'a'],\n",
       "       ['b', 'b'],\n",
       "       ['a', 'b']], dtype='<U1')"
      ]
     },
     "execution_count": 22,
     "metadata": {},
     "output_type": "execute_result"
    }
   ],
   "source": [
    "import numpy as np\n",
    "np.random.choice(['a','b','c'],size=(30,2))"
   ]
  },
  {
   "cell_type": "code",
   "execution_count": 23,
   "metadata": {},
   "outputs": [
    {
     "name": "stdout",
     "output_type": "stream",
     "text": [
      "hello\n",
      "hello\n",
      "Mon Jan  6 23:48:50 2020\n",
      "<class 'str'>\n",
      "time.struct_time(tm_year=2020, tm_mon=1, tm_mday=6, tm_hour=23, tm_min=48, tm_sec=50, tm_wday=0, tm_yday=6, tm_isdst=0)\n",
      "<class 'time.struct_time'>\n",
      "2020-01-06 23:48:50\n"
     ]
    }
   ],
   "source": [
    "# python标准模块 —— time时间模块\n",
    "\n",
    "import time\n",
    "\n",
    "for i in range(2):\n",
    "    print('hello')\n",
    "    time.sleep(1)\n",
    "# time.sleep()程序休息()秒\n",
    "\n",
    "print(time.ctime())\n",
    "print(type(time.ctime()))\n",
    "# 将当前时间转换为一个字符串\n",
    "\n",
    "print(time.localtime())\n",
    "print(type(time.localtime()))\n",
    "# 将当前时间转为当前时区的struct_time\n",
    "# wday 0-6表示周日到周六\n",
    "# ydat 1-366 一年中的第几天\n",
    "# isdst 是否为夏令时，默认为-1\n",
    "\n",
    "print(time.strftime('%Y-%m-%d %H:%M:%S',time.localtime()))\n",
    "# time.strftime(a,b)\n",
    "# a为格式化字符串格式\n",
    "# b为时间戳，一般用localtime()"
   ]
  },
  {
   "cell_type": "code",
   "execution_count": null,
   "metadata": {},
   "outputs": [],
   "source": []
  }
 ],
 "metadata": {
  "kernelspec": {
   "display_name": "Python 3",
   "language": "python",
   "name": "python3"
  },
  "language_info": {
   "codemirror_mode": {
    "name": "ipython",
    "version": 3
   },
   "file_extension": ".py",
   "mimetype": "text/x-python",
   "name": "python",
   "nbconvert_exporter": "python",
   "pygments_lexer": "ipython3",
   "version": "3.7.3"
  }
 },
 "nbformat": 4,
 "nbformat_minor": 2
}
