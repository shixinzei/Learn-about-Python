{
 "cells": [
  {
   "cell_type": "markdown",
   "metadata": {},
   "source": [
    "1、题目1：有1、2、3、4个数字，能组成多少个互不相同且无重复数字的两位数？都是多少？"
   ]
  },
  {
   "cell_type": "code",
   "execution_count": 10,
   "metadata": {},
   "outputs": [
    {
     "name": "stdout",
     "output_type": "stream",
     "text": [
      "12\n",
      "13\n",
      "14\n",
      "21\n",
      "23\n",
      "24\n",
      "31\n",
      "32\n",
      "34\n",
      "41\n",
      "42\n",
      "43\n",
      "count=12\n"
     ]
    }
   ],
   "source": [
    "lst = [1,2,3,4]\n",
    "cnt = 0\n",
    "for i in range(len(lst)):\n",
    "    for j in range(len(lst)):\n",
    "        if i != j:\n",
    "            cnt += 1\n",
    "            print(lst[i]*10+lst[j])\n",
    "print(\"count=%i\" % cnt)"
   ]
  },
  {
   "cell_type": "markdown",
   "metadata": {},
   "source": [
    "2、题目2：输入三个整数x,y,z，请把这三个数由小到大输出，可调用input()。（需要加判断：判断输入数据是否为数字）\n",
    "* 提示：判断是否为数字：.isdigit()\n",
    "* 该题目需要创建函数"
   ]
  },
  {
   "cell_type": "code",
   "execution_count": 18,
   "metadata": {},
   "outputs": [
    {
     "name": "stdout",
     "output_type": "stream",
     "text": [
      "输入第一个数:5\n",
      "输入第二个数:6\n",
      "输入第三个数:9\n",
      "5\n",
      "6\n",
      "9\n"
     ]
    }
   ],
   "source": [
    "def f():\n",
    "    x = int(input(\"输入第一个数:\"))\n",
    "    y = int(input(\"输入第二个数:\"))\n",
    "    z = int(input(\"输入第三个数:\"))\n",
    "    lst = [x,y,z]\n",
    "    flag = 1\n",
    "    for i in range(len(lst)):\n",
    "        if str(lst[i]).isdigit() == 0:\n",
    "            flag = 0\n",
    "            break\n",
    "    if flag:\n",
    "        lst.sort()\n",
    "        for i in range(len(lst)):\n",
    "            print(lst[i])\n",
    "#         print(lst)\n",
    "    else:\n",
    "        print(\"error\")\n",
    "f()"
   ]
  },
  {
   "cell_type": "markdown",
   "metadata": {},
   "source": [
    "3、输入一行字符，分别统计出其中英文字母、空格、数字和其它字符的个数。\n",
    "* 该题目不需要创建函数"
   ]
  },
  {
   "cell_type": "code",
   "execution_count": 15,
   "metadata": {},
   "outputs": [
    {
     "name": "stdout",
     "output_type": "stream",
     "text": [
      "输入一串字符串:dasd546 dsada78,./\n",
      "9 5 3 1\n"
     ]
    }
   ],
   "source": [
    "st = input(\"输入一串字符串:\")\n",
    "n_alpha = 0\n",
    "n_space = 0\n",
    "n_digit = 0\n",
    "n_other = 0\n",
    "for i in range(len(st)):\n",
    "    if st[i].isdigit():\n",
    "        n_digit += 1\n",
    "    elif st[i].isspace():\n",
    "        n_space += 1\n",
    "    elif st[i].isalpha():\n",
    "        n_alpha += 1\n",
    "    else:\n",
    "        n_other += 1\n",
    "print(n_alpha,n_digit,n_other,n_space)\n",
    "        "
   ]
  },
  {
   "cell_type": "markdown",
   "metadata": {},
   "source": [
    "4、猴子吃桃问题\n",
    "* 猴子第一天摘下若干个桃子，当即吃了一半，还不瘾，又多吃了一个,\n",
    "* 第二天早上又将剩下的桃子吃掉一半，又多吃了一个。\n",
    "* 以后每天早上都吃了前一天剩下的一半零一个。到第10天早上想再吃时，见只剩下一个桃子了。求第一天共摘了多少?\n",
    "* 提示：采取逆向思维的方法，从后往前推断。\n",
    "* 该题目不需要创建函数"
   ]
  },
  {
   "cell_type": "code",
   "execution_count": 20,
   "metadata": {},
   "outputs": [
    {
     "name": "stdout",
     "output_type": "stream",
     "text": [
      "4\n",
      "10\n",
      "22\n",
      "46\n",
      "94\n",
      "190\n",
      "382\n",
      "766\n",
      "1534\n",
      "1534\n"
     ]
    }
   ],
   "source": [
    "s = 1\n",
    "for i in range(9):\n",
    "    s = (s + 1) * 2\n",
    "    print(s)"
   ]
  },
  {
   "cell_type": "markdown",
   "metadata": {},
   "source": [
    "5、猜数字问题，要求如下：\n",
    "* ① 随机生成一个整数\n",
    "* ② 猜一个数字并输入\n",
    "* ③ 判断是大是小，直到猜正确\n",
    "* ④ 判断时间\n",
    "* 提示：需要用time模块、random模块\n",
    "* 该题目不需要创建函数"
   ]
  },
  {
   "cell_type": "code",
   "execution_count": 23,
   "metadata": {},
   "outputs": [
    {
     "name": "stdout",
     "output_type": "stream",
     "text": [
      "您猜的数字为：50\n",
      "您猜小了\n",
      "请重新输入一个数字：75\n",
      "您猜大了\n",
      "请重新输入一个数字：60\n",
      "您猜小了\n",
      "请重新输入一个数字：65\n",
      "您猜小了\n",
      "请重新输入一个数字：67\n",
      "您猜对了\n",
      "共用时15.37\n"
     ]
    }
   ],
   "source": [
    "import numpy as np\n",
    "import time \n",
    "num = np.random.randint(0,100)\n",
    "# 生成了随机数\n",
    "\n",
    "starttime = time.time()\n",
    "guess = int(input(\"您猜的数字为：\"))\n",
    "while guess != num:\n",
    "    if guess > num:\n",
    "        print(\"您猜大了\")\n",
    "        guess = int(input(\"请重新输入一个数字：\"))\n",
    "    else:\n",
    "        print(\"您猜小了\")\n",
    "        guess = int(input(\"请重新输入一个数字：\"))\n",
    "else:\n",
    "    print(\"您猜对了\")\n",
    "endtime = time.time()\n",
    "time = endtime - starttime\n",
    "print(\"共用时%.2f\" % time)"
   ]
  },
  {
   "cell_type": "code",
   "execution_count": null,
   "metadata": {},
   "outputs": [],
   "source": []
  }
 ],
 "metadata": {
  "kernelspec": {
   "display_name": "Python 3",
   "language": "python",
   "name": "python3"
  },
  "language_info": {
   "codemirror_mode": {
    "name": "ipython",
    "version": 3
   },
   "file_extension": ".py",
   "mimetype": "text/x-python",
   "name": "python",
   "nbconvert_exporter": "python",
   "pygments_lexer": "ipython3",
   "version": "3.7.3"
  }
 },
 "nbformat": 4,
 "nbformat_minor": 2
}
