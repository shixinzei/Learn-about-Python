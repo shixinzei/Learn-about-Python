{
 "cells": [
  {
   "cell_type": "markdown",
   "metadata": {},
   "source": [
    "1、什么是语句？\n",
    "\n",
    "每一个代码，都是一个语句\n",
    "* 赋值语句\n",
    "* 运行函数/方法\n",
    "* 条件语句：if\n",
    "* 循环语句：for/while循环，遍历序列/字典等\n",
    "* 函数语句：def函数等等\n",
    "* 模块语句：import"
   ]
  },
  {
   "cell_type": "code",
   "execution_count": 12,
   "metadata": {},
   "outputs": [],
   "source": [
    "import numpy as np"
   ]
  },
  {
   "cell_type": "markdown",
   "metadata": {},
   "source": [
    "2、条件判断：if语句\n",
    "\n",
    "Python条件语句是通过一条或多条语句的执行结果（True或者False）来决定执行的代码块。\n",
    "\n",
    "if 判断条件：\n",
    "    执行语句……\n",
    "else：\n",
    "    执行语句……\n",
    "    \n",
    "** 开始有缩进的概念"
   ]
  },
  {
   "cell_type": "code",
   "execution_count": 2,
   "metadata": {},
   "outputs": [
    {
     "name": "stdout",
     "output_type": "stream",
     "text": [
      "18岁以下不宜观看\n"
     ]
    }
   ],
   "source": [
    "# 基本判断语句\n",
    "\n",
    "age = 12\n",
    "if age < 18:\n",
    "    print('18岁以下不宜观看')\n",
    "# if语句后面必须有 ： \n",
    "# 自动缩进\n",
    "# if语句写完后，要退回原有缩进继续写\n",
    "# Python代码的缩进规则：具有相同缩进的代码被视为代码块"
   ]
  },
  {
   "cell_type": "code",
   "execution_count": 4,
   "metadata": {},
   "outputs": [
    {
     "name": "stdout",
     "output_type": "stream",
     "text": [
      "a\n",
      "b\n",
      "hehe\n"
     ]
    }
   ],
   "source": [
    "name = '小红'\n",
    "n = 10\n",
    "if name == '小红':\n",
    "    print('a')\n",
    "    if n > 5:\n",
    "        print('b')\n",
    "        print('hehe')"
   ]
  },
  {
   "cell_type": "code",
   "execution_count": 5,
   "metadata": {},
   "outputs": [
    {
     "name": "stdout",
     "output_type": "stream",
     "text": [
      "18岁以下不宜观看\n"
     ]
    }
   ],
   "source": [
    "# 基本判断语句\n",
    "\n",
    "age = 12\n",
    "if age < 18:\n",
    "    print('18岁以下不宜观看')\n",
    "# if语句后面必须有 ： \n",
    "# 自动缩进\n",
    "# if语句写完后，要退回原有缩进继续写\n",
    "# Python代码的缩进规则：具有相同缩进的代码被视为代码块"
   ]
  },
  {
   "cell_type": "code",
   "execution_count": 7,
   "metadata": {},
   "outputs": [
    {
     "name": "stdout",
     "output_type": "stream",
     "text": [
      "welcome boss\n"
     ]
    }
   ],
   "source": [
    "# 两种条件判断:if-else\n",
    "\n",
    "flag = False\n",
    "name = 'python'\n",
    "if name == 'python':          # 判断变量否为'python'\n",
    "    flag = True               # 条件成立时设置标志为真\n",
    "    print( 'welcome boss')    # 并输出欢迎信息\n",
    "else:\n",
    "    print(name)               # 条件不成立时输出变量名称"
   ]
  },
  {
   "cell_type": "code",
   "execution_count": 8,
   "metadata": {},
   "outputs": [
    {
     "name": "stdout",
     "output_type": "stream",
     "text": [
      "user\n"
     ]
    }
   ],
   "source": [
    "# 多种条件判断:if-elif-...-else\n",
    "\n",
    "num = 2    \n",
    "if num == 3:            # 判断num的值\n",
    "    print('boss')       \n",
    "elif num == 2:\n",
    "    print('user')\n",
    "elif num == 1:\n",
    "    print('worker')\n",
    "elif num < 0:           # 值小于零时输出\n",
    "    print('error')\n",
    "else:\n",
    "    print('roadman')    # 条件均不成立时输出"
   ]
  },
  {
   "cell_type": "code",
   "execution_count": 9,
   "metadata": {},
   "outputs": [
    {
     "name": "stdout",
     "output_type": "stream",
     "text": [
      "b\n"
     ]
    }
   ],
   "source": [
    "n = 10\n",
    "m = 50\n",
    "if (n > 5) and (m > 100):\n",
    "    print('a')\n",
    "elif (n > 5) and (m < 100):\n",
    "    print('b')\n",
    "else:\n",
    "    print('c')"
   ]
  },
  {
   "cell_type": "code",
   "execution_count": 10,
   "metadata": {},
   "outputs": [
    {
     "name": "stdout",
     "output_type": "stream",
     "text": [
      "hello\n",
      "undefine\n",
      "undefine\n"
     ]
    }
   ],
   "source": [
    "# 单语句多条件判断：or and\n",
    "\n",
    "num = 5\n",
    "if num >= 0 and num <= 10:    \n",
    "    print( 'hello')\n",
    "# 判断值是否在0~10之间\n",
    "# 输出结果: hello\n",
    " \n",
    "num = 10\n",
    "if num < 0 or num > 10:    \n",
    "    print( 'hello')\n",
    "else:\n",
    "    print( 'undefine')\n",
    "# 判断值是否在小于0或大于10\n",
    "# 输出结果: undefine\n",
    " \n",
    "num = 8\n",
    "if (num >= 0 and num <= 5) or (num >= 10 and num <= 15):    \n",
    "    print( 'hello')\n",
    "else:\n",
    "    print( 'undefine')\n",
    "# 判断值是否在0~5或者10~15之间\n",
    "# 输出结果: undefine"
   ]
  },
  {
   "cell_type": "markdown",
   "metadata": {},
   "source": [
    "小作业\n",
    "\n",
    "① 编写一个简单的判断语句代码：输入某个成绩，如果成绩分数大于或等于60分，则返回及格，小于60分，则返回不及格\n",
    "\n",
    "② 编写猜数字小游戏的代码：输入一个数字，分别针对猜对数字、猜错数字、输入错误给予判断"
   ]
  },
  {
   "cell_type": "code",
   "execution_count": 12,
   "metadata": {},
   "outputs": [
    {
     "name": "stdout",
     "output_type": "stream",
     "text": [
      "输入某个成绩45\n",
      "不及格\n"
     ]
    }
   ],
   "source": [
    "# a1:\n",
    "score = int(input(\"输入某个成绩\"))\n",
    "if score >= 60:\n",
    "    print(\"及格\")\n",
    "else:\n",
    "    print(\"不及格\")"
   ]
  },
  {
   "cell_type": "code",
   "execution_count": 1,
   "metadata": {},
   "outputs": [
    {
     "name": "stdout",
     "output_type": "stream",
     "text": [
      "猜一个数字45\n",
      "数字过小\n",
      "猜一个数字49\n",
      "数字过小\n",
      "猜一个数字100\n",
      "数字过小\n",
      "猜一个数字188\n",
      "猜对了\n"
     ]
    }
   ],
   "source": [
    "# a2:\n",
    "target = 188\n",
    "while(True):\n",
    "    x = int(input(\"猜一个数字\"))\n",
    "    if x > target :\n",
    "        print(\"数字过大\")\n",
    "    elif x == target:\n",
    "        print(\"猜对了\")\n",
    "        break\n",
    "    else:\n",
    "        print(\"数字过小\")"
   ]
  },
  {
   "cell_type": "markdown",
   "metadata": {},
   "source": [
    "3、循环语句：for循环\n",
    "\n",
    "for循环可以遍历任何序列的项目，如一个列表或者一个字符串。"
   ]
  },
  {
   "cell_type": "code",
   "execution_count": 2,
   "metadata": {},
   "outputs": [
    {
     "name": "stdout",
     "output_type": "stream",
     "text": [
      "hello world!\n",
      "hello world!\n",
      "hello world!\n",
      "hello world!\n",
      "hello world!\n"
     ]
    }
   ],
   "source": [
    "# 想输出\"hello world\"5次怎么办？\n",
    "for i in range(5):\n",
    "    print('hello world!')"
   ]
  },
  {
   "cell_type": "code",
   "execution_count": 3,
   "metadata": {},
   "outputs": [
    {
     "name": "stdout",
     "output_type": "stream",
     "text": [
      "0\n",
      "2\n",
      "4\n",
      "6\n",
      "8\n",
      "-------\n",
      "Tom年龄为：18岁\n",
      "Jack年龄为：19岁\n",
      "Alex年龄为：17岁\n",
      "Mary年龄为：20岁\n"
     ]
    }
   ],
   "source": [
    "# 通过for遍历序列，映射\n",
    "\n",
    "lst = list(range(10))\n",
    "for i in lst[::2]:\n",
    "    print(i)\n",
    "print(\"-------\")\n",
    "# 遍历list\n",
    "\n",
    "age = {'Tom':18,'Jack':19,'Alex':17,'Mary':20}\n",
    "for name in age:\n",
    "    print(name+'年龄为：%s岁' % age[name])\n",
    "# 遍历字典"
   ]
  },
  {
   "cell_type": "code",
   "execution_count": 16,
   "metadata": {},
   "outputs": [
    {
     "data": {
      "text/html": [
       "<div>\n",
       "<style scoped>\n",
       "    .dataframe tbody tr th:only-of-type {\n",
       "        vertical-align: middle;\n",
       "    }\n",
       "\n",
       "    .dataframe tbody tr th {\n",
       "        vertical-align: top;\n",
       "    }\n",
       "\n",
       "    .dataframe thead th {\n",
       "        text-align: right;\n",
       "    }\n",
       "</style>\n",
       "<table border=\"1\" class=\"dataframe\">\n",
       "  <thead>\n",
       "    <tr style=\"text-align: right;\">\n",
       "      <th></th>\n",
       "      <th>var1</th>\n",
       "      <th>var2</th>\n",
       "      <th>var3</th>\n",
       "    </tr>\n",
       "  </thead>\n",
       "  <tbody>\n",
       "    <tr>\n",
       "      <th>0</th>\n",
       "      <td>0.315399</td>\n",
       "      <td>100</td>\n",
       "      <td>20</td>\n",
       "    </tr>\n",
       "    <tr>\n",
       "      <th>1</th>\n",
       "      <td>0.119622</td>\n",
       "      <td>100</td>\n",
       "      <td>20</td>\n",
       "    </tr>\n",
       "    <tr>\n",
       "      <th>2</th>\n",
       "      <td>0.053568</td>\n",
       "      <td>100</td>\n",
       "      <td>20</td>\n",
       "    </tr>\n",
       "    <tr>\n",
       "      <th>3</th>\n",
       "      <td>0.823996</td>\n",
       "      <td>100</td>\n",
       "      <td>20</td>\n",
       "    </tr>\n",
       "    <tr>\n",
       "      <th>4</th>\n",
       "      <td>0.329049</td>\n",
       "      <td>100</td>\n",
       "      <td>20</td>\n",
       "    </tr>\n",
       "    <tr>\n",
       "      <th>5</th>\n",
       "      <td>0.287394</td>\n",
       "      <td>100</td>\n",
       "      <td>20</td>\n",
       "    </tr>\n",
       "    <tr>\n",
       "      <th>6</th>\n",
       "      <td>0.530765</td>\n",
       "      <td>100</td>\n",
       "      <td>20</td>\n",
       "    </tr>\n",
       "    <tr>\n",
       "      <th>7</th>\n",
       "      <td>0.797239</td>\n",
       "      <td>100</td>\n",
       "      <td>20</td>\n",
       "    </tr>\n",
       "    <tr>\n",
       "      <th>8</th>\n",
       "      <td>0.724663</td>\n",
       "      <td>100</td>\n",
       "      <td>20</td>\n",
       "    </tr>\n",
       "    <tr>\n",
       "      <th>9</th>\n",
       "      <td>0.390903</td>\n",
       "      <td>100</td>\n",
       "      <td>20</td>\n",
       "    </tr>\n",
       "    <tr>\n",
       "      <th>10</th>\n",
       "      <td>0.879835</td>\n",
       "      <td>100</td>\n",
       "      <td>20</td>\n",
       "    </tr>\n",
       "    <tr>\n",
       "      <th>11</th>\n",
       "      <td>0.512115</td>\n",
       "      <td>100</td>\n",
       "      <td>20</td>\n",
       "    </tr>\n",
       "    <tr>\n",
       "      <th>12</th>\n",
       "      <td>0.827970</td>\n",
       "      <td>100</td>\n",
       "      <td>20</td>\n",
       "    </tr>\n",
       "    <tr>\n",
       "      <th>13</th>\n",
       "      <td>0.402113</td>\n",
       "      <td>100</td>\n",
       "      <td>20</td>\n",
       "    </tr>\n",
       "    <tr>\n",
       "      <th>14</th>\n",
       "      <td>0.405938</td>\n",
       "      <td>100</td>\n",
       "      <td>20</td>\n",
       "    </tr>\n",
       "    <tr>\n",
       "      <th>15</th>\n",
       "      <td>0.395531</td>\n",
       "      <td>100</td>\n",
       "      <td>20</td>\n",
       "    </tr>\n",
       "    <tr>\n",
       "      <th>16</th>\n",
       "      <td>0.125846</td>\n",
       "      <td>100</td>\n",
       "      <td>20</td>\n",
       "    </tr>\n",
       "    <tr>\n",
       "      <th>17</th>\n",
       "      <td>0.167163</td>\n",
       "      <td>100</td>\n",
       "      <td>20</td>\n",
       "    </tr>\n",
       "    <tr>\n",
       "      <th>18</th>\n",
       "      <td>0.912790</td>\n",
       "      <td>100</td>\n",
       "      <td>20</td>\n",
       "    </tr>\n",
       "    <tr>\n",
       "      <th>19</th>\n",
       "      <td>0.430558</td>\n",
       "      <td>100</td>\n",
       "      <td>20</td>\n",
       "    </tr>\n",
       "    <tr>\n",
       "      <th>20</th>\n",
       "      <td>0.733103</td>\n",
       "      <td>100</td>\n",
       "      <td>20</td>\n",
       "    </tr>\n",
       "    <tr>\n",
       "      <th>21</th>\n",
       "      <td>0.783318</td>\n",
       "      <td>100</td>\n",
       "      <td>20</td>\n",
       "    </tr>\n",
       "    <tr>\n",
       "      <th>22</th>\n",
       "      <td>0.518562</td>\n",
       "      <td>100</td>\n",
       "      <td>20</td>\n",
       "    </tr>\n",
       "    <tr>\n",
       "      <th>23</th>\n",
       "      <td>0.082484</td>\n",
       "      <td>100</td>\n",
       "      <td>20</td>\n",
       "    </tr>\n",
       "    <tr>\n",
       "      <th>24</th>\n",
       "      <td>0.386897</td>\n",
       "      <td>100</td>\n",
       "      <td>20</td>\n",
       "    </tr>\n",
       "    <tr>\n",
       "      <th>25</th>\n",
       "      <td>0.848586</td>\n",
       "      <td>100</td>\n",
       "      <td>20</td>\n",
       "    </tr>\n",
       "    <tr>\n",
       "      <th>26</th>\n",
       "      <td>0.719857</td>\n",
       "      <td>100</td>\n",
       "      <td>20</td>\n",
       "    </tr>\n",
       "    <tr>\n",
       "      <th>27</th>\n",
       "      <td>0.012031</td>\n",
       "      <td>100</td>\n",
       "      <td>20</td>\n",
       "    </tr>\n",
       "    <tr>\n",
       "      <th>28</th>\n",
       "      <td>0.031993</td>\n",
       "      <td>100</td>\n",
       "      <td>20</td>\n",
       "    </tr>\n",
       "    <tr>\n",
       "      <th>29</th>\n",
       "      <td>0.181657</td>\n",
       "      <td>100</td>\n",
       "      <td>20</td>\n",
       "    </tr>\n",
       "    <tr>\n",
       "      <th>...</th>\n",
       "      <td>...</td>\n",
       "      <td>...</td>\n",
       "      <td>...</td>\n",
       "    </tr>\n",
       "    <tr>\n",
       "      <th>70</th>\n",
       "      <td>0.475785</td>\n",
       "      <td>100</td>\n",
       "      <td>20</td>\n",
       "    </tr>\n",
       "    <tr>\n",
       "      <th>71</th>\n",
       "      <td>0.259890</td>\n",
       "      <td>100</td>\n",
       "      <td>20</td>\n",
       "    </tr>\n",
       "    <tr>\n",
       "      <th>72</th>\n",
       "      <td>0.433703</td>\n",
       "      <td>100</td>\n",
       "      <td>20</td>\n",
       "    </tr>\n",
       "    <tr>\n",
       "      <th>73</th>\n",
       "      <td>0.815906</td>\n",
       "      <td>100</td>\n",
       "      <td>20</td>\n",
       "    </tr>\n",
       "    <tr>\n",
       "      <th>74</th>\n",
       "      <td>0.631974</td>\n",
       "      <td>100</td>\n",
       "      <td>20</td>\n",
       "    </tr>\n",
       "    <tr>\n",
       "      <th>75</th>\n",
       "      <td>0.438923</td>\n",
       "      <td>100</td>\n",
       "      <td>20</td>\n",
       "    </tr>\n",
       "    <tr>\n",
       "      <th>76</th>\n",
       "      <td>0.386893</td>\n",
       "      <td>100</td>\n",
       "      <td>20</td>\n",
       "    </tr>\n",
       "    <tr>\n",
       "      <th>77</th>\n",
       "      <td>0.924332</td>\n",
       "      <td>100</td>\n",
       "      <td>20</td>\n",
       "    </tr>\n",
       "    <tr>\n",
       "      <th>78</th>\n",
       "      <td>0.443856</td>\n",
       "      <td>100</td>\n",
       "      <td>20</td>\n",
       "    </tr>\n",
       "    <tr>\n",
       "      <th>79</th>\n",
       "      <td>0.067903</td>\n",
       "      <td>100</td>\n",
       "      <td>20</td>\n",
       "    </tr>\n",
       "    <tr>\n",
       "      <th>80</th>\n",
       "      <td>0.759119</td>\n",
       "      <td>100</td>\n",
       "      <td>20</td>\n",
       "    </tr>\n",
       "    <tr>\n",
       "      <th>81</th>\n",
       "      <td>0.286546</td>\n",
       "      <td>100</td>\n",
       "      <td>20</td>\n",
       "    </tr>\n",
       "    <tr>\n",
       "      <th>82</th>\n",
       "      <td>0.504416</td>\n",
       "      <td>100</td>\n",
       "      <td>20</td>\n",
       "    </tr>\n",
       "    <tr>\n",
       "      <th>83</th>\n",
       "      <td>0.654299</td>\n",
       "      <td>100</td>\n",
       "      <td>20</td>\n",
       "    </tr>\n",
       "    <tr>\n",
       "      <th>84</th>\n",
       "      <td>0.964948</td>\n",
       "      <td>100</td>\n",
       "      <td>20</td>\n",
       "    </tr>\n",
       "    <tr>\n",
       "      <th>85</th>\n",
       "      <td>0.855383</td>\n",
       "      <td>100</td>\n",
       "      <td>20</td>\n",
       "    </tr>\n",
       "    <tr>\n",
       "      <th>86</th>\n",
       "      <td>0.456815</td>\n",
       "      <td>100</td>\n",
       "      <td>20</td>\n",
       "    </tr>\n",
       "    <tr>\n",
       "      <th>87</th>\n",
       "      <td>0.940192</td>\n",
       "      <td>100</td>\n",
       "      <td>20</td>\n",
       "    </tr>\n",
       "    <tr>\n",
       "      <th>88</th>\n",
       "      <td>0.550974</td>\n",
       "      <td>100</td>\n",
       "      <td>20</td>\n",
       "    </tr>\n",
       "    <tr>\n",
       "      <th>89</th>\n",
       "      <td>0.558706</td>\n",
       "      <td>100</td>\n",
       "      <td>20</td>\n",
       "    </tr>\n",
       "    <tr>\n",
       "      <th>90</th>\n",
       "      <td>0.694830</td>\n",
       "      <td>100</td>\n",
       "      <td>20</td>\n",
       "    </tr>\n",
       "    <tr>\n",
       "      <th>91</th>\n",
       "      <td>0.516017</td>\n",
       "      <td>100</td>\n",
       "      <td>20</td>\n",
       "    </tr>\n",
       "    <tr>\n",
       "      <th>92</th>\n",
       "      <td>0.690607</td>\n",
       "      <td>100</td>\n",
       "      <td>20</td>\n",
       "    </tr>\n",
       "    <tr>\n",
       "      <th>93</th>\n",
       "      <td>0.930372</td>\n",
       "      <td>100</td>\n",
       "      <td>20</td>\n",
       "    </tr>\n",
       "    <tr>\n",
       "      <th>94</th>\n",
       "      <td>0.086778</td>\n",
       "      <td>100</td>\n",
       "      <td>20</td>\n",
       "    </tr>\n",
       "    <tr>\n",
       "      <th>95</th>\n",
       "      <td>0.401281</td>\n",
       "      <td>100</td>\n",
       "      <td>20</td>\n",
       "    </tr>\n",
       "    <tr>\n",
       "      <th>96</th>\n",
       "      <td>0.325351</td>\n",
       "      <td>100</td>\n",
       "      <td>20</td>\n",
       "    </tr>\n",
       "    <tr>\n",
       "      <th>97</th>\n",
       "      <td>0.449837</td>\n",
       "      <td>100</td>\n",
       "      <td>20</td>\n",
       "    </tr>\n",
       "    <tr>\n",
       "      <th>98</th>\n",
       "      <td>0.734649</td>\n",
       "      <td>100</td>\n",
       "      <td>20</td>\n",
       "    </tr>\n",
       "    <tr>\n",
       "      <th>99</th>\n",
       "      <td>0.789652</td>\n",
       "      <td>100</td>\n",
       "      <td>20</td>\n",
       "    </tr>\n",
       "  </tbody>\n",
       "</table>\n",
       "<p>100 rows × 3 columns</p>\n",
       "</div>"
      ],
      "text/plain": [
       "        var1  var2  var3\n",
       "0   0.315399   100    20\n",
       "1   0.119622   100    20\n",
       "2   0.053568   100    20\n",
       "3   0.823996   100    20\n",
       "4   0.329049   100    20\n",
       "5   0.287394   100    20\n",
       "6   0.530765   100    20\n",
       "7   0.797239   100    20\n",
       "8   0.724663   100    20\n",
       "9   0.390903   100    20\n",
       "10  0.879835   100    20\n",
       "11  0.512115   100    20\n",
       "12  0.827970   100    20\n",
       "13  0.402113   100    20\n",
       "14  0.405938   100    20\n",
       "15  0.395531   100    20\n",
       "16  0.125846   100    20\n",
       "17  0.167163   100    20\n",
       "18  0.912790   100    20\n",
       "19  0.430558   100    20\n",
       "20  0.733103   100    20\n",
       "21  0.783318   100    20\n",
       "22  0.518562   100    20\n",
       "23  0.082484   100    20\n",
       "24  0.386897   100    20\n",
       "25  0.848586   100    20\n",
       "26  0.719857   100    20\n",
       "27  0.012031   100    20\n",
       "28  0.031993   100    20\n",
       "29  0.181657   100    20\n",
       "..       ...   ...   ...\n",
       "70  0.475785   100    20\n",
       "71  0.259890   100    20\n",
       "72  0.433703   100    20\n",
       "73  0.815906   100    20\n",
       "74  0.631974   100    20\n",
       "75  0.438923   100    20\n",
       "76  0.386893   100    20\n",
       "77  0.924332   100    20\n",
       "78  0.443856   100    20\n",
       "79  0.067903   100    20\n",
       "80  0.759119   100    20\n",
       "81  0.286546   100    20\n",
       "82  0.504416   100    20\n",
       "83  0.654299   100    20\n",
       "84  0.964948   100    20\n",
       "85  0.855383   100    20\n",
       "86  0.456815   100    20\n",
       "87  0.940192   100    20\n",
       "88  0.550974   100    20\n",
       "89  0.558706   100    20\n",
       "90  0.694830   100    20\n",
       "91  0.516017   100    20\n",
       "92  0.690607   100    20\n",
       "93  0.930372   100    20\n",
       "94  0.086778   100    20\n",
       "95  0.401281   100    20\n",
       "96  0.325351   100    20\n",
       "97  0.449837   100    20\n",
       "98  0.734649   100    20\n",
       "99  0.789652   100    20\n",
       "\n",
       "[100 rows x 3 columns]"
      ]
     },
     "execution_count": 16,
     "metadata": {},
     "output_type": "execute_result"
    }
   ],
   "source": [
    "import numpy as np\n",
    "import pandas as pd\n",
    "\n",
    "df = pd.DataFrame({'var1':np.random.rand(100),\n",
    "                  'var2':100,\n",
    "                  'var3':np.random.choice([20,30,90])})\n",
    "df"
   ]
  },
  {
   "cell_type": "code",
   "execution_count": 17,
   "metadata": {},
   "outputs": [
    {
     "name": "stdout",
     "output_type": "stream",
     "text": [
      "该列数据的均值为0.53\n",
      "该列数据的均值为100.00\n",
      "该列数据的均值为90.00\n"
     ]
    },
    {
     "data": {
      "text/html": [
       "<div>\n",
       "<style scoped>\n",
       "    .dataframe tbody tr th:only-of-type {\n",
       "        vertical-align: middle;\n",
       "    }\n",
       "\n",
       "    .dataframe tbody tr th {\n",
       "        vertical-align: top;\n",
       "    }\n",
       "\n",
       "    .dataframe thead th {\n",
       "        text-align: right;\n",
       "    }\n",
       "</style>\n",
       "<table border=\"1\" class=\"dataframe\">\n",
       "  <thead>\n",
       "    <tr style=\"text-align: right;\">\n",
       "      <th></th>\n",
       "      <th>var1</th>\n",
       "      <th>var2</th>\n",
       "      <th>var3</th>\n",
       "    </tr>\n",
       "  </thead>\n",
       "  <tbody>\n",
       "    <tr>\n",
       "      <th>0</th>\n",
       "      <td>0.727372</td>\n",
       "      <td>100</td>\n",
       "      <td>90</td>\n",
       "    </tr>\n",
       "    <tr>\n",
       "      <th>1</th>\n",
       "      <td>0.383821</td>\n",
       "      <td>100</td>\n",
       "      <td>90</td>\n",
       "    </tr>\n",
       "    <tr>\n",
       "      <th>2</th>\n",
       "      <td>0.486241</td>\n",
       "      <td>100</td>\n",
       "      <td>90</td>\n",
       "    </tr>\n",
       "    <tr>\n",
       "      <th>3</th>\n",
       "      <td>0.429170</td>\n",
       "      <td>100</td>\n",
       "      <td>90</td>\n",
       "    </tr>\n",
       "    <tr>\n",
       "      <th>4</th>\n",
       "      <td>0.157715</td>\n",
       "      <td>100</td>\n",
       "      <td>90</td>\n",
       "    </tr>\n",
       "  </tbody>\n",
       "</table>\n",
       "</div>"
      ],
      "text/plain": [
       "       var1  var2  var3\n",
       "0  0.727372   100    90\n",
       "1  0.383821   100    90\n",
       "2  0.486241   100    90\n",
       "3  0.429170   100    90\n",
       "4  0.157715   100    90"
      ]
     },
     "execution_count": 17,
     "metadata": {},
     "output_type": "execute_result"
    }
   ],
   "source": [
    "import numpy as np\n",
    "import pandas as pd\n",
    "\n",
    "df = pd.DataFrame({'var1':np.random.rand(100),\n",
    "                  'var2':100,\n",
    "                  'var3':np.random.choice([20,30,90])})\n",
    "for col in df.columns:\n",
    "    print('该列数据的均值为%.2f' % df[col].mean())\n",
    "df.head()           "
   ]
  },
  {
   "cell_type": "code",
   "execution_count": 4,
   "metadata": {},
   "outputs": [
    {
     "name": "stdout",
     "output_type": "stream",
     "text": [
      "0\n",
      "0 0\n",
      "0 1\n",
      "1\n",
      "1 0\n",
      "1 1\n",
      "2\n",
      "2 0\n",
      "2 1\n"
     ]
    }
   ],
   "source": [
    "# 嵌套循环\n",
    "\n",
    "for i in range(3):\n",
    "    print(i)\n",
    "    for j in range(2):\n",
    "        print(i,j)\n",
    "# 循环套循环，注意：尽量不要多于3个嵌套"
   ]
  },
  {
   "cell_type": "markdown",
   "metadata": {},
   "source": [
    "小作业\n",
    "\n",
    "① 生成一个数值列表，用for循环打印出所有元素\n",
    "\n",
    "② 用for循环遍历一个字符串，打印出各个字母\n",
    "\n",
    "③ 生成一个字典，分别打印出key和value\n",
    "\n",
    "④ 用input输入一个循环次数n，打印hello world n遍\n",
    "\n",
    "⑤ 码一个等差数列，四个变量：首项a，项数n，公差d，求和s，这几个参数都可通过input()输入\n",
    "\n",
    "⑥ 两组列表[\"a\", \"b\", \"c\"],[1,2,3]，用for循环把它们组成一个字典，一一对应"
   ]
  },
  {
   "cell_type": "code",
   "execution_count": 1,
   "metadata": {},
   "outputs": [
    {
     "name": "stdout",
     "output_type": "stream",
     "text": [
      "Tom 18\n",
      "Jack 19\n",
      "Alex 17\n",
      "Mary 20\n"
     ]
    }
   ],
   "source": [
    "age = {'Tom':18,'Jack':19,'Alex':17,'Mary':20}\n",
    "for i in age:\n",
    "    print(i,age[i])"
   ]
  },
  {
   "cell_type": "code",
   "execution_count": 3,
   "metadata": {},
   "outputs": [
    {
     "name": "stdout",
     "output_type": "stream",
     "text": [
      "请输入首项1\n",
      "请输入项数：100\n",
      "请输入公差d：1\n",
      "5050.0\n"
     ]
    }
   ],
   "source": [
    "# an = a1 + (n - 1) * d\n",
    "a1 = float(input('请输入首项'))\n",
    "n = int(input('请输入项数：'))\n",
    "d = float(input('请输入公差d：'))\n",
    "s = 0\n",
    "for i in range(n):\n",
    "    an = a1 + i * d\n",
    "#     print(an)\n",
    "    s = s + an\n",
    "print(s)"
   ]
  },
  {
   "cell_type": "code",
   "execution_count": 4,
   "metadata": {},
   "outputs": [
    {
     "data": {
      "text/plain": [
       "{'a': 1, 'b': 2, 'c': 3}"
      ]
     },
     "execution_count": 4,
     "metadata": {},
     "output_type": "execute_result"
    }
   ],
   "source": [
    "lst1 = ['a','b','c']\n",
    "lst2 = [1,2,3]\n",
    "dic = {}\n",
    "for i in range(len(lst1)):\n",
    "    dic[lst1[i]] = lst2[i]\n",
    "dic"
   ]
  },
  {
   "cell_type": "code",
   "execution_count": 5,
   "metadata": {},
   "outputs": [
    {
     "data": {
      "text/plain": [
       "{'a': 1, 'b': 2, 'c': 3}"
      ]
     },
     "execution_count": 5,
     "metadata": {},
     "output_type": "execute_result"
    }
   ],
   "source": [
    "lst1 = ['a','b','c']\n",
    "lst2 = [1,2,3]\n",
    "dic = {}\n",
    "for i,j in zip(lst1,lst2):\n",
    "    dic[i] = j\n",
    "dic"
   ]
  },
  {
   "cell_type": "markdown",
   "metadata": {},
   "source": [
    "4、循环语句：while循环\n",
    "\n",
    "执行语句可以是单个语句或语句块\n",
    "\n",
    "判断条件可以是任何表达式，任何非零、或非空（null）的值均为true。\n",
    "\n",
    "当判断条件假false时，循环结束。"
   ]
  },
  {
   "cell_type": "code",
   "execution_count": 6,
   "metadata": {},
   "outputs": [
    {
     "name": "stdout",
     "output_type": "stream",
     "text": [
      "The count is: 0\n",
      "The count is: 1\n",
      "The count is: 2\n",
      "The count is: 3\n",
      "The count is: 4\n",
      "The count is: 5\n",
      "The count is: 6\n",
      "The count is: 7\n",
      "The count is: 8\n",
      "Good bye!\n"
     ]
    }
   ],
   "source": [
    "# 基本运行逻辑\n",
    "\n",
    "count = 0\n",
    "while count < 9:\n",
    "    print('The count is:',count)\n",
    "    count = count + 1\n",
    "print(\"Good bye!\")\n",
    "# 这里count<9是一个判断语句，当判断为True时，则继续运行"
   ]
  },
  {
   "cell_type": "code",
   "execution_count": null,
   "metadata": {},
   "outputs": [],
   "source": [
    "# 关于无限循环：如果条件判断语句永远为 true，循环将会无限的执行下去\n",
    "\n",
    "var = 1\n",
    "while var == 1 :  \n",
    "    num = input(\"Enter a number  :\")\n",
    "    print( \"You entered: \", num)\n",
    "print( \"Good bye!\")\n",
    "# 该条件永远为true，循环将无限执行下去\n",
    "# 一定要避免无限循环！！"
   ]
  },
  {
   "cell_type": "code",
   "execution_count": 7,
   "metadata": {},
   "outputs": [
    {
     "name": "stdout",
     "output_type": "stream",
     "text": [
      "0  is  less than 5\n",
      "1  is  less than 5\n",
      "2  is  less than 5\n",
      "3  is  less than 5\n",
      "4  is  less than 5\n",
      "5  is not less than 5\n"
     ]
    }
   ],
   "source": [
    "# while-else语句\n",
    "\n",
    "count = 0\n",
    "while count < 5:\n",
    "    print(count, \" is  less than 5\")\n",
    "    count = count + 1\n",
    "else:\n",
    "    print(count, \" is not less than 5\")\n",
    "# 逻辑和if-else一样"
   ]
  },
  {
   "cell_type": "code",
   "execution_count": 6,
   "metadata": {},
   "outputs": [
    {
     "name": "stdout",
     "output_type": "stream",
     "text": [
      "这是第2次循环,该次循环结果是s为0.28\n",
      "这是第3次循环,该次循环结果是s为0.26\n",
      "这是第4次循环,该次循环结果是s为0.27\n",
      "这是第5次循环,该次循环结果是s为0.28\n",
      "这是第6次循环,该次循环结果是s为0.28\n",
      "这是第7次循环,该次循环结果是s为0.27\n",
      "这是第8次循环,该次循环结果是s为0.28\n",
      "这是第9次循环,该次循环结果是s为0.30\n",
      "这是第10次循环,该次循环结果是s为0.29\n",
      "这是第11次循环,该次循环结果是s为0.30\n"
     ]
    }
   ],
   "source": [
    "import numpy as np\n",
    "s = 0\n",
    "n = 1\n",
    "while s<0.3:\n",
    "    ar = np.random.rand(100)\n",
    "    s = ar.std()\n",
    "    n += 1\n",
    "    print('这是第%i次循环,该次循环结果是s为%.2f' % (n,s))\n",
    "    "
   ]
  },
  {
   "cell_type": "markdown",
   "metadata": {},
   "source": [
    "5、循环控制语句\n",
    "\n",
    "break：在语句块执行过程中终止循环，并且跳出整个循环\n",
    "\n",
    "continue：在语句块执行过程中跳出该次循环，执行下一次循环\n",
    "\n",
    "pass：pass是空语句，是为了保持程序结构的完整性"
   ]
  },
  {
   "cell_type": "code",
   "execution_count": 8,
   "metadata": {},
   "outputs": [
    {
     "name": "stdout",
     "output_type": "stream",
     "text": [
      "190\n"
     ]
    }
   ],
   "source": [
    "# break语句\n",
    "\n",
    "s = 0\n",
    "n = 1\n",
    "while n > 0:\n",
    "    s = s + n\n",
    "    n = n + 1\n",
    "    if n == 20:\n",
    "        break\n",
    "print(s)\n",
    "# break语句用来终止循环语句，即便循环条件没有False条件或者序列还没被完全递归完，也会停止执行循环语句。"
   ]
  },
  {
   "cell_type": "code",
   "execution_count": 9,
   "metadata": {},
   "outputs": [
    {
     "name": "stdout",
     "output_type": "stream",
     "text": [
      "第0次计算\n",
      "第1次计算\n",
      "第2次计算\n",
      "第3次计算\n",
      "第4次计算\n",
      "第1次计算\n",
      "第2次计算\n",
      "第3次计算\n",
      "第4次计算\n",
      "第5次计算\n",
      "第2次计算\n",
      "第3次计算\n",
      "第4次计算\n",
      "第5次计算\n",
      "第3次计算\n",
      "第4次计算\n",
      "第5次计算\n",
      "第6次计算\n",
      "第7次计算\n",
      "第8次计算\n",
      "第9次计算\n",
      "结果为22\n"
     ]
    }
   ],
   "source": [
    "s = 0\n",
    "for i in range(10):\n",
    "    for j in range(5):\n",
    "        s = s + (i*j)\n",
    "        print('第%i次计算' %(i+j))\n",
    "        if s > 20:\n",
    "            break\n",
    "print('结果为%i' % s)\n",
    "# 如果使用嵌套循环，break语句将停止执行最深层的循环，并开始执行下一行代码"
   ]
  },
  {
   "cell_type": "code",
   "execution_count": 10,
   "metadata": {},
   "outputs": [
    {
     "name": "stdout",
     "output_type": "stream",
     "text": [
      "[0]\n",
      "第0次计算\n",
      "[0, 2]\n",
      "第1次计算\n",
      "[0, 2, 4]\n",
      "第2次计算\n",
      "[0, 2, 4, 6]\n",
      "第3次计算\n",
      "[0, 2, 4, 6, 8]\n",
      "第4次计算\n",
      "[0, 2, 4, 6, 8, 10]\n",
      "第5次计算\n",
      "[0, 2, 4, 6, 8, 10, 12]\n",
      "第6次计算\n",
      "[0, 2, 4, 6, 8, 10, 12, 14]\n",
      "第7次计算\n",
      "[0, 2, 4, 6, 8, 10, 12, 14, 16]\n",
      "第8次计算\n",
      "[0, 2, 4, 6, 8, 10, 12, 14, 16, 18]\n",
      "第9次计算\n",
      "[0, 2, 4, 6, 8, 10, 12, 14, 16, 18, 20]\n",
      "第10次计算\n",
      "[0, 2, 4, 6, 8, 10, 12, 14, 16, 18, 20, 22]\n",
      "第11次计算\n",
      "[0, 2, 4, 6, 8, 10, 12, 14, 16, 18, 20, 22, 24]\n",
      "第12次计算\n",
      "[0, 2, 4, 6, 8, 10, 12, 14, 16, 18, 20, 22, 24, 26]\n",
      "第13次计算\n",
      "[0, 2, 4, 6, 8, 10, 12, 14, 16, 18, 20, 22, 24, 26, 28]\n",
      "第14次计算\n",
      "[0, 2, 4, 6, 8, 10, 12, 14, 16, 18, 20, 22, 24, 26, 28, 30]\n",
      "第15次计算\n",
      "[0, 2, 4, 6, 8, 10, 12, 14, 16, 18, 20, 22, 24, 26, 28, 30, 32]\n",
      "第16次计算\n",
      "[0, 2, 4, 6, 8, 10, 12, 14, 16, 18, 20, 22, 24, 26, 28, 30, 32, 34]\n",
      "第17次计算\n",
      "[0, 2, 4, 6, 8, 10, 12, 14, 16, 18, 20, 22, 24, 26, 28, 30, 32, 34, 36]\n",
      "第18次计算\n",
      "[0, 2, 4, 6, 8, 10, 12, 14, 16, 18, 20, 22, 24, 26, 28, 30, 32, 34, 36, 38]\n",
      "第19次计算\n",
      "[0, 2, 4, 6, 8, 10, 12, 14, 16, 18, 20, 22, 24, 26, 28, 30, 32, 34, 36, 38, 40]\n",
      "第20次计算\n",
      "[0, 2, 4, 6, 8, 10, 12, 14, 16, 18, 20, 22, 24, 26, 28, 30, 32, 34, 36, 38, 40, 42]\n",
      "第21次计算\n",
      "[0, 2, 4, 6, 8, 10, 12, 14, 16, 18, 20, 22, 24, 26, 28, 30, 32, 34, 36, 38, 40, 42, 44]\n",
      "第22次计算\n",
      "[0, 2, 4, 6, 8, 10, 12, 14, 16, 18, 20, 22, 24, 26, 28, 30, 32, 34, 36, 38, 40, 42, 44, 46]\n",
      "第23次计算\n",
      "[0, 2, 4, 6, 8, 10, 12, 14, 16, 18, 20, 22, 24, 26, 28, 30, 32, 34, 36, 38, 40, 42, 44, 46, 48]\n",
      "第24次计算\n",
      "结果为22\n"
     ]
    }
   ],
   "source": [
    "# continue语句\n",
    "\n",
    "lst = []\n",
    "for i in range(50):\n",
    "    if i%2 == 0:\n",
    "        lst.append(i)\n",
    "        print(lst)\n",
    "    else:\n",
    "        continue\n",
    "        print('本次循环的值并不能整除2')\n",
    "    print('第%i次计算'%(i/2))\n",
    "print('结果为%i' % s)\n",
    "# continue 语句用来告诉Python跳过当前循环的剩余语句，然后继续进行下一轮循环。"
   ]
  },
  {
   "cell_type": "code",
   "execution_count": 11,
   "metadata": {},
   "outputs": [
    {
     "name": "stdout",
     "output_type": "stream",
     "text": [
      "当前字母 : P\n",
      "当前字母 : y\n",
      "当前字母 : t\n",
      "当前字母 : h，但是我pass了\n",
      "当前字母 : h\n",
      "当前字母 : o\n",
      "当前字母 : n\n",
      "Good bye!\n"
     ]
    }
   ],
   "source": [
    "# pass语句\n",
    "\n",
    "for letter in 'Python':\n",
    "    if letter == 'h':\n",
    "        pass\n",
    "        print( '当前字母 : h，但是我pass了')\n",
    "    print( '当前字母 :', letter)\n",
    "print( \"Good bye!\")\n",
    "# pass是空语句，是为了保持程序结构的完整性。（不中断也不跳过）"
   ]
  }
 ],
 "metadata": {
  "kernelspec": {
   "display_name": "Python 3",
   "language": "python",
   "name": "python3"
  },
  "language_info": {
   "codemirror_mode": {
    "name": "ipython",
    "version": 3
   },
   "file_extension": ".py",
   "mimetype": "text/x-python",
   "name": "python",
   "nbconvert_exporter": "python",
   "pygments_lexer": "ipython3",
   "version": "3.7.3"
  }
 },
 "nbformat": 4,
 "nbformat_minor": 2
}
