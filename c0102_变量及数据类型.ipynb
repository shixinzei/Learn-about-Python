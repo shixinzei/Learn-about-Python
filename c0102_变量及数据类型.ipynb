{
 "cells": [
  {
   "cell_type": "markdown",
   "metadata": {},
   "source": [
    "1.数值类型概述\n",
    "\n",
    "Python标准数据类型：Numbers数字，String字符串，List列表，Tuple元组，Dict字典\n"
   ]
  },
  {
   "cell_type": "code",
   "execution_count": 1,
   "metadata": {},
   "outputs": [
    {
     "name": "stdout",
     "output_type": "stream",
     "text": [
      "<class 'int'> <class 'float'>\n"
     ]
    }
   ],
   "source": [
    "# Numbers数字分为：int整型，long长整型，float浮点型，complex复数\n",
    "x1 = 10\n",
    "x2 = 10.0\n",
    "print(type(x1),type(x2))"
   ]
  },
  {
   "cell_type": "code",
   "execution_count": 2,
   "metadata": {},
   "outputs": [
    {
     "name": "stdout",
     "output_type": "stream",
     "text": [
      "10\n",
      "<class 'int'>\n",
      "10.0\n",
      "<class 'float'>\n"
     ]
    }
   ],
   "source": [
    "print(10)\n",
    "print(type(10))\n",
    "print(10.0)\n",
    "print(type(10.0))"
   ]
  },
  {
   "cell_type": "code",
   "execution_count": 8,
   "metadata": {},
   "outputs": [
    {
     "name": "stdout",
     "output_type": "stream",
     "text": [
      "Hello World！ <class 'str'>\n",
      "hehe\n",
      "hahah\n",
      "what\n",
      "?\n"
     ]
    }
   ],
   "source": [
    "# String字符串由数字、字母、下划线组成的一串字符，用于表示文本的数据类型\n",
    "x3 = 'Hello World！'\n",
    "print(x3,type(x3))\n",
    "print(\"hehe\")\n",
    "print('hahah')\n",
    "print('''what\n",
    "?''')\n",
    "# 一定用英文标点符号，单引号''，双引号\"\"，三引号''''''（可以表示多行字符串）"
   ]
  },
  {
   "cell_type": "code",
   "execution_count": 11,
   "metadata": {},
   "outputs": [
    {
     "ename": "SyntaxError",
     "evalue": "EOL while scanning string literal (<ipython-input-11-2bc518fd6113>, line 1)",
     "output_type": "error",
     "traceback": [
      "\u001b[1;36m  File \u001b[1;32m\"<ipython-input-11-2bc518fd6113>\"\u001b[1;36m, line \u001b[1;32m1\u001b[0m\n\u001b[1;33m    \"he\u001b[0m\n\u001b[1;37m       ^\u001b[0m\n\u001b[1;31mSyntaxError\u001b[0m\u001b[1;31m:\u001b[0m EOL while scanning string literal\n"
     ]
    }
   ],
   "source": [
    "\"he\n",
    "he\n",
    "\""
   ]
  },
  {
   "cell_type": "code",
   "execution_count": 13,
   "metadata": {},
   "outputs": [
    {
     "name": "stdout",
     "output_type": "stream",
     "text": [
      "he\n",
      "he\n"
     ]
    }
   ],
   "source": [
    "print(\"he\\nhe\")"
   ]
  },
  {
   "cell_type": "code",
   "execution_count": 15,
   "metadata": {},
   "outputs": [
    {
     "data": {
      "text/plain": [
       "'hehe\\nhehe'"
      ]
     },
     "execution_count": 15,
     "metadata": {},
     "output_type": "execute_result"
    }
   ],
   "source": [
    "'''hehe\n",
    "hehe'''"
   ]
  },
  {
   "cell_type": "code",
   "execution_count": 16,
   "metadata": {},
   "outputs": [
    {
     "name": "stdout",
     "output_type": "stream",
     "text": [
      "hehe\n",
      "hehe\n"
     ]
    }
   ],
   "source": [
    "print('''hehe\n",
    "hehe''')"
   ]
  },
  {
   "cell_type": "code",
   "execution_count": 18,
   "metadata": {},
   "outputs": [
    {
     "name": "stdout",
     "output_type": "stream",
     "text": [
      "True <class 'bool'>\n",
      "True\n",
      "True\n",
      "10\n"
     ]
    }
   ],
   "source": [
    "# bool布尔型：True or False ，用于判断\n",
    "x4 = True\n",
    "print(x4,type(x4))\n",
    "print(True == 1)\n",
    "print(False == 0)\n",
    "print(True * 10)\n",
    "# True 实际值是1，False实际值是0"
   ]
  },
  {
   "cell_type": "code",
   "execution_count": 20,
   "metadata": {},
   "outputs": [
    {
     "name": "stdout",
     "output_type": "stream",
     "text": [
      "[1, 'a', 2.4, 502, [1, 2, 3]] <class 'list'>\n"
     ]
    }
   ],
   "source": [
    "# List列表，支持字符，数字，字符串以及包含列表（即嵌套），用[]标识，有序对象\n",
    "x5 = [1,'a',2.4,502,[1,2,3]]\n",
    "print(x5,type(x5))"
   ]
  },
  {
   "cell_type": "code",
   "execution_count": 21,
   "metadata": {},
   "outputs": [
    {
     "name": "stdout",
     "output_type": "stream",
     "text": [
      "(1, 2, 3, 'hello') <class 'tuple'>\n"
     ]
    }
   ],
   "source": [
    "# Tuple 元组，用()标识，不能二次赋值，可以理解为不可变的列表（只读列表）\n",
    "x6 = (1,2,3,'hello')\n",
    "print(x6,type(x6))"
   ]
  },
  {
   "cell_type": "code",
   "execution_count": 39,
   "metadata": {},
   "outputs": [
    {
     "name": "stdout",
     "output_type": "stream",
     "text": [
      "[2, 'a', 2.4, 502, [1, 2, 3]]\n"
     ]
    }
   ],
   "source": [
    "x5[0] = 2\n",
    "print(x5)"
   ]
  },
  {
   "cell_type": "code",
   "execution_count": 40,
   "metadata": {},
   "outputs": [
    {
     "ename": "TypeError",
     "evalue": "'tuple' object does not support item assignment",
     "output_type": "error",
     "traceback": [
      "\u001b[1;31m---------------------------------------------------------------------------\u001b[0m",
      "\u001b[1;31mTypeError\u001b[0m                                 Traceback (most recent call last)",
      "\u001b[1;32m<ipython-input-40-68c932c22cee>\u001b[0m in \u001b[0;36m<module>\u001b[1;34m\u001b[0m\n\u001b[1;32m----> 1\u001b[1;33m \u001b[0mx6\u001b[0m\u001b[1;33m[\u001b[0m\u001b[1;36m0\u001b[0m\u001b[1;33m]\u001b[0m \u001b[1;33m=\u001b[0m \u001b[1;36m1\u001b[0m\u001b[1;33m\u001b[0m\u001b[1;33m\u001b[0m\u001b[0m\n\u001b[0m",
      "\u001b[1;31mTypeError\u001b[0m: 'tuple' object does not support item assignment"
     ]
    }
   ],
   "source": [
    "x6[0] = 1"
   ]
  },
  {
   "cell_type": "code",
   "execution_count": 22,
   "metadata": {},
   "outputs": [
    {
     "name": "stdout",
     "output_type": "stream",
     "text": [
      "{'name': 'shixinzei', 'city': 'chengdu', 'qq': 1064080118} <class 'dict'>\n"
     ]
    }
   ],
   "source": [
    "# Dict字典，用{}标识，由索引（key）和它对应的值value组成，无序对象\n",
    "x7 = {\"name\":\"shixinzei\",\"city\":\"chengdu\",\"qq\":1064080118}\n",
    "print(x7,type(x7))"
   ]
  },
  {
   "cell_type": "code",
   "execution_count": 25,
   "metadata": {},
   "outputs": [
    {
     "name": "stdout",
     "output_type": "stream",
     "text": [
      "10.8 <class 'float'>\n",
      "10 <class 'int'>\n",
      "\n",
      "\n",
      "10 <class 'int'>\n",
      "10.0 <class 'float'>\n",
      "\n",
      "\n",
      "10.0 <class 'float'>\n",
      "10.0 <class 'str'>\n",
      "10.0 <class 'float'>\n"
     ]
    }
   ],
   "source": [
    "# 数值类型转换方法，**这里暂时只针对int，float，str三者，\n",
    "var1 = 10.8\n",
    "var2 = int(var1)\n",
    "print(var1,type(var1))\n",
    "print(var2,type(var2))\n",
    "# int(x)函数：将x转为整型，如果是四舍五入则是round(x)函数\n",
    "print(\"\\n\")\n",
    "\n",
    "var1 = 10\n",
    "var2 = float(var1)\n",
    "print(var1,type(var1))\n",
    "print(var2,type(var2))\n",
    "# float(x)函数：将x转为浮点数\n",
    "print(\"\\n\")\n",
    "\n",
    "var1 = 10.0\n",
    "var2 = str(var1)\n",
    "var3 = float(var1)\n",
    "print(var1,type(var1))\n",
    "print(var2,type(var2))\n",
    "print(var3,type(var3))\n",
    "# str(x)函数：将x转为字符串"
   ]
  },
  {
   "cell_type": "code",
   "execution_count": 41,
   "metadata": {},
   "outputs": [
    {
     "name": "stdout",
     "output_type": "stream",
     "text": [
      "<class 'int'>\n"
     ]
    }
   ],
   "source": [
    "print(type(round(10.8)))"
   ]
  },
  {
   "cell_type": "code",
   "execution_count": 43,
   "metadata": {},
   "outputs": [
    {
     "name": "stdout",
     "output_type": "stream",
     "text": [
      "<class 'str'>\n"
     ]
    }
   ],
   "source": [
    "print(type(str(1.00)))"
   ]
  },
  {
   "cell_type": "code",
   "execution_count": 44,
   "metadata": {},
   "outputs": [
    {
     "name": "stdout",
     "output_type": "stream",
     "text": [
      "10\n"
     ]
    }
   ],
   "source": [
    "print(int(10.2))"
   ]
  },
  {
   "cell_type": "code",
   "execution_count": 45,
   "metadata": {},
   "outputs": [
    {
     "data": {
      "text/plain": [
       "123"
      ]
     },
     "execution_count": 45,
     "metadata": {},
     "output_type": "execute_result"
    }
   ],
   "source": [
    "int(float('123'))"
   ]
  },
  {
   "cell_type": "code",
   "execution_count": 46,
   "metadata": {},
   "outputs": [
    {
     "ename": "ValueError",
     "evalue": "could not convert string to float: '123a'",
     "output_type": "error",
     "traceback": [
      "\u001b[1;31m---------------------------------------------------------------------------\u001b[0m",
      "\u001b[1;31mValueError\u001b[0m                                Traceback (most recent call last)",
      "\u001b[1;32m<ipython-input-46-626a1b30f063>\u001b[0m in \u001b[0;36m<module>\u001b[1;34m\u001b[0m\n\u001b[1;32m----> 1\u001b[1;33m \u001b[0mint\u001b[0m\u001b[1;33m(\u001b[0m\u001b[0mfloat\u001b[0m\u001b[1;33m(\u001b[0m\u001b[1;34m'123a'\u001b[0m\u001b[1;33m)\u001b[0m\u001b[1;33m)\u001b[0m\u001b[1;33m\u001b[0m\u001b[1;33m\u001b[0m\u001b[0m\n\u001b[0m",
      "\u001b[1;31mValueError\u001b[0m: could not convert string to float: '123a'"
     ]
    }
   ],
   "source": [
    "int(float('123a')) # 本身不是数值 会出错"
   ]
  },
  {
   "cell_type": "markdown",
   "metadata": {},
   "source": [
    "2、认识变量\n",
    "\n",
    "什么是变量？ 方程式\"=\"左边的就是变量\n",
    "* 给变量赋值即创建该变量，并且同时赋予该变量 → ① 变量名、② 变量类型\n",
    "* 变量命名规则①：变量名第一个字符必须是字母（大小写均可）或者下划线（“_”），不能数字开头；\n",
    "* 变量命名规则②：变量名不能和常用功能性名字重合，例如print，if，for\n",
    "* 变量命名规则③：不要有空格"
   ]
  },
  {
   "cell_type": "code",
   "execution_count": 26,
   "metadata": {},
   "outputs": [
    {
     "name": "stdout",
     "output_type": "stream",
     "text": [
      "100\n",
      "1000.0\n",
      "shixinzei\n"
     ]
    }
   ],
   "source": [
    "# 变量赋值\n",
    "counter = 100 # 赋值整型变量\n",
    "miles = 1000.0 # 浮点型\n",
    "name = 'shixinzei' # 字符串\n",
    "print(counter)\n",
    "print(miles)\n",
    "print(name)"
   ]
  },
  {
   "cell_type": "code",
   "execution_count": 48,
   "metadata": {},
   "outputs": [
    {
     "name": "stdout",
     "output_type": "stream",
     "text": [
      "1 <class 'int'> 140728868967232\n",
      "2.0 <class 'float'> 2668067464776\n",
      "[1, 2, 3] <class 'list'> 2668072250312\n"
     ]
    }
   ],
   "source": [
    "x = 1\n",
    "print(x,type(x),id(x))\n",
    "x = 2.0\n",
    "print(x,type(x),id(x))\n",
    "x = [1,2,3]\n",
    "print(x,type(x),id(x))"
   ]
  },
  {
   "cell_type": "code",
   "execution_count": 49,
   "metadata": {},
   "outputs": [
    {
     "ename": "NameError",
     "evalue": "name 'x' is not defined",
     "output_type": "error",
     "traceback": [
      "\u001b[1;31m---------------------------------------------------------------------------\u001b[0m",
      "\u001b[1;31mNameError\u001b[0m                                 Traceback (most recent call last)",
      "\u001b[1;32m<ipython-input-49-8c23cd95a3fd>\u001b[0m in \u001b[0;36m<module>\u001b[1;34m\u001b[0m\n\u001b[0;32m      1\u001b[0m \u001b[1;32mdel\u001b[0m \u001b[0mx\u001b[0m\u001b[1;33m\u001b[0m\u001b[1;33m\u001b[0m\u001b[0m\n\u001b[1;32m----> 2\u001b[1;33m \u001b[0mprint\u001b[0m\u001b[1;33m(\u001b[0m\u001b[0mx\u001b[0m\u001b[1;33m)\u001b[0m\u001b[1;33m\u001b[0m\u001b[1;33m\u001b[0m\u001b[0m\n\u001b[0m",
      "\u001b[1;31mNameError\u001b[0m: name 'x' is not defined"
     ]
    }
   ],
   "source": [
    "del x # 删除变量\n",
    "print(x)"
   ]
  },
  {
   "cell_type": "code",
   "execution_count": 51,
   "metadata": {},
   "outputs": [
    {
     "name": "stdout",
     "output_type": "stream",
     "text": [
      "1 1 1 1 2 hello\n"
     ]
    }
   ],
   "source": [
    "# 多变量赋值\n",
    "a = b = c = 1\n",
    "d, e, f = 1, 2, 'hello'\n",
    "print(a,b,c,d,e,f)"
   ]
  },
  {
   "cell_type": "code",
   "execution_count": 52,
   "metadata": {},
   "outputs": [
    {
     "data": {
      "text/plain": [
       "(140728868967232, 140728868967232, 140728868967232)"
      ]
     },
     "execution_count": 52,
     "metadata": {},
     "output_type": "execute_result"
    }
   ],
   "source": [
    "id(a),id(b),id(c)"
   ]
  },
  {
   "cell_type": "code",
   "execution_count": 53,
   "metadata": {},
   "outputs": [
    {
     "data": {
      "text/plain": [
       "(140728868967232, 140728868967264, 2668070951432)"
      ]
     },
     "execution_count": 53,
     "metadata": {},
     "output_type": "execute_result"
    }
   ],
   "source": [
    "id(d),id(e),id(f)"
   ]
  },
  {
   "cell_type": "code",
   "execution_count": 54,
   "metadata": {},
   "outputs": [
    {
     "name": "stdout",
     "output_type": "stream",
     "text": [
      "10 140728868967520\n",
      "20 140728868967840\n"
     ]
    }
   ],
   "source": [
    "# 动态变量：变量的值是可以更改的，或者说变量可以随时指向任意值\n",
    "var1 = 10\n",
    "print(var1,id(var1))\n",
    "var1 = 20\n",
    "print(var1,id(var1))"
   ]
  },
  {
   "cell_type": "code",
   "execution_count": 55,
   "metadata": {},
   "outputs": [
    {
     "ename": "NameError",
     "evalue": "name 'var1' is not defined",
     "output_type": "error",
     "traceback": [
      "\u001b[1;31m---------------------------------------------------------------------------\u001b[0m",
      "\u001b[1;31mNameError\u001b[0m                                 Traceback (most recent call last)",
      "\u001b[1;32m<ipython-input-55-c0dd3ea40a10>\u001b[0m in \u001b[0;36m<module>\u001b[1;34m\u001b[0m\n\u001b[0;32m      1\u001b[0m \u001b[1;32mdel\u001b[0m \u001b[0mvar1\u001b[0m\u001b[1;33m\u001b[0m\u001b[1;33m\u001b[0m\u001b[0m\n\u001b[1;32m----> 2\u001b[1;33m \u001b[0mvar1\u001b[0m\u001b[1;33m\u001b[0m\u001b[1;33m\u001b[0m\u001b[0m\n\u001b[0m",
      "\u001b[1;31mNameError\u001b[0m: name 'var1' is not defined"
     ]
    }
   ],
   "source": [
    "del var1\n",
    "var1"
   ]
  },
  {
   "cell_type": "code",
   "execution_count": 56,
   "metadata": {},
   "outputs": [
    {
     "data": {
      "text/plain": [
       "(10, int)"
      ]
     },
     "execution_count": 56,
     "metadata": {},
     "output_type": "execute_result"
    }
   ],
   "source": [
    "print = 10\n",
    "print,type(print)"
   ]
  },
  {
   "cell_type": "code",
   "execution_count": 57,
   "metadata": {},
   "outputs": [
    {
     "ename": "TypeError",
     "evalue": "'int' object is not callable",
     "output_type": "error",
     "traceback": [
      "\u001b[1;31m---------------------------------------------------------------------------\u001b[0m",
      "\u001b[1;31mTypeError\u001b[0m                                 Traceback (most recent call last)",
      "\u001b[1;32m<ipython-input-57-355b70c05717>\u001b[0m in \u001b[0;36m<module>\u001b[1;34m\u001b[0m\n\u001b[1;32m----> 1\u001b[1;33m \u001b[0mprint\u001b[0m\u001b[1;33m(\u001b[0m\u001b[1;36m10\u001b[0m\u001b[1;33m)\u001b[0m\u001b[1;33m\u001b[0m\u001b[1;33m\u001b[0m\u001b[0m\n\u001b[0m",
      "\u001b[1;31mTypeError\u001b[0m: 'int' object is not callable"
     ]
    }
   ],
   "source": [
    "print(10)"
   ]
  },
  {
   "cell_type": "code",
   "execution_count": 58,
   "metadata": {},
   "outputs": [
    {
     "name": "stdout",
     "output_type": "stream",
     "text": [
      "10\n"
     ]
    }
   ],
   "source": [
    "del print # 删除之前的变量\n",
    "print(10)"
   ]
  },
  {
   "cell_type": "markdown",
   "metadata": {},
   "source": [
    "3.运算符\n",
    "\n",
    "什么时候运算符？1+2=3的例子中，1和2被称为操作数，\"+\"被称为运算符"
   ]
  },
  {
   "cell_type": "code",
   "execution_count": 30,
   "metadata": {
    "scrolled": true
   },
   "outputs": [
    {
     "name": "stdout",
     "output_type": "stream",
     "text": [
      "a加b的值为： 31\n",
      "a减b的值为： 11\n",
      "a乘b的值为： 210\n",
      "a除b的值为： 2.1\n",
      "a取模b的值为： 1\n",
      "2的3次幂为： 8\n",
      "10除4的整除数为： 2\n"
     ]
    }
   ],
   "source": [
    "# 算术运算符\n",
    "a,b,c = 21,10,0\n",
    "# 加法\n",
    "c = a + b\n",
    "print(\"a加b的值为：\",c)\n",
    "# 减法\n",
    "c = a - b\n",
    "print(\"a减b的值为：\",c)\n",
    "# 乘法\n",
    "c = a * b\n",
    "print(\"a乘b的值为：\",c)\n",
    "# 除法\n",
    "c = a / b\n",
    "print(\"a除b的值为：\",c)\n",
    "# 取模运算\n",
    "c = a % b\n",
    "print(\"a取模b的值为：\",c)\n",
    "# 求幂\n",
    "a,b = 2,3\n",
    "c = a ** b\n",
    "print(\"2的3次幂为：\",c)\n",
    "# 取整除数\n",
    "a,b = 10,4\n",
    "c = a // b\n",
    "print(\"10除4的整除数为：\",c)"
   ]
  },
  {
   "cell_type": "code",
   "execution_count": 31,
   "metadata": {},
   "outputs": [
    {
     "name": "stdout",
     "output_type": "stream",
     "text": [
      "False\n",
      "True\n",
      "True\n",
      "False\n",
      "True\n",
      "False\n"
     ]
    }
   ],
   "source": [
    "# 比较运算符\n",
    "a,b = 21,10\n",
    "print(a == b) # 等于\n",
    "print(a != b) # 不等于\n",
    "print(a > b) # 大于\n",
    "print(a < b) # 小于\n",
    "print(a >= 21) # 大于等于\n",
    "print(a <= 2) # 小于等于"
   ]
  },
  {
   "cell_type": "code",
   "execution_count": 61,
   "metadata": {},
   "outputs": [
    {
     "data": {
      "text/plain": [
       "True"
      ]
     },
     "execution_count": 61,
     "metadata": {},
     "output_type": "execute_result"
    }
   ],
   "source": [
    "'a' == 'a'"
   ]
  },
  {
   "cell_type": "code",
   "execution_count": 62,
   "metadata": {},
   "outputs": [
    {
     "data": {
      "text/plain": [
       "False"
      ]
     },
     "execution_count": 62,
     "metadata": {},
     "output_type": "execute_result"
    }
   ],
   "source": [
    "'a' == 'b'"
   ]
  },
  {
   "cell_type": "code",
   "execution_count": 71,
   "metadata": {},
   "outputs": [
    {
     "name": "stdout",
     "output_type": "stream",
     "text": [
      "False\n",
      "True\n",
      "False\n",
      "\n",
      "\n",
      "False\n",
      "\n",
      "\n",
      "False True True True False\n"
     ]
    }
   ],
   "source": [
    "# 逻辑运算符\n",
    "print(True and False) # and：且\n",
    "print(True or False) # or:或\n",
    "print(not True) # not:非\n",
    "print(\"\\n\")\n",
    "\n",
    "# 布尔型的本质：True的值为1.False的值为0\n",
    "print(True > 1)\n",
    "print(\"\\n\")\n",
    "\n",
    "print(bool(0),bool(3),bool(-1),bool([1,2,3]),bool(0))\n",
    "# bool()函数：将值转换为布尔型，其中只有以下情况bool()返回False：0, 0.0, None，'', [] , {}"
   ]
  },
  {
   "cell_type": "code",
   "execution_count": 64,
   "metadata": {},
   "outputs": [
    {
     "data": {
      "text/plain": [
       "True"
      ]
     },
     "execution_count": 64,
     "metadata": {},
     "output_type": "execute_result"
    }
   ],
   "source": [
    "True and True "
   ]
  },
  {
   "cell_type": "code",
   "execution_count": 66,
   "metadata": {},
   "outputs": [
    {
     "data": {
      "text/plain": [
       "False"
      ]
     },
     "execution_count": 66,
     "metadata": {},
     "output_type": "execute_result"
    }
   ],
   "source": [
    "False or False"
   ]
  },
  {
   "cell_type": "code",
   "execution_count": 67,
   "metadata": {},
   "outputs": [
    {
     "data": {
      "text/plain": [
       "True"
      ]
     },
     "execution_count": 67,
     "metadata": {},
     "output_type": "execute_result"
    }
   ],
   "source": [
    "(10>5) or (12<5)"
   ]
  },
  {
   "cell_type": "code",
   "execution_count": 68,
   "metadata": {},
   "outputs": [
    {
     "data": {
      "text/plain": [
       "False"
      ]
     },
     "execution_count": 68,
     "metadata": {},
     "output_type": "execute_result"
    }
   ],
   "source": [
    "not True"
   ]
  },
  {
   "cell_type": "code",
   "execution_count": 69,
   "metadata": {},
   "outputs": [
    {
     "data": {
      "text/plain": [
       "True"
      ]
     },
     "execution_count": 69,
     "metadata": {},
     "output_type": "execute_result"
    }
   ],
   "source": [
    "not False"
   ]
  },
  {
   "cell_type": "code",
   "execution_count": 35,
   "metadata": {},
   "outputs": [
    {
     "name": "stdout",
     "output_type": "stream",
     "text": [
      "True\n",
      "True\n"
     ]
    }
   ],
   "source": [
    "# 成员运算符 in/not in\n",
    "lst = [1,2,3,4,5,6]\n",
    "a,b = 1,10\n",
    "print(a in lst) # a在lst序列中，如果x在y序列中返回True\n",
    "print(b not in lst) # b不在lst序列中，如果x不在y序列中返回True"
   ]
  },
  {
   "cell_type": "code",
   "execution_count": 72,
   "metadata": {},
   "outputs": [
    {
     "ename": "TypeError",
     "evalue": "argument of type 'int' is not iterable",
     "output_type": "error",
     "traceback": [
      "\u001b[1;31m---------------------------------------------------------------------------\u001b[0m",
      "\u001b[1;31mTypeError\u001b[0m                                 Traceback (most recent call last)",
      "\u001b[1;32m<ipython-input-72-312d505c5909>\u001b[0m in \u001b[0;36m<module>\u001b[1;34m\u001b[0m\n\u001b[0;32m      1\u001b[0m \u001b[0ma\u001b[0m \u001b[1;33m=\u001b[0m \u001b[1;36m1\u001b[0m\u001b[1;33m\u001b[0m\u001b[1;33m\u001b[0m\u001b[0m\n\u001b[0;32m      2\u001b[0m \u001b[0mb\u001b[0m \u001b[1;33m=\u001b[0m \u001b[1;36m10\u001b[0m\u001b[1;33m\u001b[0m\u001b[1;33m\u001b[0m\u001b[0m\n\u001b[1;32m----> 3\u001b[1;33m \u001b[0ma\u001b[0m \u001b[1;32min\u001b[0m \u001b[0mb\u001b[0m \u001b[1;31m# b必须是一个可以迭代的对象\u001b[0m\u001b[1;33m\u001b[0m\u001b[1;33m\u001b[0m\u001b[0m\n\u001b[0m",
      "\u001b[1;31mTypeError\u001b[0m: argument of type 'int' is not iterable"
     ]
    }
   ],
   "source": [
    "a = 1\n",
    "b = 10\n",
    "a in b # b必须是一个可以迭代的对象"
   ]
  },
  {
   "cell_type": "code",
   "execution_count": 73,
   "metadata": {},
   "outputs": [
    {
     "data": {
      "text/plain": [
       "True"
      ]
     },
     "execution_count": 73,
     "metadata": {},
     "output_type": "execute_result"
    }
   ],
   "source": [
    "a = 2\n",
    "a in range(10)"
   ]
  },
  {
   "cell_type": "markdown",
   "metadata": {},
   "source": [
    "4.注释#\n",
    "* 注释是用来说明代码\n",
    "* 程序运行的时候，Python解释器会直接忽略掉注释 → 有没有注释不影响程序的执行结果，但是影响到别人能不能看懂你的代码。\n",
    "* 但“#”不只代表注释,还代表某些文件的特殊格式，写在脚本开头\n",
    "* 注意：注释只在脚本中起作用"
   ]
  },
  {
   "cell_type": "code",
   "execution_count": 74,
   "metadata": {},
   "outputs": [
    {
     "name": "stdout",
     "output_type": "stream",
     "text": [
      "hello world\n"
     ]
    }
   ],
   "source": [
    "print('hello world')\n",
    "# print(\"python\")\n",
    "# 这段代码print..."
   ]
  },
  {
   "cell_type": "code",
   "execution_count": 75,
   "metadata": {},
   "outputs": [],
   "source": [
    "def f(st):\n",
    "    # 该函数是将输入的st输出10遍\n",
    "    for i in range(10):\n",
    "        print(st)"
   ]
  },
  {
   "cell_type": "code",
   "execution_count": 76,
   "metadata": {},
   "outputs": [
    {
     "name": "stdout",
     "output_type": "stream",
     "text": [
      "hello world\n",
      "hello world\n",
      "hello world\n",
      "hello world\n",
      "hello world\n",
      "hello world\n",
      "hello world\n",
      "hello world\n",
      "hello world\n",
      "hello world\n"
     ]
    }
   ],
   "source": [
    "f('hello world')"
   ]
  },
  {
   "cell_type": "code",
   "execution_count": 37,
   "metadata": {},
   "outputs": [
    {
     "name": "stdout",
     "output_type": "stream",
     "text": [
      "1\n",
      "2\n",
      "3\n",
      "4\n"
     ]
    }
   ],
   "source": [
    "a = [1,2,3,4]\n",
    "# a ={'name':'shixinzei'.'city':\"chengdu\"}\n",
    "for i in a:\n",
    "    print(i)\n",
    "# 注释也可以用于标识暂不运行的语句"
   ]
  },
  {
   "cell_type": "code",
   "execution_count": 77,
   "metadata": {},
   "outputs": [],
   "source": [
    "def f(st):\n",
    "    # 该函数是将输入的st输出10遍\n",
    "    # 该函数是第一个函数\n",
    "    # 该函数输入值为字符串\n",
    "    for i in range(10):\n",
    "        print(st)"
   ]
  },
  {
   "cell_type": "code",
   "execution_count": 78,
   "metadata": {},
   "outputs": [],
   "source": [
    "def f(st):\n",
    "    '''\n",
    "    该函数是将输入的st输出10遍\n",
    "    该函数是第一个函数\n",
    "    该函数输入值为字符串\n",
    "    '''\n",
    "    for i in range(10):\n",
    "        print(st)"
   ]
  },
  {
   "cell_type": "code",
   "execution_count": null,
   "metadata": {},
   "outputs": [],
   "source": []
  }
 ],
 "metadata": {
  "kernelspec": {
   "display_name": "Python 3",
   "language": "python",
   "name": "python3"
  },
  "language_info": {
   "codemirror_mode": {
    "name": "ipython",
    "version": 3
   },
   "file_extension": ".py",
   "mimetype": "text/x-python",
   "name": "python",
   "nbconvert_exporter": "python",
   "pygments_lexer": "ipython3",
   "version": "3.7.3"
  }
 },
 "nbformat": 4,
 "nbformat_minor": 2
}
