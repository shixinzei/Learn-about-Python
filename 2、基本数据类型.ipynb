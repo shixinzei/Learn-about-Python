{
 "cells": [
  {
   "cell_type": "markdown",
   "metadata": {},
   "source": [
    "1、数字->number\n",
    "* Python数字数据类型用于存储数值\n",
    "* 整型、浮点型"
   ]
  },
  {
   "cell_type": "code",
   "execution_count": 1,
   "metadata": {},
   "outputs": [
    {
     "data": {
      "text/plain": [
       "int"
      ]
     },
     "execution_count": 1,
     "metadata": {},
     "output_type": "execute_result"
    }
   ],
   "source": [
    "# 整型 int\n",
    "type(10)\n",
    "a = 10\n",
    "type(a)"
   ]
  },
  {
   "cell_type": "code",
   "execution_count": 2,
   "metadata": {},
   "outputs": [
    {
     "data": {
      "text/plain": [
       "float"
      ]
     },
     "execution_count": 2,
     "metadata": {},
     "output_type": "execute_result"
    }
   ],
   "source": [
    "# 浮点型 float\n",
    "type(10.0)"
   ]
  },
  {
   "cell_type": "code",
   "execution_count": 5,
   "metadata": {},
   "outputs": [
    {
     "name": "stdout",
     "output_type": "stream",
     "text": [
      "117\n",
      "83\n",
      "1700\n",
      "5.882352941176471\n"
     ]
    }
   ],
   "source": [
    "# 算术运算 --> 数值运算\n",
    "a = 100\n",
    "b = 17\n",
    "print(a+b)\n",
    "print(a-b)\n",
    "print(a*b)\n",
    "print(a/b)\n"
   ]
  },
  {
   "cell_type": "code",
   "execution_count": 7,
   "metadata": {},
   "outputs": [
    {
     "name": "stdout",
     "output_type": "stream",
     "text": [
      "5\n",
      "1000000\n",
      "15\n"
     ]
    }
   ],
   "source": [
    "print(a//b)\n",
    "print(a**3)\n",
    "print(a%b)"
   ]
  },
  {
   "cell_type": "markdown",
   "metadata": {},
   "source": [
    "2、布尔型\n",
    "* 布尔运算，用于判断结果 True or False （注意大小写）"
   ]
  },
  {
   "cell_type": "code",
   "execution_count": 9,
   "metadata": {},
   "outputs": [
    {
     "name": "stdout",
     "output_type": "stream",
     "text": [
      "False\n",
      "False\n",
      "True\n",
      "True\n",
      "False\n",
      "True\n"
     ]
    }
   ],
   "source": [
    "# 比较运算符 数值之间的比较\n",
    "print(1>2)\n",
    "print(1==2)\n",
    "print(1<2)\n",
    "print(1!=2)\n",
    "print(1>=2)\n",
    "print(1<=2)"
   ]
  },
  {
   "cell_type": "code",
   "execution_count": 11,
   "metadata": {},
   "outputs": [
    {
     "name": "stdout",
     "output_type": "stream",
     "text": [
      "True\n",
      "False\n",
      "True\n",
      "True\n",
      "False\n",
      "True\n",
      "False\n"
     ]
    }
   ],
   "source": [
    "# 逻辑运算符\n",
    "# 且\n",
    "print(True and True) \n",
    "print(True and False)\n",
    "# 或\n",
    "print(True or True) \n",
    "print(True or False)\n",
    "print(False or False)\n",
    "# 非\n",
    "print(not False) \n",
    "print(not True)"
   ]
  },
  {
   "cell_type": "code",
   "execution_count": 12,
   "metadata": {},
   "outputs": [
    {
     "name": "stdout",
     "output_type": "stream",
     "text": [
      "True\n",
      "True\n",
      "100\n"
     ]
    }
   ],
   "source": [
    "# 本质上， True=1 ，False=0\n",
    "print(True==1)\n",
    "print(False==0)\n",
    "print(True*100)"
   ]
  },
  {
   "cell_type": "markdown",
   "metadata": {},
   "source": [
    "3、字符串\n",
    "* 字符串是Python中最常用的数据类型，我们可以使用引号来创建字符串"
   ]
  },
  {
   "cell_type": "code",
   "execution_count": 14,
   "metadata": {},
   "outputs": [
    {
     "name": "stdout",
     "output_type": "stream",
     "text": [
      "hello world\n",
      "hahaha\n",
      "一二三\n",
      "四五六\n",
      "七八九\n",
      "\n"
     ]
    }
   ],
   "source": [
    "# 创建字符串 用'' \"\" ''' '''\n",
    "str1 = 'hello world'\n",
    "str2 = 'hahaha'\n",
    "str3 = '''一二三\n",
    "四五六\n",
    "七八九\n",
    "'''\n",
    "print(str1)\n",
    "print(str2)\n",
    "print(str3)"
   ]
  },
  {
   "cell_type": "code",
   "execution_count": 15,
   "metadata": {},
   "outputs": [
    {
     "name": "stdout",
     "output_type": "stream",
     "text": [
      "一二三\n",
      "四五六\n",
      "七八九\n",
      "\n"
     ]
    }
   ],
   "source": [
    "print(str3)"
   ]
  },
  {
   "cell_type": "code",
   "execution_count": 16,
   "metadata": {},
   "outputs": [
    {
     "name": "stdout",
     "output_type": "stream",
     "text": [
      "他数学考了 98 分\n"
     ]
    }
   ],
   "source": [
    "# 字符串和其他类型一起print\n",
    "print(\"他数学考了\",98,'分')"
   ]
  },
  {
   "cell_type": "code",
   "execution_count": 20,
   "metadata": {},
   "outputs": [
    {
     "name": "stdout",
     "output_type": "stream",
     "text": [
      "提行\n",
      "提行\n",
      "'\n"
     ]
    }
   ],
   "source": [
    "# 转义字符\n",
    "print(\"提行\\n提行\")\n",
    "print('\\'')"
   ]
  },
  {
   "cell_type": "code",
   "execution_count": 22,
   "metadata": {},
   "outputs": [
    {
     "name": "stdout",
     "output_type": "stream",
     "text": [
      "提行\\n提行\n"
     ]
    }
   ],
   "source": [
    "print(r'提行\\n提行') # 非转义"
   ]
  },
  {
   "cell_type": "code",
   "execution_count": 26,
   "metadata": {},
   "outputs": [
    {
     "data": {
      "text/plain": [
       "'提行\\n提行'"
      ]
     },
     "execution_count": 26,
     "metadata": {},
     "output_type": "execute_result"
    }
   ],
   "source": [
    "a = '提行\\n提行'\n",
    "a"
   ]
  },
  {
   "cell_type": "code",
   "execution_count": 2,
   "metadata": {},
   "outputs": [
    {
     "name": "stdout",
     "output_type": "stream",
     "text": [
      "C:/Users/Desktop/Demo/\n",
      "C:\\Users\\Desktop\\Demo\\\n"
     ]
    }
   ],
   "source": [
    "# 路径设置\n",
    "dir1 = 'C:/Users/Desktop/Demo/'\n",
    "dir2 = 'C:\\\\Users\\\\Desktop\\\\Demo\\\\'\n",
    "print(dir1)\n",
    "print(dir2)"
   ]
  },
  {
   "cell_type": "code",
   "execution_count": 4,
   "metadata": {},
   "outputs": [
    {
     "name": "stdout",
     "output_type": "stream",
     "text": [
      "C:\\Users\\Desktop\\Demo\\\n"
     ]
    }
   ],
   "source": [
    "dir3 = 'C:\\\\Users\\\\Desktop\\\\Demo\\\\'\n",
    "print(dir3)"
   ]
  },
  {
   "cell_type": "code",
   "execution_count": 6,
   "metadata": {},
   "outputs": [
    {
     "name": "stdout",
     "output_type": "stream",
     "text": [
      "hello worldtoo\n",
      "aaaaaaaaaa\n",
      "True False\n"
     ]
    }
   ],
   "source": [
    "# 字符串的运算\n",
    "print('hello world' + 'too')\n",
    "print('a'*10)\n",
    "print('h' in 'hello world\\n' ,'h'not in 'hello world')"
   ]
  },
  {
   "cell_type": "code",
   "execution_count": 14,
   "metadata": {},
   "outputs": [
    {
     "name": "stdout",
     "output_type": "stream",
     "text": [
      "5\n",
      "1234 10.29\n",
      "12345 200.812\n",
      "2000\n",
      "heLLo worLd\n",
      "['小明', '男', '设计师']\n"
     ]
    }
   ],
   "source": [
    "# 常用字符串的函数，方法\n",
    "print(len('12345')) # 求字符串的长度\n",
    "print(str(1234),str(10.29)) # str() 将数值型转换为浮点型\n",
    "print(int('12345'),float('200.812')) # int() / flaot() 将浮点型转换成字符串\n",
    "print(eval('100*20')) # eval() 执行括号中的内容\n",
    "\n",
    "var1 = 'hello world'\n",
    "print(var1.replace('l','L')) # .replace() 替换\n",
    "\n",
    "var2 = '小明,男,设计师'\n",
    "print(var2.split(',')) # .split() 分割 形成一个list"
   ]
  },
  {
   "cell_type": "code",
   "execution_count": 21,
   "metadata": {},
   "outputs": [
    {
     "name": "stdout",
     "output_type": "stream",
     "text": [
      "这个班上一个有10个人\n",
      "小明这次考了89.312000分\n",
      "小明这次考了89.31分\n",
      "听说城市数据团很溜\n"
     ]
    }
   ],
   "source": [
    "# 格式化字符串\n",
    "var1 = 10\n",
    "var2 = 89.312\n",
    "var3 = '城市数据团'\n",
    "print('这个班上一个有%i个人' % var1)\n",
    "print('小明这次考了%f分' % var2)\n",
    "print('小明这次考了%.2f分' % var2)\n",
    "print('听说%s很溜' % var3)"
   ]
  },
  {
   "cell_type": "markdown",
   "metadata": {},
   "source": [
    "4、序列：列表，元组\n",
    "* 序列是Python中最基本的数据结构\n",
    "* 序列中的每个元素都分配了一个数字，他的位置，也称为“索引”，第一个索引是0，第二个索引是1，一次类推\n",
    "* Python有6个序列的内置类型，但最常见的是列表和元组\n",
    "* \"\"其实字符串也是序列"
   ]
  },
  {
   "cell_type": "code",
   "execution_count": 2,
   "metadata": {},
   "outputs": [
    {
     "name": "stdout",
     "output_type": "stream",
     "text": [
      "[1, 2, 3, 4, 5]\n",
      "['a', 'b', 'c']\n",
      "[1, 2, 3, 'abc', [1, 2, 3, 4]]\n"
     ]
    }
   ],
   "source": [
    "# 列表用[]创建\n",
    "lst1 = [1,2,3,4,5]\n",
    "lst2 = ['a','b','c']\n",
    "lst3 = [1,2,3,'abc',[1,2,3,4]]\n",
    "print(lst1)\n",
    "print(lst2)\n",
    "print(lst3)"
   ]
  },
  {
   "cell_type": "code",
   "execution_count": 3,
   "metadata": {
    "scrolled": true
   },
   "outputs": [
    {
     "name": "stdout",
     "output_type": "stream",
     "text": [
      "[1, 2, 3, 4, 5, 6]\n",
      "[1, 2, 3, 1, 2, 3, 1, 2, 3]\n",
      "False\n",
      "5\n"
     ]
    }
   ],
   "source": [
    "# 列表运算\n",
    "print([1,2,3]+[4,5,6]) # 列表组合\n",
    "print([1,2,3]*3) # 列表重复\n",
    "print(5 in [2,3,4]) # 列表是否存在于表中\n",
    "print(len(lst3)) # 求列表长度"
   ]
  },
  {
   "cell_type": "code",
   "execution_count": 4,
   "metadata": {},
   "outputs": [
    {
     "name": "stdout",
     "output_type": "stream",
     "text": [
      "(1, 2, 3, 4, 5)\n",
      "('a', 'b', 'c', 'd')\n",
      "('abc', 123, 10.32, (1, 2, 3, 4))\n"
     ]
    }
   ],
   "source": [
    "# 元组用()创建\n",
    "# \"可变序列\":列表\n",
    "# \"不可变序列\":元组，字符串\n",
    "tup1 = (1,2,3,4,5)\n",
    "tup2 = 'a','b','c','d' # 注意，元组不需要括号也可以\n",
    "tup3 = ('abc',123,10.32,(1,2,3,4))\n",
    "print(tup1)\n",
    "print(tup2)\n",
    "print(tup3)"
   ]
  },
  {
   "cell_type": "code",
   "execution_count": null,
   "metadata": {},
   "outputs": [],
   "source": []
  }
 ],
 "metadata": {
  "kernelspec": {
   "display_name": "Python 3",
   "language": "python",
   "name": "python3"
  },
  "language_info": {
   "codemirror_mode": {
    "name": "ipython",
    "version": 3
   },
   "file_extension": ".py",
   "mimetype": "text/x-python",
   "name": "python",
   "nbconvert_exporter": "python",
   "pygments_lexer": "ipython3",
   "version": "3.7.3"
  }
 },
 "nbformat": 4,
 "nbformat_minor": 2
}
